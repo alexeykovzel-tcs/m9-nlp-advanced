{
 "cells": [
  {
   "cell_type": "markdown",
   "id": "422ffebd",
   "metadata": {},
   "source": [
    "# NLP - Embeddings, RNNs and LSTMs \n",
    "\n",
    "\n",
    "## Basic Assignment\n",
    "\n",
    "The notebook will help you practice Many-to-One RNN architecture, as well as Many-to-Many architectures.\n",
    "\n",
    "The regular part and the advanced part are included in two different notebooks.\n"
   ]
  },
  {
   "cell_type": "code",
   "execution_count": 136,
   "id": "b3243689",
   "metadata": {
    "ExecuteTime": {
     "end_time": "2023-10-13T15:32:12.408439283Z",
     "start_time": "2023-10-13T15:32:06.413995752Z"
    }
   },
   "outputs": [],
   "source": [
    "from sklearn.preprocessing import LabelEncoder\n",
    "from sklearn.preprocessing import OneHotEncoder\n",
    "from tqdm import tqdm\n",
    "import numpy as np\n",
    "import re\n",
    "from matplotlib import pyplot as plt\n",
    "from nltk.corpus import treebank\n",
    "from gensim.models import KeyedVectors\n",
    "from keras.preprocessing.text import Tokenizer\n",
    "from keras.preprocessing.sequence import pad_sequences\n",
    "from keras.utils import to_categorical\n",
    "from keras.models import Sequential\n",
    "from keras.layers import Embedding, Dense, Flatten\n",
    "from keras.layers import TimeDistributed\n",
    "from keras.layers import LSTM, GRU, SimpleRNN\n",
    "from keras.models import Model\n",
    "from sklearn.model_selection import train_test_split\n",
    "from sklearn.utils import shuffle\n",
    "import pandas as pd\n",
    "import nltk\n",
    "import tensorflow as tf"
   ]
  },
  {
   "cell_type": "code",
   "execution_count": 137,
   "id": "4296d3e0",
   "metadata": {
    "ExecuteTime": {
     "end_time": "2023-10-13T13:24:15.266741342Z",
     "start_time": "2023-10-13T13:24:15.247751571Z"
    }
   },
   "outputs": [
    {
     "name": "stdout",
     "output_type": "stream",
     "text": [
      "Num GPUs Available:  0\n"
     ]
    }
   ],
   "source": [
    "print(\"Num GPUs Available: \", len(tf.config.list_physical_devices('GPU')))"
   ]
  },
  {
   "cell_type": "markdown",
   "id": "b2fc9528",
   "metadata": {},
   "source": [
    "### Loading the dataset\n",
    "We will work on a binary classification problem. The dataset is of two classes SPAM and NOT SPAM. "
   ]
  },
  {
   "cell_type": "code",
   "execution_count": 138,
   "id": "543a8a42",
   "metadata": {},
   "outputs": [],
   "source": [
    "dataset=pd.read_csv(\"spam.csv\", encoding='ISO-8859-1')"
   ]
  },
  {
   "cell_type": "code",
   "execution_count": 139,
   "id": "89382459",
   "metadata": {},
   "outputs": [],
   "source": [
    "X=dataset.v2"
   ]
  },
  {
   "cell_type": "code",
   "execution_count": 140,
   "id": "e5c2f022",
   "metadata": {},
   "outputs": [],
   "source": [
    "y=dataset.v1"
   ]
  },
  {
   "cell_type": "markdown",
   "id": "431bbc36",
   "metadata": {},
   "source": [
    "### Exercise 1\n",
    "Reuse your to_lower(X) function from the NLP basic lab, and the clean_text(X) function to lower case all documents in the dataset and then remove all numerical and special characters from the dataset."
   ]
  },
  {
   "cell_type": "code",
   "execution_count": 141,
   "id": "c6acd618",
   "metadata": {},
   "outputs": [],
   "source": [
    "def to_lower(dataframe):\n",
    "    return dataframe.map(lambda row: row.lower())\n",
    "\n",
    "def clean_text(dataframe):\n",
    "    pattern = r'[^a-z\\s]'\n",
    "    return dataframe.map(lambda row: re.sub(pattern, '', row))\n",
    "\n",
    "X = to_lower(X)\n",
    "X = clean_text(X)"
   ]
  },
  {
   "cell_type": "markdown",
   "id": "25566af1",
   "metadata": {},
   "source": [
    "### Exercise 2 \n",
    "Create the ground truth vector **y** for the binary classification.\n",
    "Check that the **y** vector is of shape(ne,1)."
   ]
  },
  {
   "cell_type": "code",
   "execution_count": 142,
   "id": "cc53266d",
   "metadata": {},
   "outputs": [],
   "source": [
    "label_encoder = LabelEncoder()\n",
    "label_encoder.fit([\"spam\", \"ham\"])\n",
    "y = label_encoder.transform(y)"
   ]
  },
  {
   "cell_type": "code",
   "execution_count": 143,
   "id": "52b2d2ef",
   "metadata": {},
   "outputs": [
    {
     "data": {
      "text/plain": [
       "array([0, 0, 1, ..., 0, 0, 0])"
      ]
     },
     "execution_count": 143,
     "metadata": {},
     "output_type": "execute_result"
    }
   ],
   "source": [
    "y"
   ]
  },
  {
   "cell_type": "markdown",
   "id": "a57842f9",
   "metadata": {},
   "source": [
    "### Exercise 3\n",
    "Use Keras' Tokenizer class to vectorize the corpus. \n",
    "What we expect here is that the tokens will be encoded as integers.\n",
    "\n",
    "\n",
    "Notice that tokenizing here is different from the tokenization process discussed in the basic lecture."
   ]
  },
  {
   "cell_type": "code",
   "execution_count": 144,
   "id": "b9799596",
   "metadata": {},
   "outputs": [],
   "source": [
    "vocab_size = 10000\n",
    "input_size = 500\n",
    "\n",
    "tokenizer = Tokenizer(num_words=vocab_size)\n",
    "tokenizer.fit_on_texts(X)\n",
    "X_encoded = tokenizer.texts_to_sequences(X)"
   ]
  },
  {
   "cell_type": "code",
   "execution_count": 145,
   "id": "4fb1a413",
   "metadata": {},
   "outputs": [
    {
     "name": "stdout",
     "output_type": "stream",
     "text": [
      "just forced myself to eat a slice im really not hungry tho this sucks mark is getting worried he knows im sick when i turn down pizza lol\n",
      "[36, 3982, 934, 1, 310, 4, 2715, 22, 146, 24, 735, 633, 39, 1218, 1107, 9, 242, 1015, 70, 935, 22, 1016, 43, 2, 1766, 223, 1108, 175]\n"
     ]
    }
   ],
   "source": [
    "i=25\n",
    "print(X[i])\n",
    "print(X_encoded[i])"
   ]
  },
  {
   "cell_type": "markdown",
   "id": "c80383b8",
   "metadata": {},
   "source": [
    "### Exercise 4\n",
    "Whether we work with an RNN cell, an LSTM or a GRU cell, we want first to know how many times should we unroll the network. This will be referred to as 'time_steps'.\n",
    "\n",
    "\n",
    "In this exercise, the goal is to check the lengths of our documents, and then choose a fixed length for all our documents. \n",
    "\n",
    "Documents which are shorter than the length you fixed will be padded with 0s.\n",
    "\n",
    "Documents which are longer will be truncated. \n"
   ]
  },
  {
   "cell_type": "markdown",
   "id": "8c64907b",
   "metadata": {},
   "source": [
    "a. Check the length of the largest document in the corpus"
   ]
  },
  {
   "cell_type": "code",
   "execution_count": 146,
   "id": "51b98261",
   "metadata": {
    "scrolled": false
   },
   "outputs": [
    {
     "data": {
      "text/plain": [
       "888"
      ]
     },
     "execution_count": 146,
     "metadata": {},
     "output_type": "execute_result"
    }
   ],
   "source": [
    "lengths = [len(x) for x in X]\n",
    "max_len = max(lengths)\n",
    "max_len"
   ]
  },
  {
   "cell_type": "markdown",
   "id": "086b70c1",
   "metadata": {},
   "source": [
    "b. Check the average count of words in all documents"
   ]
  },
  {
   "cell_type": "code",
   "execution_count": 147,
   "id": "88653455",
   "metadata": {},
   "outputs": [
    {
     "name": "stdout",
     "output_type": "stream",
     "text": [
      "Average word count in our documents is 73\n"
     ]
    }
   ],
   "source": [
    "print(\"Average word count in our documents is\", int(sum(lengths)/len(lengths)))"
   ]
  },
  {
   "cell_type": "markdown",
   "id": "d3700635",
   "metadata": {},
   "source": [
    "Quite a distance between the average length and longest document. It's probably worth it to check the lengths in a box plot."
   ]
  },
  {
   "cell_type": "code",
   "execution_count": 148,
   "id": "30915295",
   "metadata": {
    "scrolled": true
   },
   "outputs": [
    {
     "data": {
      "image/png": "[encoded data removed]",
      "text/plain": [
       "<Figure size 640x480 with 1 Axes>"
      ]
     },
     "metadata": {},
     "output_type": "display_data"
    }
   ],
   "source": [
    "plt.boxplot(lengths)\n",
    "plt.show()"
   ]
  },
  {
   "cell_type": "markdown",
   "id": "b7b633bd",
   "metadata": {},
   "source": [
    "### Exercise 5\n",
    "\n",
    "Hopefully, you have chosen a value for the max doc length (which will serve as your time_steps value when you build your RNN)."
   ]
  },
  {
   "cell_type": "markdown",
   "id": "5bb6fb3e",
   "metadata": {},
   "source": [
    "We can now proceed to use the pad_sequences() method of Keras to pad our sequences, check [here](https://www.tensorflow.org/api_docs/python/tf/keras/utils/pad_sequences).\n",
    "\n",
    "Sentences longer than **n** will be truncated (you can choose to keep the first **n** words or the last).\n",
    "Sentences shorter than **n** will be padded with 0."
   ]
  },
  {
   "cell_type": "code",
   "execution_count": 149,
   "id": "c4673535",
   "metadata": {},
   "outputs": [],
   "source": [
    "X_padded = pad_sequences(X_encoded, maxlen=input_size)"
   ]
  },
  {
   "cell_type": "code",
   "execution_count": 150,
   "id": "158ea7be",
   "metadata": {
    "scrolled": false
   },
   "outputs": [
    {
     "name": "stdout",
     "output_type": "stream",
     "text": [
      "natalja f is inviting you to be her friend reply yes or no see her wwwsmsacunat stop send stop frnd to \n",
      "[3883, 789, 9, 1377, 3, 1, 31, 105, 260, 88, 140, 26, 37, 80, 105, 3884, 84, 68, 84, 682, 1]\n",
      "[   0    0    0    0    0    0    0    0    0    0    0    0    0    0\n",
      "    0    0    0    0    0    0    0    0    0    0    0    0    0    0\n",
      "    0    0    0    0    0    0    0    0    0    0    0    0    0    0\n",
      "    0    0    0    0    0    0    0    0    0    0    0    0    0    0\n",
      "    0    0    0    0    0    0    0    0    0    0    0    0    0    0\n",
      "    0    0    0    0    0    0    0    0    0    0    0    0    0    0\n",
      "    0    0    0    0    0    0    0    0    0    0    0    0    0    0\n",
      "    0    0    0    0    0    0    0    0    0    0    0    0    0    0\n",
      "    0    0    0    0    0    0    0    0    0    0    0    0    0    0\n",
      "    0    0    0    0    0    0    0    0    0    0    0    0    0    0\n",
      "    0    0    0    0    0    0    0    0    0    0    0    0    0    0\n",
      "    0    0    0    0    0    0    0    0    0    0    0    0    0    0\n",
      "    0    0    0    0    0    0    0    0    0    0    0    0    0    0\n",
      "    0    0    0    0    0    0    0    0    0    0    0    0    0    0\n",
      "    0    0    0    0    0    0    0    0    0    0    0    0    0    0\n",
      "    0    0    0    0    0    0    0    0    0    0    0    0    0    0\n",
      "    0    0    0    0    0    0    0    0    0    0    0    0    0    0\n",
      "    0    0    0    0    0    0    0    0    0    0    0    0    0    0\n",
      "    0    0    0    0    0    0    0    0    0    0    0    0    0    0\n",
      "    0    0    0    0    0    0    0    0    0    0    0    0    0    0\n",
      "    0    0    0    0    0    0    0    0    0    0    0    0    0    0\n",
      "    0    0    0    0    0    0    0    0    0    0    0    0    0    0\n",
      "    0    0    0    0    0    0    0    0    0    0    0    0    0    0\n",
      "    0    0    0    0    0    0    0    0    0    0    0    0    0    0\n",
      "    0    0    0    0    0    0    0    0    0    0    0    0    0    0\n",
      "    0    0    0    0    0    0    0    0    0    0    0    0    0    0\n",
      "    0    0    0    0    0    0    0    0    0    0    0    0    0    0\n",
      "    0    0    0    0    0    0    0    0    0    0    0    0    0    0\n",
      "    0    0    0    0    0    0    0    0    0    0    0    0    0    0\n",
      "    0    0    0    0    0    0    0    0    0    0    0    0    0    0\n",
      "    0    0    0    0    0    0    0    0    0    0    0    0    0    0\n",
      "    0    0    0    0    0    0    0    0    0    0    0    0    0    0\n",
      "    0    0    0    0    0    0    0    0    0    0    0    0    0    0\n",
      "    0    0    0    0    0    0    0    0    0    0    0    0    0    0\n",
      "    0    0    0 3883  789    9 1377    3    1   31  105  260   88  140\n",
      "   26   37   80  105 3884   84   68   84  682    1]\n",
      "1\n"
     ]
    }
   ],
   "source": [
    "i=5214\n",
    "print(X[i])\n",
    "print(X_encoded[i])\n",
    "print(X_padded[i])\n",
    "print(y[i])"
   ]
  },
  {
   "cell_type": "markdown",
   "id": "20a2545b",
   "metadata": {},
   "source": [
    "### Exercise 6\n",
    "\n",
    "We can now proceed to pass our padded sequences and our **y** vector to an RNN model for training.\n",
    "Let's first define a simple RNN model."
   ]
  },
  {
   "cell_type": "code",
   "execution_count": 151,
   "id": "16c74ce8",
   "metadata": {},
   "outputs": [],
   "source": [
    "# split entire data into training and testing sets\n",
    "TEST_SIZE = 0.25\n",
    "X_train, X_test, y_train, y_test = train_test_split(X_padded, y, test_size=TEST_SIZE, random_state=100)"
   ]
  },
  {
   "cell_type": "markdown",
   "id": "6e3753cd",
   "metadata": {},
   "source": [
    "**Do check the size of the vocab, needed for the rest of the exercises.**\n",
    "\n",
    "This dataset was chosen particularly for its small vocab size."
   ]
  },
  {
   "cell_type": "markdown",
   "id": "e674e711",
   "metadata": {},
   "source": [
    "### Exercise7\n",
    "\n",
    "Let's first try a classification task using basic RNN cells.\n",
    "\n",
    "You're free to define the number of units and layers as you see fit.\n",
    "\n",
    "a. Define the architecture of your model and print its summary."
   ]
  },
  {
   "cell_type": "code",
   "execution_count": 152,
   "id": "8f102e33",
   "metadata": {},
   "outputs": [],
   "source": [
    "embedding_dim = 32\n",
    "\n",
    "def build_model(inner_layer):\n",
    "    model = Sequential()\n",
    "    model.add(Embedding(input_dim=vocab_size, output_dim=embedding_dim, input_length=input_size))\n",
    "    model.add(inner_layer)\n",
    "    model.add(Dense(1, activation='sigmoid'))\n",
    "    model.summary()\n",
    "    return model\n",
    "\n",
    "def compile_model(model):\n",
    "    model.compile(loss='binary_crossentropy', optimizer='rmsprop', metrics=['acc'])\n",
    "\n",
    "def train_model(model):\n",
    "    return model.fit(X_train, y_train, epochs=10, batch_size=128, validation_data=(X_test, y_test))"
   ]
  },
  {
   "cell_type": "code",
   "execution_count": 153,
   "id": "00da97bf",
   "metadata": {
    "scrolled": false
   },
   "outputs": [
    {
     "name": "stdout",
     "output_type": "stream",
     "text": [
      "Model: \"sequential_9\"\n",
      "_________________________________________________________________\n",
      " Layer (type)                Output Shape              Param #   \n",
      "=================================================================\n",
      " embedding_9 (Embedding)     (None, 500, 32)           320000    \n",
      "                                                                 \n",
      " simple_rnn_5 (SimpleRNN)    (None, 32)                2080      \n",
      "                                                                 \n",
      " dense_12 (Dense)            (None, 1)                 33        \n",
      "                                                                 \n",
      "=================================================================\n",
      "Total params: 322113 (1.23 MB)\n",
      "Trainable params: 322113 (1.23 MB)\n",
      "Non-trainable params: 0 (0.00 Byte)\n",
      "_________________________________________________________________\n"
     ]
    }
   ],
   "source": [
    "model = build_model(SimpleRNN(embedding_dim))"
   ]
  },
  {
   "cell_type": "markdown",
   "id": "c08ad6c0",
   "metadata": {},
   "source": [
    "b. Compile your model. \n",
    "\n",
    "Use the loss function and the optimizer you want, you don't have to use binary_cross entropy and stochastic gradient descent."
   ]
  },
  {
   "cell_type": "code",
   "execution_count": 154,
   "id": "9ac7013b",
   "metadata": {},
   "outputs": [],
   "source": [
    "compile_model(model)"
   ]
  },
  {
   "cell_type": "markdown",
   "id": "abc353be",
   "metadata": {},
   "source": [
    "c. Train your model"
   ]
  },
  {
   "cell_type": "code",
   "execution_count": 155,
   "id": "39d76b6f",
   "metadata": {
    "scrolled": false
   },
   "outputs": [
    {
     "name": "stdout",
     "output_type": "stream",
     "text": [
      "Epoch 1/10\n",
      " 7/33 [=====>........................] - ETA: 1s - loss: 0.5000 - acc: 0.7812"
     ]
    },
    {
     "name": "stdout",
     "output_type": "stream",
     "text": [
      "33/33 [==============================] - 4s 85ms/step - loss: 0.4015 - acc: 0.8469 - val_loss: 0.2610 - val_acc: 0.9282\n",
      "Epoch 2/10\n",
      "33/33 [==============================] - 2s 76ms/step - loss: 0.1712 - acc: 0.9564 - val_loss: 0.1022 - val_acc: 0.9777\n",
      "Epoch 3/10\n",
      "33/33 [==============================] - 2s 75ms/step - loss: 0.0836 - acc: 0.9789 - val_loss: 0.1018 - val_acc: 0.9655\n",
      "Epoch 4/10\n",
      "33/33 [==============================] - 2s 75ms/step - loss: 0.0563 - acc: 0.9837 - val_loss: 0.0827 - val_acc: 0.9799\n",
      "Epoch 5/10\n",
      "33/33 [==============================] - 2s 75ms/step - loss: 0.0467 - acc: 0.9866 - val_loss: 0.0643 - val_acc: 0.9821\n",
      "Epoch 6/10\n",
      "33/33 [==============================] - 3s 76ms/step - loss: 0.0653 - acc: 0.9775 - val_loss: 0.0786 - val_acc: 0.9770\n",
      "Epoch 7/10\n",
      "33/33 [==============================] - 3s 77ms/step - loss: 0.0382 - acc: 0.9892 - val_loss: 0.0667 - val_acc: 0.9821\n",
      "Epoch 8/10\n",
      "33/33 [==============================] - 2s 74ms/step - loss: 0.0346 - acc: 0.9897 - val_loss: 0.0672 - val_acc: 0.9835\n",
      "Epoch 9/10\n",
      "33/33 [==============================] - 2s 75ms/step - loss: 0.0257 - acc: 0.9938 - val_loss: 0.0589 - val_acc: 0.9842\n",
      "Epoch 10/10\n",
      "33/33 [==============================] - 3s 78ms/step - loss: 0.0215 - acc: 0.9947 - val_loss: 0.0536 - val_acc: 0.9842\n"
     ]
    }
   ],
   "source": [
    "m_history = train_model(model)"
   ]
  },
  {
   "cell_type": "code",
   "execution_count": 156,
   "id": "03693225",
   "metadata": {
    "scrolled": true
   },
   "outputs": [
    {
     "data": {
      "image/png": "[encoded data removed]",
      "text/plain": [
       "<Figure size 640x480 with 1 Axes>"
      ]
     },
     "metadata": {},
     "output_type": "display_data"
    }
   ],
   "source": [
    "# visualise training history\n",
    "plt.plot(m_history.history['acc'])\n",
    "plt.plot(model.history.history['val_acc'])\n",
    "plt.title('model accuracy')\n",
    "plt.ylabel('accuracy')\n",
    "plt.xlabel('epoch')\n",
    "plt.ylim(0,1)\n",
    "plt.legend(['train', 'test'], loc=\"lower right\")\n",
    "plt.show()"
   ]
  },
  {
   "cell_type": "markdown",
   "id": "983117a4",
   "metadata": {},
   "source": [
    "### Exercise 8\n",
    "Try to perform the same classification task using an LSTM architecture.\n",
    "\n",
    "a. Define the architecture of your model and print its summary."
   ]
  },
  {
   "cell_type": "code",
   "execution_count": 157,
   "id": "974cb3b6",
   "metadata": {},
   "outputs": [
    {
     "name": "stdout",
     "output_type": "stream",
     "text": [
      "Model: \"sequential_10\"\n",
      "_________________________________________________________________\n",
      " Layer (type)                Output Shape              Param #   \n",
      "=================================================================\n",
      " embedding_10 (Embedding)    (None, 500, 32)           320000    \n",
      "                                                                 \n",
      " lstm_2 (LSTM)               (None, 32)                8320      \n",
      "                                                                 \n",
      " dense_13 (Dense)            (None, 1)                 33        \n",
      "                                                                 \n",
      "=================================================================\n",
      "Total params: 328353 (1.25 MB)\n",
      "Trainable params: 328353 (1.25 MB)\n",
      "Non-trainable params: 0 (0.00 Byte)\n",
      "_________________________________________________________________\n"
     ]
    }
   ],
   "source": [
    "model = build_model(LSTM(embedding_dim))"
   ]
  },
  {
   "cell_type": "markdown",
   "id": "d259dfe5",
   "metadata": {},
   "source": [
    "b. compile your model."
   ]
  },
  {
   "cell_type": "code",
   "execution_count": 158,
   "id": "3754d5af",
   "metadata": {},
   "outputs": [],
   "source": [
    "compile_model(model)"
   ]
  },
  {
   "cell_type": "markdown",
   "id": "e54db6c5",
   "metadata": {},
   "source": [
    "c. Train your model."
   ]
  },
  {
   "cell_type": "code",
   "execution_count": 159,
   "id": "1311daf8",
   "metadata": {
    "scrolled": true
   },
   "outputs": [
    {
     "name": "stdout",
     "output_type": "stream",
     "text": [
      "Epoch 1/10\n"
     ]
    },
    {
     "name": "stdout",
     "output_type": "stream",
     "text": [
      "33/33 [==============================] - 7s 169ms/step - loss: 0.4347 - acc: 0.8521 - val_loss: 0.3249 - val_acc: 0.8722\n",
      "Epoch 2/10\n",
      "33/33 [==============================] - 6s 187ms/step - loss: 0.2515 - acc: 0.8964 - val_loss: 0.1724 - val_acc: 0.9311\n",
      "Epoch 3/10\n",
      "33/33 [==============================] - 6s 181ms/step - loss: 0.1415 - acc: 0.9643 - val_loss: 0.1115 - val_acc: 0.9813\n",
      "Epoch 4/10\n",
      "33/33 [==============================] - 6s 184ms/step - loss: 0.0906 - acc: 0.9806 - val_loss: 0.0731 - val_acc: 0.9828\n",
      "Epoch 5/10\n",
      "33/33 [==============================] - 6s 184ms/step - loss: 0.0650 - acc: 0.9837 - val_loss: 0.0608 - val_acc: 0.9856\n",
      "Epoch 6/10\n",
      "33/33 [==============================] - 6s 189ms/step - loss: 0.0502 - acc: 0.9878 - val_loss: 0.0568 - val_acc: 0.9856\n",
      "Epoch 7/10\n",
      "33/33 [==============================] - 6s 186ms/step - loss: 0.0385 - acc: 0.9909 - val_loss: 0.0760 - val_acc: 0.9785\n",
      "Epoch 8/10\n",
      "33/33 [==============================] - 6s 182ms/step - loss: 0.0317 - acc: 0.9916 - val_loss: 0.0532 - val_acc: 0.9856\n",
      "Epoch 9/10\n",
      "33/33 [==============================] - 6s 185ms/step - loss: 0.0256 - acc: 0.9943 - val_loss: 0.0500 - val_acc: 0.9892\n",
      "Epoch 10/10\n",
      "33/33 [==============================] - 6s 183ms/step - loss: 0.0215 - acc: 0.9950 - val_loss: 0.0489 - val_acc: 0.9864\n"
     ]
    }
   ],
   "source": [
    "m_history = train_model(model)"
   ]
  },
  {
   "cell_type": "code",
   "execution_count": 160,
   "id": "bcad9c8a",
   "metadata": {},
   "outputs": [
    {
     "data": {
      "image/png": "[encoded data removed]",
      "text/plain": [
       "<Figure size 640x480 with 1 Axes>"
      ]
     },
     "metadata": {},
     "output_type": "display_data"
    }
   ],
   "source": [
    "# visualise training history\n",
    "plt.plot(m_history.history['acc'])\n",
    "plt.plot(model.history.history['val_acc'])\n",
    "plt.title('model accuracy')\n",
    "plt.ylabel('accuracy')\n",
    "plt.xlabel('epoch')\n",
    "plt.legend(['train', 'test'], loc=\"lower right\")\n",
    "plt.show()"
   ]
  },
  {
   "cell_type": "markdown",
   "id": "1a6f315a",
   "metadata": {},
   "source": [
    "### Exercise 9\n",
    "\n",
    "Let's now see whether we get different results using a GRU cell.\n",
    "\n",
    "a. Define the architecture of your model and print its summary."
   ]
  },
  {
   "cell_type": "code",
   "execution_count": 161,
   "id": "daef7915",
   "metadata": {},
   "outputs": [
    {
     "name": "stdout",
     "output_type": "stream",
     "text": [
      "Model: \"sequential_11\"\n",
      "_________________________________________________________________\n",
      " Layer (type)                Output Shape              Param #   \n",
      "=================================================================\n",
      " embedding_11 (Embedding)    (None, 500, 32)           320000    \n",
      "                                                                 \n",
      " gru_2 (GRU)                 (None, 32)                6336      \n",
      "                                                                 \n",
      " dense_14 (Dense)            (None, 1)                 33        \n",
      "                                                                 \n",
      "=================================================================\n",
      "Total params: 326369 (1.24 MB)\n",
      "Trainable params: 326369 (1.24 MB)\n",
      "Non-trainable params: 0 (0.00 Byte)\n",
      "_________________________________________________________________\n"
     ]
    }
   ],
   "source": [
    "model = build_model(GRU(embedding_dim))"
   ]
  },
  {
   "cell_type": "markdown",
   "id": "2a9b1b39",
   "metadata": {},
   "source": [
    "b. Compile your model"
   ]
  },
  {
   "cell_type": "code",
   "execution_count": 162,
   "id": "2edfa5e7",
   "metadata": {},
   "outputs": [],
   "source": [
    "compile_model(model)"
   ]
  },
  {
   "cell_type": "markdown",
   "id": "8bc1d828",
   "metadata": {},
   "source": [
    "c. Train your model"
   ]
  },
  {
   "cell_type": "code",
   "execution_count": 163,
   "id": "76a16eb6",
   "metadata": {
    "scrolled": true
   },
   "outputs": [
    {
     "name": "stdout",
     "output_type": "stream",
     "text": [
      "Epoch 1/10\n"
     ]
    },
    {
     "name": "stdout",
     "output_type": "stream",
     "text": [
      "33/33 [==============================] - 9s 220ms/step - loss: 0.5074 - acc: 0.8562 - val_loss: 0.3221 - val_acc: 0.8722\n",
      "Epoch 2/10\n",
      "33/33 [==============================] - 7s 222ms/step - loss: 0.2509 - acc: 0.8804 - val_loss: 0.1544 - val_acc: 0.9332\n",
      "Epoch 3/10\n",
      "33/33 [==============================] - 7s 206ms/step - loss: 0.1181 - acc: 0.9653 - val_loss: 0.0789 - val_acc: 0.9756\n",
      "Epoch 4/10\n",
      "33/33 [==============================] - 7s 211ms/step - loss: 0.0675 - acc: 0.9816 - val_loss: 0.0559 - val_acc: 0.9864\n",
      "Epoch 5/10\n",
      "33/33 [==============================] - 7s 203ms/step - loss: 0.0458 - acc: 0.9892 - val_loss: 0.0522 - val_acc: 0.9878\n",
      "Epoch 6/10\n",
      "33/33 [==============================] - 7s 199ms/step - loss: 0.0345 - acc: 0.9916 - val_loss: 0.0529 - val_acc: 0.9885\n",
      "Epoch 7/10\n",
      "33/33 [==============================] - 6s 196ms/step - loss: 0.0277 - acc: 0.9940 - val_loss: 0.0498 - val_acc: 0.9878\n",
      "Epoch 8/10\n",
      "33/33 [==============================] - 5s 162ms/step - loss: 0.0213 - acc: 0.9955 - val_loss: 0.0530 - val_acc: 0.9849\n",
      "Epoch 9/10\n",
      "33/33 [==============================] - 5s 161ms/step - loss: 0.0177 - acc: 0.9959 - val_loss: 0.0742 - val_acc: 0.9727\n",
      "Epoch 10/10\n",
      "33/33 [==============================] - 6s 175ms/step - loss: 0.0148 - acc: 0.9976 - val_loss: 0.0486 - val_acc: 0.9892\n"
     ]
    }
   ],
   "source": [
    "m_history = train_model(model)"
   ]
  },
  {
   "cell_type": "code",
   "execution_count": 164,
   "id": "b9aa9c9e",
   "metadata": {},
   "outputs": [
    {
     "data": {
      "image/png": "[encoded data removed]",
      "text/plain": [
       "<Figure size 640x480 with 1 Axes>"
      ]
     },
     "metadata": {},
     "output_type": "display_data"
    }
   ],
   "source": [
    "# visualise training history\n",
    "plt.plot(m_history.history['acc'])\n",
    "plt.plot(model.history.history['val_acc'])\n",
    "plt.title('model accuracy')\n",
    "plt.ylabel('accuracy')\n",
    "plt.xlabel('epoch')\n",
    "plt.legend(['train', 'test'], loc=\"lower right\")\n",
    "plt.show()"
   ]
  },
  {
   "cell_type": "markdown",
   "id": "62e0bdef",
   "metadata": {},
   "source": [
    "### Exercise 10\n",
    "It's now time to try training our model using pretrained word embeddings."
   ]
  },
  {
   "cell_type": "markdown",
   "id": "fcf3aea7",
   "metadata": {},
   "source": [
    "a. First, get the pretrained word embeddings of your choice, you can get;\n",
    "\n",
    "1. You can get Google word2vec from [here](https://code.google.com/archive/p/word2vec/), these embeddings are vectors of size 300\n",
    "2. You can get Stanford's GloVe embeddings from [here](https://nlp.stanford.edu/projects/glove/), you are offered a choice between embedding vectors of sizes 40, 50, 100, 200 and 300"
   ]
  },
  {
   "cell_type": "markdown",
   "id": "42fe6357",
   "metadata": {},
   "source": [
    "a. Use the Gensim library to load your embeddings\n",
    "\n",
    "Feel free to use other libraries also."
   ]
  },
  {
   "cell_type": "code",
   "execution_count": 182,
   "id": "414e5156",
   "metadata": {},
   "outputs": [],
   "source": [
    "from gensim.test.utils import common_texts\n",
    "from gensim.models import Word2Vec\n",
    "\n",
    "model = Word2Vec(sentences=common_texts, vector_size=input_size, window=5, min_count=1, workers=4)\n",
    "model.save(\"word2vec.model\")"
   ]
  },
  {
   "cell_type": "markdown",
   "id": "5454fe31",
   "metadata": {},
   "source": [
    "b. If you work with embeddings of size 300 for example, then create a matrix **embeddings**. The shape of the matrix is (vocab_size, embedding_size=300). Each row corresponds to the embeddings of one word in your vocab."
   ]
  },
  {
   "cell_type": "code",
   "execution_count": 166,
   "id": "86a55ccc",
   "metadata": {},
   "outputs": [],
   "source": [
    "model."
   ]
  },
  {
   "cell_type": "markdown",
   "id": "89ccda68",
   "metadata": {},
   "source": [
    "c. Print the embedding_weights shape"
   ]
  },
  {
   "cell_type": "code",
   "execution_count": 167,
   "id": "59dd1a2b",
   "metadata": {},
   "outputs": [],
   "source": [
    "#Add your code here"
   ]
  },
  {
   "cell_type": "markdown",
   "id": "45a81a22",
   "metadata": {},
   "source": [
    "### Exercise 11\n",
    "Let's now retrain our models, Simple RNN, LSTM and GRU using these embeddings.\n",
    "\n",
    "Let's start by doing it for RNN again.\n",
    "\n",
    "Define the architecture of your model again, show its summary, compile it and train it."
   ]
  },
  {
   "cell_type": "code",
   "execution_count": 168,
   "id": "062195b7",
   "metadata": {},
   "outputs": [],
   "source": [
    "#Add your code here"
   ]
  },
  {
   "cell_type": "code",
   "execution_count": 169,
   "id": "6c3cfa66",
   "metadata": {},
   "outputs": [],
   "source": [
    "#Add your code here"
   ]
  },
  {
   "cell_type": "code",
   "execution_count": 170,
   "id": "13e64f53",
   "metadata": {},
   "outputs": [],
   "source": [
    "#Add your code here"
   ]
  },
  {
   "cell_type": "code",
   "execution_count": 171,
   "id": "6d185eb4",
   "metadata": {},
   "outputs": [
    {
     "data": {
      "image/png": "[encoded data removed]",
      "text/plain": [
       "<Figure size 640x480 with 1 Axes>"
      ]
     },
     "metadata": {},
     "output_type": "display_data"
    }
   ],
   "source": [
    "# visualise training history\n",
    "plt.plot(m_history.history['acc'])\n",
    "plt.plot(model.history.history['val_acc'])\n",
    "plt.title('model accuracy')\n",
    "plt.ylabel('accuracy')\n",
    "plt.xlabel('epoch')\n",
    "plt.legend(['train', 'test'], loc=\"lower right\")\n",
    "plt.show()"
   ]
  },
  {
   "cell_type": "markdown",
   "id": "22dcb3cb",
   "metadata": {},
   "source": [
    "### Exercise 12\n",
    "\n",
    "Let's now retrain the model with LSTM architecture.\n",
    "\n",
    "Define the architecture of your model again, show its summary, compile it and train it."
   ]
  },
  {
   "cell_type": "code",
   "execution_count": 172,
   "id": "41200243",
   "metadata": {},
   "outputs": [],
   "source": [
    "#Add your code here"
   ]
  },
  {
   "cell_type": "code",
   "execution_count": 173,
   "id": "3f3c259e",
   "metadata": {},
   "outputs": [],
   "source": [
    "#Add your code here"
   ]
  },
  {
   "cell_type": "code",
   "execution_count": 174,
   "id": "e1813cdc",
   "metadata": {},
   "outputs": [],
   "source": [
    "#Add your code here"
   ]
  },
  {
   "cell_type": "code",
   "execution_count": 175,
   "id": "27d8c3d0",
   "metadata": {},
   "outputs": [
    {
     "data": {
      "image/png": "[encoded data removed]",
      "text/plain": [
       "<Figure size 640x480 with 1 Axes>"
      ]
     },
     "metadata": {},
     "output_type": "display_data"
    }
   ],
   "source": [
    "# visualise training history\n",
    "plt.plot(m_history.history['acc'])\n",
    "plt.plot(model.history.history['val_acc'])\n",
    "plt.title('model accuracy')\n",
    "plt.ylabel('accuracy')\n",
    "plt.xlabel('epoch')\n",
    "plt.legend(['train', 'test'], loc=\"lower right\")\n",
    "plt.show()"
   ]
  },
  {
   "cell_type": "markdown",
   "id": "55b3498c",
   "metadata": {},
   "source": [
    "### Exercise 13\n",
    "\n",
    "Let's now retrain the model with GRU architecture.\n",
    "\n",
    "Define the architecture of your model again, show its summary, compile it and train it."
   ]
  },
  {
   "cell_type": "code",
   "execution_count": 176,
   "id": "2a54091f",
   "metadata": {},
   "outputs": [],
   "source": [
    "#Add your code here"
   ]
  },
  {
   "cell_type": "code",
   "execution_count": 177,
   "id": "18ea0729",
   "metadata": {},
   "outputs": [],
   "source": [
    "#Add your code here"
   ]
  },
  {
   "cell_type": "code",
   "execution_count": 178,
   "id": "2be10bce",
   "metadata": {},
   "outputs": [],
   "source": [
    "#Add your code here"
   ]
  },
  {
   "cell_type": "code",
   "execution_count": 179,
   "id": "f0b7758a",
   "metadata": {},
   "outputs": [
    {
     "data": {
      "image/png": "[encoded data removed]",
      "text/plain": [
       "<Figure size 640x480 with 1 Axes>"
      ]
     },
     "metadata": {},
     "output_type": "display_data"
    }
   ],
   "source": [
    "# visualise training history\n",
    "plt.plot(m_history.history['acc'])\n",
    "plt.plot(model.history.history['val_acc'])\n",
    "plt.title('model accuracy')\n",
    "plt.ylabel('accuracy')\n",
    "plt.xlabel('epoch')\n",
    "plt.legend(['train', 'test'], loc=\"lower right\")\n",
    "plt.show()"
   ]
  },
  {
   "cell_type": "markdown",
   "id": "5111c546",
   "metadata": {},
   "source": [
    "### Exercise 14\n",
    "\n",
    "By now, hopefully the many-to-one RNN type makes sense. Let's now try a diffrent type, many-to-many.\n",
    "\n",
    "We wish to build our own POS tagger. Recall how POS tags help us understand a first layer of the syntactic structure of a given sentence. \n",
    "\n",
    "There are various ways with which you can build a POS tagger. A rule-based one, a probabilistic one, using Hidden Markov Models (HMMs). There's also an option to build a statistical model to learn a POS tagger. \n",
    "\n",
    "We'll try the statistical approach. The training data is abundant, available through NLTK even.\n",
    "\n",
    "We'll first acquire the TreeBank dataset."
   ]
  },
  {
   "cell_type": "code",
   "execution_count": 180,
   "id": "c78064c8",
   "metadata": {},
   "outputs": [],
   "source": [
    "#You might need to download the dataset first\n",
    "#nltk.download('treebank')"
   ]
  },
  {
   "cell_type": "code",
   "execution_count": 181,
   "id": "c5716de2",
   "metadata": {},
   "outputs": [
    {
     "ename": "LookupError",
     "evalue": "\n**********************************************************************\n  Resource \u001b[93mtreebank\u001b[0m not found.\n  Please use the NLTK Downloader to obtain the resource:\n\n  \u001b[31m>>> import nltk\n  >>> nltk.download('treebank')\n  \u001b[0m\n  For more information see: https://www.nltk.org/data.html\n\n  Attempted to load \u001b[93mcorpora/treebank/combined\u001b[0m\n\n  Searched in:\n    - '/home/alexeykovzel/nltk_data'\n    - '/home/alexeykovzel/Downloads/NLP Advanced Lab/venv/nltk_data'\n    - '/home/alexeykovzel/Downloads/NLP Advanced Lab/venv/share/nltk_data'\n    - '/home/alexeykovzel/Downloads/NLP Advanced Lab/venv/lib/nltk_data'\n    - '/usr/share/nltk_data'\n    - '/usr/local/share/nltk_data'\n    - '/usr/lib/nltk_data'\n    - '/usr/local/lib/nltk_data'\n**********************************************************************\n",
     "output_type": "error",
     "traceback": [
      "\u001b[0;31m---------------------------------------------------------------------------\u001b[0m",
      "\u001b[0;31mLookupError\u001b[0m                               Traceback (most recent call last)",
      "File \u001b[0;32m~/Downloads/NLP Advanced Lab/venv/lib/python3.11/site-packages/nltk/corpus/util.py:84\u001b[0m, in \u001b[0;36mLazyCorpusLoader.__load\u001b[0;34m(self)\u001b[0m\n\u001b[1;32m     83\u001b[0m \u001b[39mtry\u001b[39;00m:\n\u001b[0;32m---> 84\u001b[0m     root \u001b[39m=\u001b[39m nltk\u001b[39m.\u001b[39;49mdata\u001b[39m.\u001b[39;49mfind(\u001b[39mf\u001b[39;49m\u001b[39m\"\u001b[39;49m\u001b[39m{\u001b[39;49;00m\u001b[39mself\u001b[39;49m\u001b[39m.\u001b[39;49msubdir\u001b[39m}\u001b[39;49;00m\u001b[39m/\u001b[39;49m\u001b[39m{\u001b[39;49;00mzip_name\u001b[39m}\u001b[39;49;00m\u001b[39m\"\u001b[39;49m)\n\u001b[1;32m     85\u001b[0m \u001b[39mexcept\u001b[39;00m \u001b[39mLookupError\u001b[39;00m:\n",
      "File \u001b[0;32m~/Downloads/NLP Advanced Lab/venv/lib/python3.11/site-packages/nltk/data.py:583\u001b[0m, in \u001b[0;36mfind\u001b[0;34m(resource_name, paths)\u001b[0m\n\u001b[1;32m    582\u001b[0m resource_not_found \u001b[39m=\u001b[39m \u001b[39mf\u001b[39m\u001b[39m\"\u001b[39m\u001b[39m\\n\u001b[39;00m\u001b[39m{\u001b[39;00msep\u001b[39m}\u001b[39;00m\u001b[39m\\n\u001b[39;00m\u001b[39m{\u001b[39;00mmsg\u001b[39m}\u001b[39;00m\u001b[39m\\n\u001b[39;00m\u001b[39m{\u001b[39;00msep\u001b[39m}\u001b[39;00m\u001b[39m\\n\u001b[39;00m\u001b[39m\"\u001b[39m\n\u001b[0;32m--> 583\u001b[0m \u001b[39mraise\u001b[39;00m \u001b[39mLookupError\u001b[39;00m(resource_not_found)\n",
      "\u001b[0;31mLookupError\u001b[0m: \n**********************************************************************\n  Resource \u001b[93mtreebank\u001b[0m not found.\n  Please use the NLTK Downloader to obtain the resource:\n\n  \u001b[31m>>> import nltk\n  >>> nltk.download('treebank')\n  \u001b[0m\n  For more information see: https://www.nltk.org/data.html\n\n  Attempted to load \u001b[93mcorpora/treebank.zip/treebank/combined/\u001b[0m\n\n  Searched in:\n    - '/home/alexeykovzel/nltk_data'\n    - '/home/alexeykovzel/Downloads/NLP Advanced Lab/venv/nltk_data'\n    - '/home/alexeykovzel/Downloads/NLP Advanced Lab/venv/share/nltk_data'\n    - '/home/alexeykovzel/Downloads/NLP Advanced Lab/venv/lib/nltk_data'\n    - '/usr/share/nltk_data'\n    - '/usr/local/share/nltk_data'\n    - '/usr/lib/nltk_data'\n    - '/usr/local/lib/nltk_data'\n**********************************************************************\n",
      "\nDuring handling of the above exception, another exception occurred:\n",
      "\u001b[0;31mLookupError\u001b[0m                               Traceback (most recent call last)",
      "\u001b[1;32m/home/alexeykovzel/Downloads/NLP Advanced Lab/NLP-Advanced-Exercises-LSTM-RNN-GRU.ipynb Cell 77\u001b[0m line \u001b[0;36m1\n\u001b[0;32m----> <a href='vscode-notebook-cell:/home/alexeykovzel/Downloads/NLP%20Advanced%20Lab/NLP-Advanced-Exercises-LSTM-RNN-GRU.ipynb#Y140sZmlsZQ%3D%3D?line=0'>1</a>\u001b[0m corpus \u001b[39m=\u001b[39m treebank\u001b[39m.\u001b[39;49mtagged_sents(tagset\u001b[39m=\u001b[39m\u001b[39m'\u001b[39m\u001b[39muniversal\u001b[39m\u001b[39m'\u001b[39m)\n",
      "File \u001b[0;32m~/Downloads/NLP Advanced Lab/venv/lib/python3.11/site-packages/nltk/corpus/util.py:121\u001b[0m, in \u001b[0;36mLazyCorpusLoader.__getattr__\u001b[0;34m(self, attr)\u001b[0m\n\u001b[1;32m    118\u001b[0m \u001b[39mif\u001b[39;00m attr \u001b[39m==\u001b[39m \u001b[39m\"\u001b[39m\u001b[39m__bases__\u001b[39m\u001b[39m\"\u001b[39m:\n\u001b[1;32m    119\u001b[0m     \u001b[39mraise\u001b[39;00m \u001b[39mAttributeError\u001b[39;00m(\u001b[39m\"\u001b[39m\u001b[39mLazyCorpusLoader object has no attribute \u001b[39m\u001b[39m'\u001b[39m\u001b[39m__bases__\u001b[39m\u001b[39m'\u001b[39m\u001b[39m\"\u001b[39m)\n\u001b[0;32m--> 121\u001b[0m \u001b[39mself\u001b[39;49m\u001b[39m.\u001b[39;49m__load()\n\u001b[1;32m    122\u001b[0m \u001b[39m# This looks circular, but its not, since __load() changes our\u001b[39;00m\n\u001b[1;32m    123\u001b[0m \u001b[39m# __class__ to something new:\u001b[39;00m\n\u001b[1;32m    124\u001b[0m \u001b[39mreturn\u001b[39;00m \u001b[39mgetattr\u001b[39m(\u001b[39mself\u001b[39m, attr)\n",
      "File \u001b[0;32m~/Downloads/NLP Advanced Lab/venv/lib/python3.11/site-packages/nltk/corpus/util.py:86\u001b[0m, in \u001b[0;36mLazyCorpusLoader.__load\u001b[0;34m(self)\u001b[0m\n\u001b[1;32m     84\u001b[0m             root \u001b[39m=\u001b[39m nltk\u001b[39m.\u001b[39mdata\u001b[39m.\u001b[39mfind(\u001b[39mf\u001b[39m\u001b[39m\"\u001b[39m\u001b[39m{\u001b[39;00m\u001b[39mself\u001b[39m\u001b[39m.\u001b[39msubdir\u001b[39m}\u001b[39;00m\u001b[39m/\u001b[39m\u001b[39m{\u001b[39;00mzip_name\u001b[39m}\u001b[39;00m\u001b[39m\"\u001b[39m)\n\u001b[1;32m     85\u001b[0m         \u001b[39mexcept\u001b[39;00m \u001b[39mLookupError\u001b[39;00m:\n\u001b[0;32m---> 86\u001b[0m             \u001b[39mraise\u001b[39;00m e\n\u001b[1;32m     88\u001b[0m \u001b[39m# Load the corpus.\u001b[39;00m\n\u001b[1;32m     89\u001b[0m corpus \u001b[39m=\u001b[39m \u001b[39mself\u001b[39m\u001b[39m.\u001b[39m__reader_cls(root, \u001b[39m*\u001b[39m\u001b[39mself\u001b[39m\u001b[39m.\u001b[39m__args, \u001b[39m*\u001b[39m\u001b[39m*\u001b[39m\u001b[39mself\u001b[39m\u001b[39m.\u001b[39m__kwargs)\n",
      "File \u001b[0;32m~/Downloads/NLP Advanced Lab/venv/lib/python3.11/site-packages/nltk/corpus/util.py:81\u001b[0m, in \u001b[0;36mLazyCorpusLoader.__load\u001b[0;34m(self)\u001b[0m\n\u001b[1;32m     79\u001b[0m \u001b[39melse\u001b[39;00m:\n\u001b[1;32m     80\u001b[0m     \u001b[39mtry\u001b[39;00m:\n\u001b[0;32m---> 81\u001b[0m         root \u001b[39m=\u001b[39m nltk\u001b[39m.\u001b[39;49mdata\u001b[39m.\u001b[39;49mfind(\u001b[39mf\u001b[39;49m\u001b[39m\"\u001b[39;49m\u001b[39m{\u001b[39;49;00m\u001b[39mself\u001b[39;49m\u001b[39m.\u001b[39;49msubdir\u001b[39m}\u001b[39;49;00m\u001b[39m/\u001b[39;49m\u001b[39m{\u001b[39;49;00m\u001b[39mself\u001b[39;49m\u001b[39m.\u001b[39;49m__name\u001b[39m}\u001b[39;49;00m\u001b[39m\"\u001b[39;49m)\n\u001b[1;32m     82\u001b[0m     \u001b[39mexcept\u001b[39;00m \u001b[39mLookupError\u001b[39;00m \u001b[39mas\u001b[39;00m e:\n\u001b[1;32m     83\u001b[0m         \u001b[39mtry\u001b[39;00m:\n",
      "File \u001b[0;32m~/Downloads/NLP Advanced Lab/venv/lib/python3.11/site-packages/nltk/data.py:583\u001b[0m, in \u001b[0;36mfind\u001b[0;34m(resource_name, paths)\u001b[0m\n\u001b[1;32m    581\u001b[0m sep \u001b[39m=\u001b[39m \u001b[39m\"\u001b[39m\u001b[39m*\u001b[39m\u001b[39m\"\u001b[39m \u001b[39m*\u001b[39m \u001b[39m70\u001b[39m\n\u001b[1;32m    582\u001b[0m resource_not_found \u001b[39m=\u001b[39m \u001b[39mf\u001b[39m\u001b[39m\"\u001b[39m\u001b[39m\\n\u001b[39;00m\u001b[39m{\u001b[39;00msep\u001b[39m}\u001b[39;00m\u001b[39m\\n\u001b[39;00m\u001b[39m{\u001b[39;00mmsg\u001b[39m}\u001b[39;00m\u001b[39m\\n\u001b[39;00m\u001b[39m{\u001b[39;00msep\u001b[39m}\u001b[39;00m\u001b[39m\\n\u001b[39;00m\u001b[39m\"\u001b[39m\n\u001b[0;32m--> 583\u001b[0m \u001b[39mraise\u001b[39;00m \u001b[39mLookupError\u001b[39;00m(resource_not_found)\n",
      "\u001b[0;31mLookupError\u001b[0m: \n**********************************************************************\n  Resource \u001b[93mtreebank\u001b[0m not found.\n  Please use the NLTK Downloader to obtain the resource:\n\n  \u001b[31m>>> import nltk\n  >>> nltk.download('treebank')\n  \u001b[0m\n  For more information see: https://www.nltk.org/data.html\n\n  Attempted to load \u001b[93mcorpora/treebank/combined\u001b[0m\n\n  Searched in:\n    - '/home/alexeykovzel/nltk_data'\n    - '/home/alexeykovzel/Downloads/NLP Advanced Lab/venv/nltk_data'\n    - '/home/alexeykovzel/Downloads/NLP Advanced Lab/venv/share/nltk_data'\n    - '/home/alexeykovzel/Downloads/NLP Advanced Lab/venv/lib/nltk_data'\n    - '/usr/share/nltk_data'\n    - '/usr/local/share/nltk_data'\n    - '/usr/lib/nltk_data'\n    - '/usr/local/lib/nltk_data'\n**********************************************************************\n"
     ]
    }
   ],
   "source": [
    "corpus = treebank.tagged_sents(tagset='universal')"
   ]
  },
  {
   "cell_type": "markdown",
   "id": "da6ce78d",
   "metadata": {},
   "source": [
    "Notice that each entry in the dataset is a tuple (word, pos_tag). We want our training **X** to have the words of the sentence, and **Y** to have the equivalent POS tags."
   ]
  },
  {
   "cell_type": "code",
   "execution_count": null,
   "id": "c8d6d75a",
   "metadata": {
    "scrolled": true
   },
   "outputs": [],
   "source": [
    "i=25\n",
    "print(type(corpus[i]))\n",
    "print(corpus[i])"
   ]
  },
  {
   "cell_type": "markdown",
   "id": "60bd7bc7",
   "metadata": {},
   "source": [
    "a. Create your frame X which has all the sentences, and a frame Y with all the POS tags."
   ]
  },
  {
   "cell_type": "code",
   "execution_count": null,
   "id": "d05caf4e",
   "metadata": {},
   "outputs": [],
   "source": [
    "#Add your code here"
   ]
  },
  {
   "cell_type": "code",
   "execution_count": null,
   "id": "efc5b8b4",
   "metadata": {
    "scrolled": true
   },
   "outputs": [],
   "source": [
    "i=0\n",
    "print(X[i])\n",
    "print(Y[i])"
   ]
  },
  {
   "cell_type": "markdown",
   "id": "f90017f0",
   "metadata": {},
   "source": [
    "### Exercise 15\n",
    "\n",
    "Check that you have the same number of entries in X and Y.\n",
    "\n",
    "Check also that every entry in X, has the same number of elements as in its equivalent of Y.\n",
    "\n",
    "If a sentence in X has 5 tokens, we need to have 5 POS tags in Y."
   ]
  },
  {
   "cell_type": "code",
   "execution_count": null,
   "id": "83fc7bb3",
   "metadata": {},
   "outputs": [],
   "source": [
    "#Add your code here"
   ]
  },
  {
   "cell_type": "markdown",
   "id": "2ba719eb",
   "metadata": {},
   "source": [
    "3914 sentences is enough training data for our model."
   ]
  },
  {
   "cell_type": "markdown",
   "id": "d351bcd3",
   "metadata": {},
   "source": [
    "### Exercise 16\n",
    "\n",
    "a. Let's now move on to convert X and Y both to integers, using Keras's tokenizer."
   ]
  },
  {
   "cell_type": "code",
   "execution_count": null,
   "id": "efc2b9e4",
   "metadata": {},
   "outputs": [],
   "source": [
    "#Add your code here"
   ]
  },
  {
   "cell_type": "markdown",
   "id": "f31ef085",
   "metadata": {},
   "source": [
    "a. Let's print the size of the vocab, also the number of different POS tags we have.\n",
    "\n",
    "We need to know how many different POS tags we have, because that should be our number of classes."
   ]
  },
  {
   "cell_type": "code",
   "execution_count": null,
   "id": "38e88f7a",
   "metadata": {},
   "outputs": [],
   "source": [
    "#Add your code here"
   ]
  },
  {
   "cell_type": "markdown",
   "id": "9f56c96a",
   "metadata": {},
   "source": [
    "### Exercise 17\n",
    "\n",
    "Let's again pad our sentences and our tags. We, again, need to decide on our max length, a decision that is crucial as this matches the number of time steps for our RNN architecture"
   ]
  },
  {
   "cell_type": "code",
   "execution_count": null,
   "id": "a2bb2173",
   "metadata": {},
   "outputs": [],
   "source": [
    "#Add your code here"
   ]
  },
  {
   "cell_type": "code",
   "execution_count": null,
   "id": "f5ec6b83",
   "metadata": {},
   "outputs": [],
   "source": [
    "i=0\n",
    "print(X_padded[i])\n",
    "print(Y_padded[i])\n"
   ]
  },
  {
   "cell_type": "markdown",
   "id": "fbefef17",
   "metadata": {},
   "source": [
    "### Exercise 18\n",
    "\n",
    "Try a first version of your RNN models without using any pretrained embeddings.\n"
   ]
  },
  {
   "cell_type": "markdown",
   "id": "7a2d7749",
   "metadata": {},
   "source": [
    "a. Let's one-hot encode Y"
   ]
  },
  {
   "cell_type": "code",
   "execution_count": null,
   "id": "bd4d0559",
   "metadata": {},
   "outputs": [],
   "source": [
    "#Add your code here"
   ]
  },
  {
   "cell_type": "markdown",
   "id": "141c405e",
   "metadata": {},
   "source": [
    "b. We create a train and test set."
   ]
  },
  {
   "cell_type": "code",
   "execution_count": null,
   "id": "cad7174c",
   "metadata": {},
   "outputs": [],
   "source": [
    "# split entire data into training and testing sets\n",
    "TEST_SIZE = 0.20\n",
    "X_train, X_test, y_train, y_test = train_test_split(X_padded, Y, test_size=TEST_SIZE, random_state=100)"
   ]
  },
  {
   "cell_type": "markdown",
   "id": "d4db8c06",
   "metadata": {},
   "source": [
    "c. Define your RNN model, using a simple RNN. Compile it and fit it to the data.\n",
    "\n",
    "Do not forget to wrap your Dense output layer with the TimeDistributed wrapper. We're doing a multiclassification at each time step."
   ]
  },
  {
   "cell_type": "code",
   "execution_count": null,
   "id": "d1092104",
   "metadata": {},
   "outputs": [],
   "source": [
    "#Add your code here"
   ]
  },
  {
   "cell_type": "code",
   "execution_count": null,
   "id": "d60a0eea",
   "metadata": {},
   "outputs": [],
   "source": [
    "#Add your code here"
   ]
  },
  {
   "cell_type": "code",
   "execution_count": null,
   "id": "7bef7bae",
   "metadata": {},
   "outputs": [],
   "source": [
    "#Add your code here"
   ]
  },
  {
   "cell_type": "markdown",
   "id": "bd5a1ad2",
   "metadata": {},
   "source": [
    "### Exercise 19\n",
    "Retrain the model with an LSTM. \n",
    "This should work faster, and yield better results.\n",
    "Define, compile and fit your model."
   ]
  },
  {
   "cell_type": "code",
   "execution_count": null,
   "id": "e2127a8f",
   "metadata": {},
   "outputs": [],
   "source": [
    "#Add your code here"
   ]
  },
  {
   "cell_type": "code",
   "execution_count": null,
   "id": "3831fecc",
   "metadata": {},
   "outputs": [],
   "source": [
    "#Add your code here"
   ]
  },
  {
   "cell_type": "code",
   "execution_count": null,
   "id": "f6b7319e",
   "metadata": {},
   "outputs": [],
   "source": [
    "#Add your code here"
   ]
  },
  {
   "cell_type": "markdown",
   "id": "ee15cb3d",
   "metadata": {},
   "source": [
    "### Exercise 20\n",
    "Retrain the model with a GRU. "
   ]
  },
  {
   "cell_type": "code",
   "execution_count": null,
   "id": "f42b9da1",
   "metadata": {},
   "outputs": [],
   "source": [
    "#Add your code here"
   ]
  },
  {
   "cell_type": "code",
   "execution_count": null,
   "id": "ad31febf",
   "metadata": {},
   "outputs": [],
   "source": [
    "#Add your code here"
   ]
  },
  {
   "cell_type": "code",
   "execution_count": null,
   "id": "c52dce5a",
   "metadata": {},
   "outputs": [],
   "source": [
    "#Add your code here"
   ]
  },
  {
   "cell_type": "markdown",
   "id": "140d4d8c",
   "metadata": {},
   "source": [
    "### Exercise 21\n",
    "Save one of your models (the one with the best performance) as an h5 file. This is a straightforward operation, refer to [here](https://keras.io/api/models/model_saving_apis/).\n",
    "\n",
    "You will use it on the **regular** part of the assignment to make inferences."
   ]
  },
  {
   "cell_type": "raw",
   "id": "0704d963",
   "metadata": {},
   "source": []
  }
 ],
 "metadata": {
  "kernelspec": {
   "display_name": "Python 3 (ipykernel)",
   "language": "python",
   "name": "python3"
  },
  "language_info": {
   "codemirror_mode": {
    "name": "ipython",
    "version": 3
   },
   "file_extension": ".py",
   "mimetype": "text/x-python",
   "name": "python",
   "nbconvert_exporter": "python",
   "pygments_lexer": "ipython3",
   "version": "3.11.5"
  }
 },
 "nbformat": 4,
 "nbformat_minor": 5
}
