{
 "cells": [
  {
   "cell_type": "markdown",
   "id": "422ffebd",
   "metadata": {},
   "source": [
    "# NLP - Embeddings, RNNs and LSTMs \n",
    "\n",
    "\n",
    "## Basic Assignment\n",
    "\n",
    "The notebook will help you practice Many-to-One RNN architecture, as well as Many-to-Many architectures.\n",
    "\n",
    "The regular part and the advanced part are included in two different notebooks.\n"
   ]
  },
  {
   "cell_type": "code",
   "execution_count": 229,
   "id": "b3243689",
   "metadata": {
    "ExecuteTime": {
     "end_time": "2023-10-21T17:10:43.791358800Z",
     "start_time": "2023-10-21T17:10:43.302754900Z"
    }
   },
   "outputs": [],
   "source": [
    "from sklearn.preprocessing import LabelEncoder\n",
    "from sklearn.preprocessing import OneHotEncoder\n",
    "from tqdm import tqdm\n",
    "import numpy as np\n",
    "import re\n",
    "from matplotlib import pyplot as plt\n",
    "from nltk.corpus import treebank\n",
    "from gensim.models import KeyedVectors\n",
    "from keras.preprocessing.text import Tokenizer\n",
    "from keras.preprocessing.sequence import pad_sequences\n",
    "from keras.utils import to_categorical\n",
    "from keras.models import Sequential\n",
    "from keras.layers import Embedding, Dense, Flatten\n",
    "from keras.layers import TimeDistributed\n",
    "from keras.layers import LSTM, GRU, SimpleRNN\n",
    "from keras.models import Model\n",
    "from sklearn.model_selection import train_test_split\n",
    "from sklearn.utils import shuffle\n",
    "import pandas as pd\n",
    "import nltk\n",
    "import tensorflow as tf"
   ]
  },
  {
   "cell_type": "code",
   "execution_count": 230,
   "id": "4296d3e0",
   "metadata": {
    "ExecuteTime": {
     "end_time": "2023-10-21T17:10:44.169757800Z",
     "start_time": "2023-10-21T17:10:43.318401100Z"
    }
   },
   "outputs": [
    {
     "name": "stdout",
     "output_type": "stream",
     "text": [
      "Num GPUs Available:  0\n"
     ]
    }
   ],
   "source": [
    "print(\"Num GPUs Available: \", len(tf.config.list_physical_devices('GPU')))"
   ]
  },
  {
   "cell_type": "markdown",
   "id": "b2fc9528",
   "metadata": {},
   "source": [
    "### Loading the dataset\n",
    "We will work on a binary classification problem. The dataset is of two classes SPAM and NOT SPAM. "
   ]
  },
  {
   "cell_type": "code",
   "execution_count": 231,
   "id": "543a8a42",
   "metadata": {
    "ExecuteTime": {
     "end_time": "2023-10-21T17:10:44.232691100Z",
     "start_time": "2023-10-21T17:10:43.334025200Z"
    }
   },
   "outputs": [],
   "source": [
    "dataset=pd.read_csv(\"spam-1.csv\", encoding='ISO-8859-1')"
   ]
  },
  {
   "cell_type": "code",
   "execution_count": 232,
   "id": "89382459",
   "metadata": {
    "ExecuteTime": {
     "end_time": "2023-10-21T17:10:44.279568500Z",
     "start_time": "2023-10-21T17:10:43.398039900Z"
    }
   },
   "outputs": [],
   "source": [
    "X=dataset.v2"
   ]
  },
  {
   "cell_type": "code",
   "execution_count": 233,
   "id": "e5c2f022",
   "metadata": {
    "ExecuteTime": {
     "end_time": "2023-10-21T17:10:44.299218100Z",
     "start_time": "2023-10-21T17:10:43.412548500Z"
    }
   },
   "outputs": [],
   "source": [
    "y=dataset.v1"
   ]
  },
  {
   "cell_type": "markdown",
   "id": "431bbc36",
   "metadata": {},
   "source": [
    "### Exercise 1\n",
    "Reuse your to_lower(X) function from the NLP basic lab, and the clean_text(X) function to lower case all documents in the dataset and then remove all numerical and special characters from the dataset."
   ]
  },
  {
   "cell_type": "code",
   "execution_count": 234,
   "id": "c6acd618",
   "metadata": {
    "ExecuteTime": {
     "end_time": "2023-10-21T17:10:44.342508300Z",
     "start_time": "2023-10-21T17:10:43.428185700Z"
    }
   },
   "outputs": [
    {
     "data": {
      "text/plain": "0       go until jurong point crazy available only in ...\n1                                 ok lar joking wif u oni\n2       free entry in  a wkly comp to win fa cup final...\n3             u dun say so early hor u c already then say\n4       nah i dont think he goes to usf he lives aroun...\n                              ...                        \n5567    this is the nd time we have tried  contact u u...\n5568                   will  b going to esplanade fr home\n5569    pity  was in mood for that soany other suggest...\n5570    the guy did some bitching but i acted like id ...\n5571                            rofl its true to its name\nName: v2, Length: 5572, dtype: object"
     },
     "execution_count": 234,
     "metadata": {},
     "output_type": "execute_result"
    }
   ],
   "source": [
    "def to_lower(dataframe):\n",
    "    return dataframe.map(lambda row: row.lower())\n",
    "\n",
    "def clean_text(dataframe):\n",
    "    pattern = r'[^a-z\\s]'\n",
    "    return dataframe.map(lambda row: re.sub(pattern, '', row))\n",
    "\n",
    "X = to_lower(X)\n",
    "X = clean_text(X)\n",
    "X"
   ]
  },
  {
   "cell_type": "markdown",
   "id": "25566af1",
   "metadata": {},
   "source": [
    "### Exercise 2 \n",
    "Create the ground truth vector **y** for the binary classification.\n",
    "Check that the **y** vector is of shape(ne,1)."
   ]
  },
  {
   "cell_type": "code",
   "execution_count": 235,
   "id": "cc53266d",
   "metadata": {
    "ExecuteTime": {
     "end_time": "2023-10-21T17:10:44.373758800Z",
     "start_time": "2023-10-21T17:10:43.459433500Z"
    }
   },
   "outputs": [],
   "source": [
    "label_encoder = LabelEncoder()\n",
    "label_encoder.fit([\"spam\", \"ham\"])\n",
    "y = label_encoder.transform(y)"
   ]
  },
  {
   "cell_type": "code",
   "execution_count": 236,
   "id": "52b2d2ef",
   "metadata": {
    "ExecuteTime": {
     "end_time": "2023-10-21T17:10:44.405416Z",
     "start_time": "2023-10-21T17:10:43.475064100Z"
    }
   },
   "outputs": [
    {
     "data": {
      "text/plain": "array([0, 0, 1, ..., 0, 0, 0])"
     },
     "execution_count": 236,
     "metadata": {},
     "output_type": "execute_result"
    }
   ],
   "source": [
    "y"
   ]
  },
  {
   "cell_type": "markdown",
   "id": "a57842f9",
   "metadata": {},
   "source": [
    "### Exercise 3\n",
    "Use Keras' Tokenizer class to vectorize the corpus. \n",
    "What we expect here is that the tokens will be encoded as integers.\n",
    "\n",
    "\n",
    "Notice that tokenizing here is different from the tokenization process discussed in the basic lecture."
   ]
  },
  {
   "cell_type": "code",
   "execution_count": 237,
   "id": "b9799596",
   "metadata": {
    "ExecuteTime": {
     "end_time": "2023-10-21T17:10:44.750404800Z",
     "start_time": "2023-10-21T17:10:43.490689500Z"
    }
   },
   "outputs": [],
   "source": [
    "tokenizer = Tokenizer()\n",
    "tokenizer.fit_on_texts(X)\n",
    "X_encoded = tokenizer.texts_to_sequences(X)"
   ]
  },
  {
   "cell_type": "code",
   "execution_count": 238,
   "id": "4fb1a413",
   "metadata": {
    "ExecuteTime": {
     "end_time": "2023-10-21T17:10:44.828938100Z",
     "start_time": "2023-10-21T17:10:43.600878400Z"
    }
   },
   "outputs": [
    {
     "name": "stdout",
     "output_type": "stream",
     "text": [
      "just forced myself to eat a slice im really not hungry tho this sucks mark is getting worried he knows im sick when i turn down pizza lol\n",
      "[36, 3982, 934, 1, 310, 4, 2715, 22, 146, 24, 735, 633, 39, 1218, 1107, 9, 242, 1015, 70, 935, 22, 1016, 43, 2, 1766, 223, 1108, 175]\n"
     ]
    }
   ],
   "source": [
    "i=25\n",
    "print(X[i])\n",
    "print(X_encoded[i])"
   ]
  },
  {
   "cell_type": "markdown",
   "id": "c80383b8",
   "metadata": {},
   "source": [
    "### Exercise 4\n",
    "Whether we work with an RNN cell, an LSTM or a GRU cell, we want first to know how many times should we unroll the network. This will be referred to as 'time_steps'.\n",
    "\n",
    "\n",
    "In this exercise, the goal is to check the lengths of our documents, and then choose a fixed length for all our documents. \n",
    "\n",
    "Documents which are shorter than the length you fixed will be padded with 0s.\n",
    "\n",
    "Documents which are longer will be truncated. \n"
   ]
  },
  {
   "cell_type": "markdown",
   "id": "8c64907b",
   "metadata": {},
   "source": [
    "a. Check the length of the largest document in the corpus"
   ]
  },
  {
   "cell_type": "code",
   "execution_count": 239,
   "id": "51b98261",
   "metadata": {
    "scrolled": false,
    "ExecuteTime": {
     "end_time": "2023-10-21T17:10:44.828938100Z",
     "start_time": "2023-10-21T17:10:43.611310300Z"
    }
   },
   "outputs": [
    {
     "data": {
      "text/plain": "171"
     },
     "execution_count": 239,
     "metadata": {},
     "output_type": "execute_result"
    }
   ],
   "source": [
    "lengths = [len(x) for x in X_encoded]\n",
    "max_len = max(lengths)\n",
    "max_len"
   ]
  },
  {
   "cell_type": "markdown",
   "id": "086b70c1",
   "metadata": {},
   "source": [
    "b. Check the average count of words in all documents"
   ]
  },
  {
   "cell_type": "code",
   "execution_count": 240,
   "id": "88653455",
   "metadata": {
    "ExecuteTime": {
     "end_time": "2023-10-21T17:10:44.828938100Z",
     "start_time": "2023-10-21T17:10:43.641323300Z"
    }
   },
   "outputs": [
    {
     "name": "stdout",
     "output_type": "stream",
     "text": [
      "Average word count in our documents is 14\n"
     ]
    }
   ],
   "source": [
    "print(\"Average word count in our documents is\", int(sum(lengths)/len(lengths)))"
   ]
  },
  {
   "cell_type": "markdown",
   "id": "d3700635",
   "metadata": {},
   "source": [
    "Quite a distance between the average length and longest document. It's probably worth it to check the lengths in a box plot."
   ]
  },
  {
   "cell_type": "code",
   "execution_count": 241,
   "id": "30915295",
   "metadata": {
    "scrolled": true,
    "ExecuteTime": {
     "end_time": "2023-10-21T17:10:44.888372300Z",
     "start_time": "2023-10-21T17:10:43.641323300Z"
    }
   },
   "outputs": [
    {
     "data": {
      "text/plain": "<Figure size 640x480 with 1 Axes>",
      "image/png": "[encoded data removed]"
     },
     "metadata": {},
     "output_type": "display_data"
    }
   ],
   "source": [
    "plt.boxplot(lengths)\n",
    "plt.show()"
   ]
  },
  {
   "cell_type": "markdown",
   "id": "b7b633bd",
   "metadata": {},
   "source": [
    "### Exercise 5\n",
    "\n",
    "Hopefully, you have chosen a value for the max doc length (which will serve as your time_steps value when you build your RNN)."
   ]
  },
  {
   "cell_type": "markdown",
   "id": "5bb6fb3e",
   "metadata": {},
   "source": [
    "We can now proceed to use the pad_sequences() method of Keras to pad our sequences, check [here](https://www.tensorflow.org/api_docs/python/tf/keras/utils/pad_sequences).\n",
    "\n",
    "Sentences longer than **n** will be truncated (you can choose to keep the first **n** words or the last).\n",
    "Sentences shorter than **n** will be padded with 0."
   ]
  },
  {
   "cell_type": "code",
   "execution_count": 242,
   "id": "c4673535",
   "metadata": {
    "ExecuteTime": {
     "end_time": "2023-10-21T17:10:44.888372300Z",
     "start_time": "2023-10-21T17:10:43.721358Z"
    }
   },
   "outputs": [],
   "source": [
    "X_padded = pad_sequences(X_encoded, maxlen=max_len) # so we keep all words in our documents, and pad the shorter ones"
   ]
  },
  {
   "cell_type": "code",
   "execution_count": 243,
   "id": "158ea7be",
   "metadata": {
    "scrolled": false,
    "ExecuteTime": {
     "end_time": "2023-10-21T17:10:44.888372300Z",
     "start_time": "2023-10-21T17:10:43.741362700Z"
    }
   },
   "outputs": [
    {
     "name": "stdout",
     "output_type": "stream",
     "text": [
      "natalja f is inviting you to be her friend reply yes or no see her wwwsmsacunat stop send stop frnd to \n",
      "[3883, 789, 9, 1377, 3, 1, 31, 105, 260, 88, 140, 26, 37, 80, 105, 3884, 84, 68, 84, 682, 1]\n",
      "[   0    0    0    0    0    0    0    0    0    0    0    0    0    0\n",
      "    0    0    0    0    0    0    0    0    0    0    0    0    0    0\n",
      "    0    0    0    0    0    0    0    0    0    0    0    0    0    0\n",
      "    0    0    0    0    0    0    0    0    0    0    0    0    0    0\n",
      "    0    0    0    0    0    0    0    0    0    0    0    0    0    0\n",
      "    0    0    0    0    0    0    0    0    0    0    0    0    0    0\n",
      "    0    0    0    0    0    0    0    0    0    0    0    0    0    0\n",
      "    0    0    0    0    0    0    0    0    0    0    0    0    0    0\n",
      "    0    0    0    0    0    0    0    0    0    0    0    0    0    0\n",
      "    0    0    0    0    0    0    0    0    0    0    0    0    0    0\n",
      "    0    0    0    0    0    0    0    0    0    0 3883  789    9 1377\n",
      "    3    1   31  105  260   88  140   26   37   80  105 3884   84   68\n",
      "   84  682    1]\n",
      "1\n"
     ]
    }
   ],
   "source": [
    "i=5214\n",
    "print(X[i])\n",
    "print(X_encoded[i])\n",
    "print(X_padded[i])\n",
    "print(y[i])"
   ]
  },
  {
   "cell_type": "markdown",
   "id": "20a2545b",
   "metadata": {},
   "source": [
    "### Exercise 6\n",
    "\n",
    "We can now proceed to pass our padded sequences and our **y** vector to an RNN model for training.\n",
    "Let's first define a simple RNN model."
   ]
  },
  {
   "cell_type": "code",
   "execution_count": 244,
   "id": "16c74ce8",
   "metadata": {
    "ExecuteTime": {
     "end_time": "2023-10-21T17:10:44.888372300Z",
     "start_time": "2023-10-21T17:10:43.751364900Z"
    }
   },
   "outputs": [],
   "source": [
    "# split entire data into training and testing sets\n",
    "TEST_SIZE = 0.25\n",
    "X_train, X_test, y_train, y_test = train_test_split(X_padded, y, test_size=TEST_SIZE, random_state=100)"
   ]
  },
  {
   "cell_type": "markdown",
   "id": "6e3753cd",
   "metadata": {},
   "source": [
    "**Do check the size of the vocab, needed for the rest of the exercises.**\n",
    "\n",
    "This dataset was chosen particularly for its small vocab size."
   ]
  },
  {
   "cell_type": "markdown",
   "id": "e674e711",
   "metadata": {},
   "source": [
    "### Exercise7\n",
    "\n",
    "Let's first try a classification task using basic RNN cells.\n",
    "\n",
    "You're free to define the number of units and layers as you see fit.\n",
    "\n",
    "a. Define the architecture of your model and print its summary."
   ]
  },
  {
   "cell_type": "code",
   "execution_count": 245,
   "id": "8f102e33",
   "metadata": {
    "ExecuteTime": {
     "end_time": "2023-10-21T17:10:44.888372300Z",
     "start_time": "2023-10-21T17:10:43.761358800Z"
    }
   },
   "outputs": [],
   "source": [
    "embedding_dim = 32 # output dimension of the embedding layer\n",
    "input_size = max_len # number of time steps\n",
    "vocab_size = len(tokenizer.word_index) + 1 # size of the vocab\n",
    "def build_model(inner_layer):\n",
    "    model = Sequential()\n",
    "    model.add(Embedding(input_dim=vocab_size, output_dim=embedding_dim, input_length=input_size, trainable=False))\n",
    "    model.add(inner_layer) # inner layer is the type of RNN cell we want to use\n",
    "    model.add(Dense(1, activation='sigmoid'))\n",
    "    model.summary()\n",
    "    return model\n",
    "\n",
    "def compile_model(model, optimizer='rmsprop', loss='binary_crossentropy'):\n",
    "    model.compile(loss='binary_crossentropy', optimizer='rmsprop', metrics=['acc'])\n",
    "    return model\n",
    "\n",
    "def train_model(model, epochs, batch_size):\n",
    "    m_history = model.fit(X_train, y_train, epochs=epochs, batch_size=batch_size, validation_data=(X_test, y_test))\n",
    "    return m_history"
   ]
  },
  {
   "cell_type": "code",
   "execution_count": 246,
   "id": "00da97bf",
   "metadata": {
    "scrolled": false,
    "ExecuteTime": {
     "end_time": "2023-10-21T17:10:44.888372300Z",
     "start_time": "2023-10-21T17:10:43.771363500Z"
    }
   },
   "outputs": [
    {
     "name": "stdout",
     "output_type": "stream",
     "text": [
      "Model: \"sequential_19\"\n",
      "_________________________________________________________________\n",
      " Layer (type)                Output Shape              Param #   \n",
      "=================================================================\n",
      " embedding_19 (Embedding)    (None, 171, 32)           273312    \n",
      "                                                                 \n",
      " simple_rnn_9 (SimpleRNN)    (None, 32)                2080      \n",
      "                                                                 \n",
      " dense_19 (Dense)            (None, 1)                 33        \n",
      "                                                                 \n",
      "=================================================================\n",
      "Total params: 275425 (1.05 MB)\n",
      "Trainable params: 2113 (8.25 KB)\n",
      "Non-trainable params: 273312 (1.04 MB)\n",
      "_________________________________________________________________\n"
     ]
    }
   ],
   "source": [
    "model = build_model(SimpleRNN(embedding_dim))"
   ]
  },
  {
   "cell_type": "markdown",
   "id": "c08ad6c0",
   "metadata": {},
   "source": [
    "b. Compile your model. \n",
    "\n",
    "Use the loss function and the optimizer you want, you don't have to use binary_cross entropy and stochastic gradient descent."
   ]
  },
  {
   "cell_type": "code",
   "execution_count": 247,
   "id": "9ac7013b",
   "metadata": {
    "ExecuteTime": {
     "end_time": "2023-10-21T17:10:44.900380500Z",
     "start_time": "2023-10-21T17:10:43.861398900Z"
    }
   },
   "outputs": [
    {
     "data": {
      "text/plain": "<keras.src.engine.sequential.Sequential at 0x1def8c23100>"
     },
     "execution_count": 247,
     "metadata": {},
     "output_type": "execute_result"
    }
   ],
   "source": [
    "compile_model(model)"
   ]
  },
  {
   "cell_type": "markdown",
   "id": "abc353be",
   "metadata": {},
   "source": [
    "c. Train your model"
   ]
  },
  {
   "cell_type": "code",
   "execution_count": 248,
   "id": "39d76b6f",
   "metadata": {
    "scrolled": false,
    "ExecuteTime": {
     "end_time": "2023-10-21T17:11:10.215112200Z",
     "start_time": "2023-10-21T17:10:43.872572300Z"
    }
   },
   "outputs": [
    {
     "name": "stdout",
     "output_type": "stream",
     "text": [
      "Epoch 1/50\n",
      "33/33 [==============================] - 1s 19ms/step - loss: 0.4462 - acc: 0.8404 - val_loss: 0.3799 - val_acc: 0.8722\n",
      "Epoch 2/50\n",
      "33/33 [==============================] - 1s 16ms/step - loss: 0.3965 - acc: 0.8607 - val_loss: 0.3692 - val_acc: 0.8722\n",
      "Epoch 3/50\n",
      "33/33 [==============================] - 1s 16ms/step - loss: 0.3532 - acc: 0.8636 - val_loss: 0.3049 - val_acc: 0.8729\n",
      "Epoch 4/50\n",
      "33/33 [==============================] - 1s 15ms/step - loss: 0.3182 - acc: 0.8665 - val_loss: 0.2691 - val_acc: 0.8909\n",
      "Epoch 5/50\n",
      "33/33 [==============================] - 1s 17ms/step - loss: 0.3018 - acc: 0.8643 - val_loss: 0.2598 - val_acc: 0.8859\n",
      "Epoch 6/50\n",
      "33/33 [==============================] - 1s 16ms/step - loss: 0.2911 - acc: 0.8749 - val_loss: 0.2609 - val_acc: 0.8787\n",
      "Epoch 7/50\n",
      "33/33 [==============================] - 1s 15ms/step - loss: 0.2778 - acc: 0.8851 - val_loss: 0.2634 - val_acc: 0.8866\n",
      "Epoch 8/50\n",
      "33/33 [==============================] - 1s 16ms/step - loss: 0.2848 - acc: 0.8777 - val_loss: 0.2369 - val_acc: 0.9045\n",
      "Epoch 9/50\n",
      "33/33 [==============================] - 1s 16ms/step - loss: 0.2626 - acc: 0.8959 - val_loss: 0.2718 - val_acc: 0.8787\n",
      "Epoch 10/50\n",
      "33/33 [==============================] - 1s 16ms/step - loss: 0.2609 - acc: 0.8942 - val_loss: 0.2513 - val_acc: 0.8866\n",
      "Epoch 11/50\n",
      "33/33 [==============================] - 1s 16ms/step - loss: 0.2600 - acc: 0.8947 - val_loss: 0.2531 - val_acc: 0.8823\n",
      "Epoch 12/50\n",
      "33/33 [==============================] - 1s 16ms/step - loss: 0.2620 - acc: 0.8947 - val_loss: 0.2443 - val_acc: 0.8902\n",
      "Epoch 13/50\n",
      "33/33 [==============================] - 1s 15ms/step - loss: 0.2603 - acc: 0.8993 - val_loss: 0.2211 - val_acc: 0.9081\n",
      "Epoch 14/50\n",
      "33/33 [==============================] - 1s 15ms/step - loss: 0.2452 - acc: 0.9048 - val_loss: 0.2350 - val_acc: 0.9052\n",
      "Epoch 15/50\n",
      "33/33 [==============================] - 1s 16ms/step - loss: 0.2477 - acc: 0.9019 - val_loss: 0.2266 - val_acc: 0.9017\n",
      "Epoch 16/50\n",
      "33/33 [==============================] - 1s 15ms/step - loss: 0.2455 - acc: 0.9009 - val_loss: 0.2409 - val_acc: 0.8923\n",
      "Epoch 17/50\n",
      "33/33 [==============================] - 1s 15ms/step - loss: 0.2470 - acc: 0.9043 - val_loss: 0.2148 - val_acc: 0.9124\n",
      "Epoch 18/50\n",
      "33/33 [==============================] - 1s 15ms/step - loss: 0.2369 - acc: 0.9045 - val_loss: 0.2231 - val_acc: 0.9196\n",
      "Epoch 19/50\n",
      "33/33 [==============================] - 1s 16ms/step - loss: 0.2385 - acc: 0.9072 - val_loss: 0.2107 - val_acc: 0.9189\n",
      "Epoch 20/50\n",
      "33/33 [==============================] - 1s 16ms/step - loss: 0.2325 - acc: 0.9100 - val_loss: 0.3561 - val_acc: 0.8729\n",
      "Epoch 21/50\n",
      "33/33 [==============================] - 1s 16ms/step - loss: 0.2373 - acc: 0.9079 - val_loss: 0.2676 - val_acc: 0.8737\n",
      "Epoch 22/50\n",
      "33/33 [==============================] - 0s 15ms/step - loss: 0.2337 - acc: 0.9105 - val_loss: 0.2588 - val_acc: 0.8823\n",
      "Epoch 23/50\n",
      "33/33 [==============================] - 1s 15ms/step - loss: 0.2235 - acc: 0.9172 - val_loss: 0.1935 - val_acc: 0.9261\n",
      "Epoch 24/50\n",
      "33/33 [==============================] - 0s 15ms/step - loss: 0.2305 - acc: 0.9143 - val_loss: 0.2756 - val_acc: 0.8837\n",
      "Epoch 25/50\n",
      "33/33 [==============================] - 0s 15ms/step - loss: 0.2249 - acc: 0.9119 - val_loss: 0.2166 - val_acc: 0.9052\n",
      "Epoch 26/50\n",
      "33/33 [==============================] - 0s 15ms/step - loss: 0.2226 - acc: 0.9151 - val_loss: 0.2047 - val_acc: 0.9196\n",
      "Epoch 27/50\n",
      "33/33 [==============================] - 1s 15ms/step - loss: 0.2193 - acc: 0.9194 - val_loss: 0.2025 - val_acc: 0.9153\n",
      "Epoch 28/50\n",
      "33/33 [==============================] - 0s 15ms/step - loss: 0.2362 - acc: 0.9136 - val_loss: 0.1949 - val_acc: 0.9268\n",
      "Epoch 29/50\n",
      "33/33 [==============================] - 1s 15ms/step - loss: 0.2124 - acc: 0.9220 - val_loss: 0.1966 - val_acc: 0.9261\n",
      "Epoch 30/50\n",
      "33/33 [==============================] - 1s 15ms/step - loss: 0.2173 - acc: 0.9184 - val_loss: 0.1989 - val_acc: 0.9239\n",
      "Epoch 31/50\n",
      "33/33 [==============================] - 1s 15ms/step - loss: 0.2131 - acc: 0.9196 - val_loss: 0.1991 - val_acc: 0.9268\n",
      "Epoch 32/50\n",
      "33/33 [==============================] - 1s 15ms/step - loss: 0.2108 - acc: 0.9227 - val_loss: 0.2021 - val_acc: 0.9131\n",
      "Epoch 33/50\n",
      "33/33 [==============================] - 1s 15ms/step - loss: 0.2101 - acc: 0.9186 - val_loss: 0.1838 - val_acc: 0.9318\n",
      "Epoch 34/50\n",
      "33/33 [==============================] - 0s 16ms/step - loss: 0.2040 - acc: 0.9225 - val_loss: 0.1915 - val_acc: 0.9289\n",
      "Epoch 35/50\n",
      "33/33 [==============================] - 0s 15ms/step - loss: 0.1998 - acc: 0.9234 - val_loss: 0.1841 - val_acc: 0.9318\n",
      "Epoch 36/50\n",
      "33/33 [==============================] - 0s 15ms/step - loss: 0.2000 - acc: 0.9273 - val_loss: 0.1878 - val_acc: 0.9268\n",
      "Epoch 37/50\n",
      "33/33 [==============================] - 1s 16ms/step - loss: 0.2744 - acc: 0.8878 - val_loss: 0.1849 - val_acc: 0.9325\n",
      "Epoch 38/50\n",
      "33/33 [==============================] - 1s 16ms/step - loss: 0.1866 - acc: 0.9323 - val_loss: 0.1960 - val_acc: 0.9189\n",
      "Epoch 39/50\n",
      "33/33 [==============================] - 1s 16ms/step - loss: 0.1969 - acc: 0.9301 - val_loss: 0.1846 - val_acc: 0.9296\n",
      "Epoch 40/50\n",
      "33/33 [==============================] - 1s 15ms/step - loss: 0.2115 - acc: 0.9222 - val_loss: 0.1858 - val_acc: 0.9296\n",
      "Epoch 41/50\n",
      "33/33 [==============================] - 1s 16ms/step - loss: 0.1977 - acc: 0.9258 - val_loss: 0.1764 - val_acc: 0.9340\n",
      "Epoch 42/50\n",
      "33/33 [==============================] - 0s 15ms/step - loss: 0.2010 - acc: 0.9261 - val_loss: 0.1901 - val_acc: 0.9239\n",
      "Epoch 43/50\n",
      "33/33 [==============================] - 1s 15ms/step - loss: 0.1927 - acc: 0.9294 - val_loss: 0.2099 - val_acc: 0.9139\n",
      "Epoch 44/50\n",
      "33/33 [==============================] - 1s 17ms/step - loss: 0.1888 - acc: 0.9313 - val_loss: 0.1718 - val_acc: 0.9361\n",
      "Epoch 45/50\n",
      "33/33 [==============================] - 1s 15ms/step - loss: 0.1876 - acc: 0.9325 - val_loss: 0.2775 - val_acc: 0.8794\n",
      "Epoch 46/50\n",
      "33/33 [==============================] - 1s 18ms/step - loss: 0.1858 - acc: 0.9349 - val_loss: 0.1882 - val_acc: 0.9268\n",
      "Epoch 47/50\n",
      "33/33 [==============================] - 1s 17ms/step - loss: 0.1876 - acc: 0.9332 - val_loss: 0.1750 - val_acc: 0.9368\n",
      "Epoch 48/50\n",
      "33/33 [==============================] - 1s 15ms/step - loss: 0.1837 - acc: 0.9349 - val_loss: 0.1867 - val_acc: 0.9282\n",
      "Epoch 49/50\n",
      "33/33 [==============================] - 1s 15ms/step - loss: 0.1833 - acc: 0.9316 - val_loss: 0.1737 - val_acc: 0.9383\n",
      "Epoch 50/50\n",
      "33/33 [==============================] - 0s 15ms/step - loss: 0.1753 - acc: 0.9373 - val_loss: 0.1815 - val_acc: 0.9332\n"
     ]
    }
   ],
   "source": [
    "m_history = train_model(model, epochs=50, batch_size=128)"
   ]
  },
  {
   "cell_type": "code",
   "execution_count": 296,
   "id": "03693225",
   "metadata": {
    "scrolled": true,
    "ExecuteTime": {
     "end_time": "2023-10-21T17:17:00.378622200Z",
     "start_time": "2023-10-21T17:17:00.251423Z"
    }
   },
   "outputs": [
    {
     "data": {
      "text/plain": "<Figure size 640x480 with 1 Axes>",
      "image/png": "[encoded data removed]"
     },
     "metadata": {},
     "output_type": "display_data"
    }
   ],
   "source": [
    "# visualise training history\n",
    "plt.plot(m_history.history['acc'])\n",
    "plt.plot(model.history.history['val_acc'])\n",
    "plt.title('model accuracy')\n",
    "plt.ylabel('accuracy')\n",
    "plt.xlabel('epoch')\n",
    "plt.ylim(0,1)\n",
    "plt.legend(['train', 'test'], loc=\"lower right\")\n",
    "plt.show()"
   ]
  },
  {
   "cell_type": "markdown",
   "id": "983117a4",
   "metadata": {},
   "source": [
    "### Exercise 8\n",
    "Try to perform the same classification task using an LSTM architecture.\n",
    "\n",
    "a. Define the architecture of your model and print its summary."
   ]
  },
  {
   "cell_type": "code",
   "execution_count": 250,
   "id": "974cb3b6",
   "metadata": {
    "ExecuteTime": {
     "end_time": "2023-10-21T17:11:10.497628500Z",
     "start_time": "2023-10-21T17:11:10.324927100Z"
    }
   },
   "outputs": [
    {
     "name": "stdout",
     "output_type": "stream",
     "text": [
      "Model: \"sequential_20\"\n",
      "_________________________________________________________________\n",
      " Layer (type)                Output Shape              Param #   \n",
      "=================================================================\n",
      " embedding_20 (Embedding)    (None, 171, 32)           273312    \n",
      "                                                                 \n",
      " lstm_7 (LSTM)               (None, 16)                3136      \n",
      "                                                                 \n",
      " dense_20 (Dense)            (None, 1)                 17        \n",
      "                                                                 \n",
      "=================================================================\n",
      "Total params: 276465 (1.05 MB)\n",
      "Trainable params: 3153 (12.32 KB)\n",
      "Non-trainable params: 273312 (1.04 MB)\n",
      "_________________________________________________________________\n"
     ]
    }
   ],
   "source": [
    "model = build_model(LSTM(16))"
   ]
  },
  {
   "cell_type": "markdown",
   "id": "d259dfe5",
   "metadata": {},
   "source": [
    "b. compile your model."
   ]
  },
  {
   "cell_type": "code",
   "execution_count": 251,
   "id": "3754d5af",
   "metadata": {
    "ExecuteTime": {
     "end_time": "2023-10-21T17:11:10.591805800Z",
     "start_time": "2023-10-21T17:11:10.497628500Z"
    }
   },
   "outputs": [
    {
     "data": {
      "text/plain": "<keras.src.engine.sequential.Sequential at 0x1ddf346f550>"
     },
     "execution_count": 251,
     "metadata": {},
     "output_type": "execute_result"
    }
   ],
   "source": [
    "compile_model(model)"
   ]
  },
  {
   "cell_type": "markdown",
   "id": "e54db6c5",
   "metadata": {},
   "source": [
    "c. Train your model."
   ]
  },
  {
   "cell_type": "code",
   "execution_count": 252,
   "id": "1311daf8",
   "metadata": {
    "scrolled": true,
    "ExecuteTime": {
     "end_time": "2023-10-21T17:11:48.370329100Z",
     "start_time": "2023-10-21T17:11:10.513287300Z"
    }
   },
   "outputs": [
    {
     "name": "stdout",
     "output_type": "stream",
     "text": [
      "Epoch 1/50\n",
      "17/17 [==============================] - 2s 58ms/step - loss: 0.6353 - acc: 0.8327 - val_loss: 0.4979 - val_acc: 0.8722\n",
      "Epoch 2/50\n",
      "17/17 [==============================] - 1s 41ms/step - loss: 0.4328 - acc: 0.8638 - val_loss: 0.3858 - val_acc: 0.8722\n",
      "Epoch 3/50\n",
      "17/17 [==============================] - 1s 43ms/step - loss: 0.3959 - acc: 0.8638 - val_loss: 0.3775 - val_acc: 0.8722\n",
      "Epoch 4/50\n",
      "17/17 [==============================] - 1s 42ms/step - loss: 0.3913 - acc: 0.8638 - val_loss: 0.3724 - val_acc: 0.8722\n",
      "Epoch 5/50\n",
      "17/17 [==============================] - 1s 42ms/step - loss: 0.3845 - acc: 0.8638 - val_loss: 0.3624 - val_acc: 0.8722\n",
      "Epoch 6/50\n",
      "17/17 [==============================] - 1s 42ms/step - loss: 0.3758 - acc: 0.8638 - val_loss: 0.3512 - val_acc: 0.8722\n",
      "Epoch 7/50\n",
      "17/17 [==============================] - 1s 42ms/step - loss: 0.3650 - acc: 0.8638 - val_loss: 0.3393 - val_acc: 0.8722\n",
      "Epoch 8/50\n",
      "17/17 [==============================] - 1s 43ms/step - loss: 0.3539 - acc: 0.8638 - val_loss: 0.3290 - val_acc: 0.8722\n",
      "Epoch 9/50\n",
      "17/17 [==============================] - 1s 42ms/step - loss: 0.3453 - acc: 0.8638 - val_loss: 0.3168 - val_acc: 0.8722\n",
      "Epoch 10/50\n",
      "17/17 [==============================] - 1s 42ms/step - loss: 0.3360 - acc: 0.8638 - val_loss: 0.3223 - val_acc: 0.8722\n",
      "Epoch 11/50\n",
      "17/17 [==============================] - 1s 41ms/step - loss: 0.3300 - acc: 0.8638 - val_loss: 0.3198 - val_acc: 0.8722\n",
      "Epoch 12/50\n",
      "17/17 [==============================] - 1s 41ms/step - loss: 0.3237 - acc: 0.8638 - val_loss: 0.2953 - val_acc: 0.8722\n",
      "Epoch 13/50\n",
      "17/17 [==============================] - 1s 43ms/step - loss: 0.3177 - acc: 0.8638 - val_loss: 0.2942 - val_acc: 0.8722\n",
      "Epoch 14/50\n",
      "17/17 [==============================] - 1s 43ms/step - loss: 0.3117 - acc: 0.8638 - val_loss: 0.2968 - val_acc: 0.8722\n",
      "Epoch 15/50\n",
      "17/17 [==============================] - 1s 42ms/step - loss: 0.3088 - acc: 0.8638 - val_loss: 0.2819 - val_acc: 0.8722\n",
      "Epoch 16/50\n",
      "17/17 [==============================] - 1s 42ms/step - loss: 0.3014 - acc: 0.8638 - val_loss: 0.2835 - val_acc: 0.8722\n",
      "Epoch 17/50\n",
      "17/17 [==============================] - 1s 44ms/step - loss: 0.2997 - acc: 0.8638 - val_loss: 0.2726 - val_acc: 0.8722\n",
      "Epoch 18/50\n",
      "17/17 [==============================] - 1s 43ms/step - loss: 0.2945 - acc: 0.8638 - val_loss: 0.2682 - val_acc: 0.8722\n",
      "Epoch 19/50\n",
      "17/17 [==============================] - 1s 43ms/step - loss: 0.2927 - acc: 0.8638 - val_loss: 0.2667 - val_acc: 0.8722\n",
      "Epoch 20/50\n",
      "17/17 [==============================] - 1s 42ms/step - loss: 0.2896 - acc: 0.8641 - val_loss: 0.2714 - val_acc: 0.8722\n",
      "Epoch 21/50\n",
      "17/17 [==============================] - 1s 42ms/step - loss: 0.2848 - acc: 0.8653 - val_loss: 0.2572 - val_acc: 0.8758\n",
      "Epoch 22/50\n",
      "17/17 [==============================] - 1s 41ms/step - loss: 0.2821 - acc: 0.8665 - val_loss: 0.2741 - val_acc: 0.8751\n",
      "Epoch 23/50\n",
      "17/17 [==============================] - 1s 42ms/step - loss: 0.2799 - acc: 0.8682 - val_loss: 0.2531 - val_acc: 0.8873\n",
      "Epoch 24/50\n",
      "17/17 [==============================] - 1s 42ms/step - loss: 0.2767 - acc: 0.8739 - val_loss: 0.2510 - val_acc: 0.8916\n",
      "Epoch 25/50\n",
      "17/17 [==============================] - 1s 41ms/step - loss: 0.2763 - acc: 0.8772 - val_loss: 0.2644 - val_acc: 0.8722\n",
      "Epoch 26/50\n",
      "17/17 [==============================] - 1s 45ms/step - loss: 0.2712 - acc: 0.8784 - val_loss: 0.2472 - val_acc: 0.8859\n",
      "Epoch 27/50\n",
      "17/17 [==============================] - 1s 43ms/step - loss: 0.2677 - acc: 0.8849 - val_loss: 0.2722 - val_acc: 0.8808\n",
      "Epoch 28/50\n",
      "17/17 [==============================] - 1s 43ms/step - loss: 0.2660 - acc: 0.8883 - val_loss: 0.2369 - val_acc: 0.8945\n",
      "Epoch 29/50\n",
      "17/17 [==============================] - 1s 44ms/step - loss: 0.2623 - acc: 0.8940 - val_loss: 0.2421 - val_acc: 0.8859\n",
      "Epoch 30/50\n",
      "17/17 [==============================] - 1s 44ms/step - loss: 0.2604 - acc: 0.8938 - val_loss: 0.2401 - val_acc: 0.8894\n",
      "Epoch 31/50\n",
      "17/17 [==============================] - 1s 44ms/step - loss: 0.2564 - acc: 0.8954 - val_loss: 0.2280 - val_acc: 0.9146\n",
      "Epoch 32/50\n",
      "17/17 [==============================] - 1s 44ms/step - loss: 0.2568 - acc: 0.9024 - val_loss: 0.2306 - val_acc: 0.9009\n",
      "Epoch 33/50\n",
      "17/17 [==============================] - 1s 43ms/step - loss: 0.2497 - acc: 0.9033 - val_loss: 0.2411 - val_acc: 0.8959\n",
      "Epoch 34/50\n",
      "17/17 [==============================] - 1s 44ms/step - loss: 0.2498 - acc: 0.9012 - val_loss: 0.2232 - val_acc: 0.9160\n",
      "Epoch 35/50\n",
      "17/17 [==============================] - 1s 44ms/step - loss: 0.2471 - acc: 0.9062 - val_loss: 0.2512 - val_acc: 0.8988\n",
      "Epoch 36/50\n",
      "17/17 [==============================] - 1s 43ms/step - loss: 0.2440 - acc: 0.9062 - val_loss: 0.2322 - val_acc: 0.9153\n",
      "Epoch 37/50\n",
      "17/17 [==============================] - 1s 43ms/step - loss: 0.2422 - acc: 0.9074 - val_loss: 0.2171 - val_acc: 0.9052\n",
      "Epoch 38/50\n",
      "17/17 [==============================] - 1s 43ms/step - loss: 0.2373 - acc: 0.9079 - val_loss: 0.2545 - val_acc: 0.8952\n",
      "Epoch 39/50\n",
      "17/17 [==============================] - 1s 48ms/step - loss: 0.2392 - acc: 0.9100 - val_loss: 0.2186 - val_acc: 0.9038\n",
      "Epoch 40/50\n",
      "17/17 [==============================] - 1s 43ms/step - loss: 0.2360 - acc: 0.9103 - val_loss: 0.2157 - val_acc: 0.9131\n",
      "Epoch 41/50\n",
      "17/17 [==============================] - 1s 44ms/step - loss: 0.2360 - acc: 0.9091 - val_loss: 0.2073 - val_acc: 0.9282\n",
      "Epoch 42/50\n",
      "17/17 [==============================] - 1s 43ms/step - loss: 0.2321 - acc: 0.9122 - val_loss: 0.2113 - val_acc: 0.9167\n",
      "Epoch 43/50\n",
      "17/17 [==============================] - 1s 43ms/step - loss: 0.2312 - acc: 0.9124 - val_loss: 0.2110 - val_acc: 0.9131\n",
      "Epoch 44/50\n",
      "17/17 [==============================] - 1s 42ms/step - loss: 0.2259 - acc: 0.9129 - val_loss: 0.2286 - val_acc: 0.8973\n",
      "Epoch 45/50\n",
      "17/17 [==============================] - 1s 43ms/step - loss: 0.2248 - acc: 0.9177 - val_loss: 0.2041 - val_acc: 0.9189\n",
      "Epoch 46/50\n",
      "17/17 [==============================] - 1s 42ms/step - loss: 0.2284 - acc: 0.9148 - val_loss: 0.2103 - val_acc: 0.9081\n",
      "Epoch 47/50\n",
      "17/17 [==============================] - 1s 44ms/step - loss: 0.2271 - acc: 0.9151 - val_loss: 0.2031 - val_acc: 0.9203\n",
      "Epoch 48/50\n",
      "17/17 [==============================] - 1s 41ms/step - loss: 0.2209 - acc: 0.9174 - val_loss: 0.2100 - val_acc: 0.9124\n",
      "Epoch 49/50\n",
      "17/17 [==============================] - 1s 42ms/step - loss: 0.2240 - acc: 0.9127 - val_loss: 0.2229 - val_acc: 0.9045\n",
      "Epoch 50/50\n",
      "17/17 [==============================] - 1s 41ms/step - loss: 0.2239 - acc: 0.9179 - val_loss: 0.1961 - val_acc: 0.9340\n"
     ]
    }
   ],
   "source": [
    "m_history = train_model(model, epochs=50, batch_size=256)"
   ]
  },
  {
   "cell_type": "code",
   "execution_count": 253,
   "id": "bcad9c8a",
   "metadata": {
    "ExecuteTime": {
     "end_time": "2023-10-21T17:11:48.480137500Z",
     "start_time": "2023-10-21T17:11:48.370329100Z"
    }
   },
   "outputs": [
    {
     "data": {
      "text/plain": "<Figure size 640x480 with 1 Axes>",
      "image/png": "[encoded data removed]"
     },
     "metadata": {},
     "output_type": "display_data"
    }
   ],
   "source": [
    "# visualise training history\n",
    "plt.plot(m_history.history['acc'])\n",
    "plt.plot(model.history.history['val_acc'])\n",
    "plt.title('model accuracy')\n",
    "plt.ylabel('accuracy')\n",
    "plt.xlabel('epoch')\n",
    "plt.ylim(0,1)\n",
    "plt.legend(['train', 'test'], loc=\"lower right\")\n",
    "plt.show()"
   ]
  },
  {
   "cell_type": "markdown",
   "id": "1a6f315a",
   "metadata": {},
   "source": [
    "### Exercise 9\n",
    "\n",
    "Let's now see whether we get different results using a GRU cell.\n",
    "\n",
    "a. Define the architecture of your model and print its summary."
   ]
  },
  {
   "cell_type": "code",
   "execution_count": 254,
   "id": "daef7915",
   "metadata": {
    "ExecuteTime": {
     "end_time": "2023-10-21T17:11:48.668483500Z",
     "start_time": "2023-10-21T17:11:48.480137500Z"
    }
   },
   "outputs": [
    {
     "name": "stdout",
     "output_type": "stream",
     "text": [
      "Model: \"sequential_21\"\n",
      "_________________________________________________________________\n",
      " Layer (type)                Output Shape              Param #   \n",
      "=================================================================\n",
      " embedding_21 (Embedding)    (None, 171, 32)           273312    \n",
      "                                                                 \n",
      " gru_3 (GRU)                 (None, 8)                 1008      \n",
      "                                                                 \n",
      " dense_21 (Dense)            (None, 1)                 9         \n",
      "                                                                 \n",
      "=================================================================\n",
      "Total params: 274329 (1.05 MB)\n",
      "Trainable params: 1017 (3.97 KB)\n",
      "Non-trainable params: 273312 (1.04 MB)\n",
      "_________________________________________________________________\n"
     ]
    }
   ],
   "source": [
    "model = build_model(GRU(8))"
   ]
  },
  {
   "cell_type": "markdown",
   "id": "2a9b1b39",
   "metadata": {},
   "source": [
    "b. Compile your model"
   ]
  },
  {
   "cell_type": "code",
   "execution_count": 255,
   "id": "2edfa5e7",
   "metadata": {
    "ExecuteTime": {
     "end_time": "2023-10-21T17:11:48.762631900Z",
     "start_time": "2023-10-21T17:11:48.637232200Z"
    }
   },
   "outputs": [
    {
     "data": {
      "text/plain": "<keras.src.engine.sequential.Sequential at 0x1ded82f6a70>"
     },
     "execution_count": 255,
     "metadata": {},
     "output_type": "execute_result"
    }
   ],
   "source": [
    "compile_model(model)"
   ]
  },
  {
   "cell_type": "markdown",
   "id": "8bc1d828",
   "metadata": {},
   "source": [
    "c. Train your model"
   ]
  },
  {
   "cell_type": "code",
   "execution_count": 256,
   "id": "76a16eb6",
   "metadata": {
    "scrolled": true,
    "ExecuteTime": {
     "end_time": "2023-10-21T17:12:11.870638Z",
     "start_time": "2023-10-21T17:11:48.652861600Z"
    }
   },
   "outputs": [
    {
     "name": "stdout",
     "output_type": "stream",
     "text": [
      "Epoch 1/50\n",
      "9/9 [==============================] - 2s 80ms/step - loss: 0.6739 - acc: 0.7842 - val_loss: 0.6502 - val_acc: 0.8722\n",
      "Epoch 2/50\n",
      "9/9 [==============================] - 0s 48ms/step - loss: 0.6390 - acc: 0.8638 - val_loss: 0.6185 - val_acc: 0.8722\n",
      "Epoch 3/50\n",
      "9/9 [==============================] - 0s 49ms/step - loss: 0.6081 - acc: 0.8638 - val_loss: 0.5861 - val_acc: 0.8722\n",
      "Epoch 4/50\n",
      "9/9 [==============================] - 0s 47ms/step - loss: 0.5764 - acc: 0.8638 - val_loss: 0.5519 - val_acc: 0.8722\n",
      "Epoch 5/50\n",
      "9/9 [==============================] - 0s 49ms/step - loss: 0.5434 - acc: 0.8638 - val_loss: 0.5185 - val_acc: 0.8722\n",
      "Epoch 6/50\n",
      "9/9 [==============================] - 0s 49ms/step - loss: 0.5109 - acc: 0.8638 - val_loss: 0.4855 - val_acc: 0.8722\n",
      "Epoch 7/50\n",
      "9/9 [==============================] - 0s 47ms/step - loss: 0.4793 - acc: 0.8638 - val_loss: 0.4524 - val_acc: 0.8722\n",
      "Epoch 8/50\n",
      "9/9 [==============================] - 0s 47ms/step - loss: 0.4485 - acc: 0.8638 - val_loss: 0.4208 - val_acc: 0.8722\n",
      "Epoch 9/50\n",
      "9/9 [==============================] - 0s 48ms/step - loss: 0.4216 - acc: 0.8638 - val_loss: 0.3973 - val_acc: 0.8722\n",
      "Epoch 10/50\n",
      "9/9 [==============================] - 0s 47ms/step - loss: 0.4037 - acc: 0.8638 - val_loss: 0.3837 - val_acc: 0.8722\n",
      "Epoch 11/50\n",
      "9/9 [==============================] - 0s 47ms/step - loss: 0.3948 - acc: 0.8638 - val_loss: 0.3771 - val_acc: 0.8722\n",
      "Epoch 12/50\n",
      "9/9 [==============================] - 0s 49ms/step - loss: 0.3913 - acc: 0.8638 - val_loss: 0.3746 - val_acc: 0.8722\n",
      "Epoch 13/50\n",
      "9/9 [==============================] - 0s 47ms/step - loss: 0.3900 - acc: 0.8638 - val_loss: 0.3734 - val_acc: 0.8722\n",
      "Epoch 14/50\n",
      "9/9 [==============================] - 0s 48ms/step - loss: 0.3888 - acc: 0.8638 - val_loss: 0.3722 - val_acc: 0.8722\n",
      "Epoch 15/50\n",
      "9/9 [==============================] - 0s 51ms/step - loss: 0.3877 - acc: 0.8638 - val_loss: 0.3709 - val_acc: 0.8722\n",
      "Epoch 16/50\n",
      "9/9 [==============================] - 0s 49ms/step - loss: 0.3863 - acc: 0.8638 - val_loss: 0.3693 - val_acc: 0.8722\n",
      "Epoch 17/50\n",
      "9/9 [==============================] - 0s 49ms/step - loss: 0.3845 - acc: 0.8638 - val_loss: 0.3687 - val_acc: 0.8722\n",
      "Epoch 18/50\n",
      "9/9 [==============================] - 0s 49ms/step - loss: 0.3827 - acc: 0.8638 - val_loss: 0.3655 - val_acc: 0.8722\n",
      "Epoch 19/50\n",
      "9/9 [==============================] - 0s 47ms/step - loss: 0.3805 - acc: 0.8638 - val_loss: 0.3633 - val_acc: 0.8722\n",
      "Epoch 20/50\n",
      "9/9 [==============================] - 0s 49ms/step - loss: 0.3780 - acc: 0.8638 - val_loss: 0.3610 - val_acc: 0.8722\n",
      "Epoch 21/50\n",
      "9/9 [==============================] - 0s 49ms/step - loss: 0.3752 - acc: 0.8638 - val_loss: 0.3599 - val_acc: 0.8722\n",
      "Epoch 22/50\n",
      "9/9 [==============================] - 0s 48ms/step - loss: 0.3725 - acc: 0.8638 - val_loss: 0.3546 - val_acc: 0.8722\n",
      "Epoch 23/50\n",
      "9/9 [==============================] - 0s 50ms/step - loss: 0.3690 - acc: 0.8638 - val_loss: 0.3516 - val_acc: 0.8722\n",
      "Epoch 24/50\n",
      "9/9 [==============================] - 0s 49ms/step - loss: 0.3660 - acc: 0.8638 - val_loss: 0.3493 - val_acc: 0.8722\n",
      "Epoch 25/50\n",
      "9/9 [==============================] - 0s 48ms/step - loss: 0.3626 - acc: 0.8638 - val_loss: 0.3442 - val_acc: 0.8722\n",
      "Epoch 26/50\n",
      "9/9 [==============================] - 0s 49ms/step - loss: 0.3581 - acc: 0.8638 - val_loss: 0.3399 - val_acc: 0.8722\n",
      "Epoch 27/50\n",
      "9/9 [==============================] - 0s 47ms/step - loss: 0.3541 - acc: 0.8638 - val_loss: 0.3355 - val_acc: 0.8722\n",
      "Epoch 28/50\n",
      "9/9 [==============================] - 0s 47ms/step - loss: 0.3490 - acc: 0.8638 - val_loss: 0.3297 - val_acc: 0.8722\n",
      "Epoch 29/50\n",
      "9/9 [==============================] - 0s 49ms/step - loss: 0.3439 - acc: 0.8638 - val_loss: 0.3246 - val_acc: 0.8722\n",
      "Epoch 30/50\n",
      "9/9 [==============================] - 0s 48ms/step - loss: 0.3395 - acc: 0.8638 - val_loss: 0.3234 - val_acc: 0.8722\n",
      "Epoch 31/50\n",
      "9/9 [==============================] - 0s 47ms/step - loss: 0.3359 - acc: 0.8638 - val_loss: 0.3161 - val_acc: 0.8722\n",
      "Epoch 32/50\n",
      "9/9 [==============================] - 0s 49ms/step - loss: 0.3319 - acc: 0.8638 - val_loss: 0.3146 - val_acc: 0.8722\n",
      "Epoch 33/50\n",
      "9/9 [==============================] - 0s 48ms/step - loss: 0.3286 - acc: 0.8638 - val_loss: 0.3090 - val_acc: 0.8722\n",
      "Epoch 34/50\n",
      "9/9 [==============================] - 0s 49ms/step - loss: 0.3248 - acc: 0.8636 - val_loss: 0.3089 - val_acc: 0.8722\n",
      "Epoch 35/50\n",
      "9/9 [==============================] - 0s 49ms/step - loss: 0.3222 - acc: 0.8638 - val_loss: 0.3041 - val_acc: 0.8722\n",
      "Epoch 36/50\n",
      "9/9 [==============================] - 0s 49ms/step - loss: 0.3199 - acc: 0.8636 - val_loss: 0.3002 - val_acc: 0.8722\n",
      "Epoch 37/50\n",
      "9/9 [==============================] - 0s 49ms/step - loss: 0.3168 - acc: 0.8638 - val_loss: 0.3011 - val_acc: 0.8729\n",
      "Epoch 38/50\n",
      "9/9 [==============================] - 0s 49ms/step - loss: 0.3142 - acc: 0.8638 - val_loss: 0.2946 - val_acc: 0.8729\n",
      "Epoch 39/50\n",
      "9/9 [==============================] - 0s 47ms/step - loss: 0.3119 - acc: 0.8638 - val_loss: 0.2920 - val_acc: 0.8729\n",
      "Epoch 40/50\n",
      "9/9 [==============================] - 0s 48ms/step - loss: 0.3083 - acc: 0.8634 - val_loss: 0.2919 - val_acc: 0.8737\n",
      "Epoch 41/50\n",
      "9/9 [==============================] - 0s 48ms/step - loss: 0.3068 - acc: 0.8629 - val_loss: 0.2947 - val_acc: 0.8722\n",
      "Epoch 42/50\n",
      "9/9 [==============================] - 0s 51ms/step - loss: 0.3047 - acc: 0.8634 - val_loss: 0.2868 - val_acc: 0.8729\n",
      "Epoch 43/50\n",
      "9/9 [==============================] - 0s 47ms/step - loss: 0.3015 - acc: 0.8631 - val_loss: 0.2863 - val_acc: 0.8729\n",
      "Epoch 44/50\n",
      "9/9 [==============================] - 0s 49ms/step - loss: 0.2993 - acc: 0.8646 - val_loss: 0.2804 - val_acc: 0.8737\n",
      "Epoch 45/50\n",
      "9/9 [==============================] - 0s 49ms/step - loss: 0.2966 - acc: 0.8650 - val_loss: 0.2824 - val_acc: 0.8729\n",
      "Epoch 46/50\n",
      "9/9 [==============================] - 0s 47ms/step - loss: 0.2955 - acc: 0.8660 - val_loss: 0.2782 - val_acc: 0.8729\n",
      "Epoch 47/50\n",
      "9/9 [==============================] - 0s 49ms/step - loss: 0.2929 - acc: 0.8660 - val_loss: 0.2741 - val_acc: 0.8737\n",
      "Epoch 48/50\n",
      "9/9 [==============================] - 0s 49ms/step - loss: 0.2905 - acc: 0.8660 - val_loss: 0.2751 - val_acc: 0.8751\n",
      "Epoch 49/50\n",
      "9/9 [==============================] - 0s 49ms/step - loss: 0.2881 - acc: 0.8674 - val_loss: 0.2702 - val_acc: 0.8729\n",
      "Epoch 50/50\n",
      "9/9 [==============================] - 0s 47ms/step - loss: 0.2870 - acc: 0.8662 - val_loss: 0.2708 - val_acc: 0.8772\n"
     ]
    }
   ],
   "source": [
    "m_history = train_model(model, epochs=50, batch_size=512)"
   ]
  },
  {
   "cell_type": "code",
   "execution_count": 257,
   "id": "b9aa9c9e",
   "metadata": {
    "ExecuteTime": {
     "end_time": "2023-10-21T17:12:11.975420500Z",
     "start_time": "2023-10-21T17:12:11.854618100Z"
    }
   },
   "outputs": [
    {
     "data": {
      "text/plain": "<Figure size 640x480 with 1 Axes>",
      "image/png": "[encoded data removed]"
     },
     "metadata": {},
     "output_type": "display_data"
    }
   ],
   "source": [
    "# visualise training history\n",
    "plt.plot(m_history.history['acc'])\n",
    "plt.plot(model.history.history['val_acc'])\n",
    "plt.title('model accuracy')\n",
    "plt.ylabel('accuracy')\n",
    "plt.xlabel('epoch')\n",
    "plt.ylim(0,1)\n",
    "plt.legend(['train', 'test'], loc=\"lower right\")\n",
    "plt.show()"
   ]
  },
  {
   "cell_type": "markdown",
   "id": "62e0bdef",
   "metadata": {},
   "source": [
    "### Exercise 10\n",
    "It's now time to try training our model using pretrained word embeddings."
   ]
  },
  {
   "cell_type": "markdown",
   "id": "fcf3aea7",
   "metadata": {},
   "source": [
    "a. First, get the pretrained word embeddings of your choice, you can get;\n",
    "\n",
    "1. You can get Google word2vec from [here](https://code.google.com/archive/p/word2vec/), these embeddings are vectors of size 300\n",
    "2. You can get Stanford's GloVe embeddings from [here](https://nlp.stanford.edu/projects/glove/), you are offered a choice between embedding vectors of sizes 40, 50, 100, 200 and 300"
   ]
  },
  {
   "cell_type": "markdown",
   "id": "42fe6357",
   "metadata": {},
   "source": [
    "a. Use the Gensim library to load your embeddings\n",
    "\n",
    "Feel free to use other libraries also."
   ]
  },
  {
   "cell_type": "code",
   "execution_count": 258,
   "id": "414e5156",
   "metadata": {
    "ExecuteTime": {
     "end_time": "2023-10-21T17:12:44.908595700Z",
     "start_time": "2023-10-21T17:12:11.969308900Z"
    }
   },
   "outputs": [],
   "source": [
    "from gensim.models import KeyedVectors\n",
    "w2v_google = KeyedVectors.load_word2vec_format('GoogleNews-vectors-negative300.bin.gz', binary=True)"
   ]
  },
  {
   "cell_type": "markdown",
   "id": "5454fe31",
   "metadata": {},
   "source": [
    "b. If you work with embeddings of size 300 for example, then create a matrix **embeddings**. The shape of the matrix is (vocab_size, embedding_size=300). Each row corresponds to the embeddings of one word in your vocab."
   ]
  },
  {
   "cell_type": "code",
   "execution_count": 259,
   "id": "86a55ccc",
   "metadata": {
    "ExecuteTime": {
     "end_time": "2023-10-21T17:12:45.106480600Z",
     "start_time": "2023-10-21T17:12:44.908595700Z"
    }
   },
   "outputs": [],
   "source": [
    "embeddings = np.zeros((len(tokenizer.word_index) + 1, w2v_google.vector_size))\n",
    "for word,i in tokenizer.word_index.items():\n",
    "    if word in w2v_google.key_to_index:\n",
    "        embeddings[i] = w2v_google.get_vector(word)"
   ]
  },
  {
   "cell_type": "markdown",
   "id": "89ccda68",
   "metadata": {},
   "source": [
    "c. Print the embedding_weights shape"
   ]
  },
  {
   "cell_type": "code",
   "execution_count": 260,
   "id": "59dd1a2b",
   "metadata": {
    "ExecuteTime": {
     "end_time": "2023-10-21T17:12:45.122095800Z",
     "start_time": "2023-10-21T17:12:45.106480600Z"
    }
   },
   "outputs": [
    {
     "data": {
      "text/plain": "(8541, 300)"
     },
     "execution_count": 260,
     "metadata": {},
     "output_type": "execute_result"
    }
   ],
   "source": [
    "embeddings.shape"
   ]
  },
  {
   "cell_type": "markdown",
   "id": "45a81a22",
   "metadata": {},
   "source": [
    "### Exercise 11\n",
    "Let's now retrain our models, Simple RNN, LSTM and GRU using these embeddings.\n",
    "\n",
    "Let's start by doing it for RNN again.\n",
    "\n",
    "Define the architecture of your model again, show its summary, compile it and train it."
   ]
  },
  {
   "cell_type": "code",
   "execution_count": 261,
   "id": "062195b7",
   "metadata": {
    "ExecuteTime": {
     "end_time": "2023-10-21T17:12:45.357752100Z",
     "start_time": "2023-10-21T17:12:45.122095800Z"
    }
   },
   "outputs": [
    {
     "name": "stdout",
     "output_type": "stream",
     "text": [
      "Model: \"sequential_22\"\n",
      "_________________________________________________________________\n",
      " Layer (type)                Output Shape              Param #   \n",
      "=================================================================\n",
      " embedding_22 (Embedding)    (None, 171, 300)          2562300   \n",
      "                                                                 \n",
      " simple_rnn_10 (SimpleRNN)   (None, 1)                 302       \n",
      "                                                                 \n",
      " dense_22 (Dense)            (None, 1)                 2         \n",
      "                                                                 \n",
      "=================================================================\n",
      "Total params: 2562604 (9.78 MB)\n",
      "Trainable params: 304 (1.19 KB)\n",
      "Non-trainable params: 2562300 (9.77 MB)\n",
      "_________________________________________________________________\n"
     ]
    }
   ],
   "source": [
    "simple_rnn_model = Sequential()\n",
    "simple_rnn_model.add(Embedding(input_dim=embeddings.shape[0], output_dim=embeddings.shape[1], weights=[embeddings], input_length=max_len, trainable=False))\n",
    "simple_rnn_model.add(SimpleRNN(1))\n",
    "simple_rnn_model.add(Dense(1, activation='sigmoid'))\n",
    "simple_rnn_model.summary()"
   ]
  },
  {
   "cell_type": "code",
   "execution_count": 262,
   "id": "6c3cfa66",
   "metadata": {
    "ExecuteTime": {
     "end_time": "2023-10-21T17:12:45.420240700Z",
     "start_time": "2023-10-21T17:12:45.342104400Z"
    }
   },
   "outputs": [
    {
     "data": {
      "text/plain": "<keras.src.engine.sequential.Sequential at 0x1dd826d6440>"
     },
     "execution_count": 262,
     "metadata": {},
     "output_type": "execute_result"
    }
   ],
   "source": [
    "compile_model(simple_rnn_model)"
   ]
  },
  {
   "cell_type": "code",
   "execution_count": 263,
   "id": "13e64f53",
   "metadata": {
    "ExecuteTime": {
     "end_time": "2023-10-21T17:13:37.927448900Z",
     "start_time": "2023-10-21T17:12:45.357752100Z"
    }
   },
   "outputs": [
    {
     "name": "stdout",
     "output_type": "stream",
     "text": [
      "Epoch 1/50\n",
      "33/33 [==============================] - 2s 37ms/step - loss: 0.6658 - acc: 0.6382 - val_loss: 0.6460 - val_acc: 0.7251\n",
      "Epoch 2/50\n",
      "33/33 [==============================] - 1s 31ms/step - loss: 0.6271 - acc: 0.7784 - val_loss: 0.6125 - val_acc: 0.8098\n",
      "Epoch 3/50\n",
      "33/33 [==============================] - 1s 32ms/step - loss: 0.5949 - acc: 0.8342 - val_loss: 0.5803 - val_acc: 0.8579\n",
      "Epoch 4/50\n",
      "33/33 [==============================] - 1s 31ms/step - loss: 0.5654 - acc: 0.8636 - val_loss: 0.5514 - val_acc: 0.8715\n",
      "Epoch 5/50\n",
      "33/33 [==============================] - 1s 31ms/step - loss: 0.5394 - acc: 0.8708 - val_loss: 0.5271 - val_acc: 0.8787\n",
      "Epoch 6/50\n",
      "33/33 [==============================] - 1s 31ms/step - loss: 0.5168 - acc: 0.8751 - val_loss: 0.5057 - val_acc: 0.8787\n",
      "Epoch 7/50\n",
      "33/33 [==============================] - 1s 31ms/step - loss: 0.4973 - acc: 0.8753 - val_loss: 0.4878 - val_acc: 0.8808\n",
      "Epoch 8/50\n",
      "33/33 [==============================] - 1s 32ms/step - loss: 0.4797 - acc: 0.8787 - val_loss: 0.4707 - val_acc: 0.8816\n",
      "Epoch 9/50\n",
      "33/33 [==============================] - 1s 31ms/step - loss: 0.4631 - acc: 0.8811 - val_loss: 0.4557 - val_acc: 0.8823\n",
      "Epoch 10/50\n",
      "33/33 [==============================] - 1s 32ms/step - loss: 0.4476 - acc: 0.8842 - val_loss: 0.4411 - val_acc: 0.8837\n",
      "Epoch 11/50\n",
      "33/33 [==============================] - 1s 32ms/step - loss: 0.4334 - acc: 0.8851 - val_loss: 0.4293 - val_acc: 0.8808\n",
      "Epoch 12/50\n",
      "33/33 [==============================] - 1s 31ms/step - loss: 0.4206 - acc: 0.8866 - val_loss: 0.4172 - val_acc: 0.8830\n",
      "Epoch 13/50\n",
      "33/33 [==============================] - 1s 31ms/step - loss: 0.4094 - acc: 0.8868 - val_loss: 0.4075 - val_acc: 0.8823\n",
      "Epoch 14/50\n",
      "33/33 [==============================] - 1s 32ms/step - loss: 0.3982 - acc: 0.8902 - val_loss: 0.3975 - val_acc: 0.8837\n",
      "Epoch 15/50\n",
      "33/33 [==============================] - 1s 33ms/step - loss: 0.3885 - acc: 0.8916 - val_loss: 0.3885 - val_acc: 0.8816\n",
      "Epoch 16/50\n",
      "33/33 [==============================] - 1s 33ms/step - loss: 0.3789 - acc: 0.8921 - val_loss: 0.3802 - val_acc: 0.8823\n",
      "Epoch 17/50\n",
      "33/33 [==============================] - 1s 31ms/step - loss: 0.3708 - acc: 0.8933 - val_loss: 0.3722 - val_acc: 0.8823\n",
      "Epoch 18/50\n",
      "33/33 [==============================] - 1s 32ms/step - loss: 0.3637 - acc: 0.8930 - val_loss: 0.3660 - val_acc: 0.8823\n",
      "Epoch 19/50\n",
      "33/33 [==============================] - 1s 31ms/step - loss: 0.3567 - acc: 0.8940 - val_loss: 0.3601 - val_acc: 0.8830\n",
      "Epoch 20/50\n",
      "33/33 [==============================] - 1s 32ms/step - loss: 0.3497 - acc: 0.8950 - val_loss: 0.3544 - val_acc: 0.8830\n",
      "Epoch 21/50\n",
      "33/33 [==============================] - 1s 31ms/step - loss: 0.3438 - acc: 0.8957 - val_loss: 0.3491 - val_acc: 0.8844\n",
      "Epoch 22/50\n",
      "33/33 [==============================] - 1s 31ms/step - loss: 0.3388 - acc: 0.8957 - val_loss: 0.3446 - val_acc: 0.8859\n",
      "Epoch 23/50\n",
      "33/33 [==============================] - 1s 32ms/step - loss: 0.3345 - acc: 0.8964 - val_loss: 0.3411 - val_acc: 0.8837\n",
      "Epoch 24/50\n",
      "33/33 [==============================] - 1s 32ms/step - loss: 0.3306 - acc: 0.8971 - val_loss: 0.3381 - val_acc: 0.8859\n",
      "Epoch 25/50\n",
      "33/33 [==============================] - 1s 31ms/step - loss: 0.3269 - acc: 0.8976 - val_loss: 0.3367 - val_acc: 0.8866\n",
      "Epoch 26/50\n",
      "33/33 [==============================] - 1s 31ms/step - loss: 0.3235 - acc: 0.8978 - val_loss: 0.3328 - val_acc: 0.8866\n",
      "Epoch 27/50\n",
      "33/33 [==============================] - 1s 31ms/step - loss: 0.3204 - acc: 0.8997 - val_loss: 0.3311 - val_acc: 0.8851\n",
      "Epoch 28/50\n",
      "33/33 [==============================] - 1s 31ms/step - loss: 0.3173 - acc: 0.9002 - val_loss: 0.3285 - val_acc: 0.8866\n",
      "Epoch 29/50\n",
      "33/33 [==============================] - 1s 31ms/step - loss: 0.3155 - acc: 0.9007 - val_loss: 0.3277 - val_acc: 0.8859\n",
      "Epoch 30/50\n",
      "33/33 [==============================] - 1s 31ms/step - loss: 0.3126 - acc: 0.9024 - val_loss: 0.3258 - val_acc: 0.8873\n",
      "Epoch 31/50\n",
      "33/33 [==============================] - 1s 31ms/step - loss: 0.3112 - acc: 0.9026 - val_loss: 0.3251 - val_acc: 0.8866\n",
      "Epoch 32/50\n",
      "33/33 [==============================] - 1s 31ms/step - loss: 0.3095 - acc: 0.9040 - val_loss: 0.3230 - val_acc: 0.8887\n",
      "Epoch 33/50\n",
      "33/33 [==============================] - 1s 32ms/step - loss: 0.3078 - acc: 0.9048 - val_loss: 0.3229 - val_acc: 0.8902\n",
      "Epoch 34/50\n",
      "33/33 [==============================] - 1s 32ms/step - loss: 0.3059 - acc: 0.9048 - val_loss: 0.3218 - val_acc: 0.8894\n",
      "Epoch 35/50\n",
      "33/33 [==============================] - 1s 32ms/step - loss: 0.3049 - acc: 0.9064 - val_loss: 0.3206 - val_acc: 0.8923\n",
      "Epoch 36/50\n",
      "33/33 [==============================] - 1s 32ms/step - loss: 0.3025 - acc: 0.9084 - val_loss: 0.3194 - val_acc: 0.8945\n",
      "Epoch 37/50\n",
      "33/33 [==============================] - 1s 32ms/step - loss: 0.3009 - acc: 0.9098 - val_loss: 0.3187 - val_acc: 0.8945\n",
      "Epoch 38/50\n",
      "33/33 [==============================] - 1s 32ms/step - loss: 0.2988 - acc: 0.9098 - val_loss: 0.3177 - val_acc: 0.8959\n",
      "Epoch 39/50\n",
      "33/33 [==============================] - 1s 32ms/step - loss: 0.2966 - acc: 0.9105 - val_loss: 0.3146 - val_acc: 0.8952\n",
      "Epoch 40/50\n",
      "33/33 [==============================] - 1s 32ms/step - loss: 0.2938 - acc: 0.9117 - val_loss: 0.3127 - val_acc: 0.8959\n",
      "Epoch 41/50\n",
      "33/33 [==============================] - 1s 32ms/step - loss: 0.2928 - acc: 0.9112 - val_loss: 0.3108 - val_acc: 0.8938\n",
      "Epoch 42/50\n",
      "33/33 [==============================] - 1s 31ms/step - loss: 0.2913 - acc: 0.9115 - val_loss: 0.3084 - val_acc: 0.8973\n",
      "Epoch 43/50\n",
      "33/33 [==============================] - 1s 32ms/step - loss: 0.2895 - acc: 0.9117 - val_loss: 0.3099 - val_acc: 0.8988\n",
      "Epoch 44/50\n",
      "33/33 [==============================] - 1s 32ms/step - loss: 0.2890 - acc: 0.9127 - val_loss: 0.3092 - val_acc: 0.8952\n",
      "Epoch 45/50\n",
      "33/33 [==============================] - 1s 31ms/step - loss: 0.2871 - acc: 0.9136 - val_loss: 0.3072 - val_acc: 0.8952\n",
      "Epoch 46/50\n",
      "33/33 [==============================] - 1s 33ms/step - loss: 0.2856 - acc: 0.9143 - val_loss: 0.3078 - val_acc: 0.8973\n",
      "Epoch 47/50\n",
      "33/33 [==============================] - 1s 31ms/step - loss: 0.2836 - acc: 0.9158 - val_loss: 0.3080 - val_acc: 0.8988\n",
      "Epoch 48/50\n",
      "33/33 [==============================] - 1s 31ms/step - loss: 0.2824 - acc: 0.9162 - val_loss: 0.3074 - val_acc: 0.9002\n",
      "Epoch 49/50\n",
      "33/33 [==============================] - 1s 31ms/step - loss: 0.2810 - acc: 0.9172 - val_loss: 0.3059 - val_acc: 0.9009\n",
      "Epoch 50/50\n",
      "33/33 [==============================] - 1s 32ms/step - loss: 0.2796 - acc: 0.9174 - val_loss: 0.3055 - val_acc: 0.9002\n"
     ]
    }
   ],
   "source": [
    "m_history = train_model(simple_rnn_model, epochs=50, batch_size=128)"
   ]
  },
  {
   "cell_type": "code",
   "execution_count": 264,
   "id": "6d185eb4",
   "metadata": {
    "ExecuteTime": {
     "end_time": "2023-10-21T17:13:38.065757100Z",
     "start_time": "2023-10-21T17:13:37.933694800Z"
    }
   },
   "outputs": [
    {
     "data": {
      "text/plain": "<Figure size 640x480 with 1 Axes>",
      "image/png": "[encoded data removed]"
     },
     "metadata": {},
     "output_type": "display_data"
    }
   ],
   "source": [
    "# visualise training history\n",
    "plt.plot(m_history.history['acc'])\n",
    "plt.plot(model.history.history['val_acc'])\n",
    "plt.title('model accuracy')\n",
    "plt.ylabel('accuracy')\n",
    "plt.xlabel('epoch')\n",
    "plt.ylim(0,1)\n",
    "plt.legend(['train', 'test'], loc=\"lower right\")\n",
    "plt.show()"
   ]
  },
  {
   "cell_type": "markdown",
   "id": "22dcb3cb",
   "metadata": {},
   "source": [
    "### Exercise 12\n",
    "\n",
    "Let's now retrain the model with LSTM architecture.\n",
    "\n",
    "Define the architecture of your model again, show its summary, compile it and train it."
   ]
  },
  {
   "cell_type": "code",
   "execution_count": 265,
   "id": "41200243",
   "metadata": {
    "ExecuteTime": {
     "end_time": "2023-10-21T17:13:38.317757400Z",
     "start_time": "2023-10-21T17:13:38.065757100Z"
    }
   },
   "outputs": [
    {
     "name": "stdout",
     "output_type": "stream",
     "text": [
      "Model: \"sequential_23\"\n",
      "_________________________________________________________________\n",
      " Layer (type)                Output Shape              Param #   \n",
      "=================================================================\n",
      " embedding_23 (Embedding)    (None, 171, 300)          2562300   \n",
      "                                                                 \n",
      " lstm_8 (LSTM)               (None, 1)                 1208      \n",
      "                                                                 \n",
      " dense_23 (Dense)            (None, 1)                 2         \n",
      "                                                                 \n",
      "=================================================================\n",
      "Total params: 2563510 (9.78 MB)\n",
      "Trainable params: 1210 (4.73 KB)\n",
      "Non-trainable params: 2562300 (9.77 MB)\n",
      "_________________________________________________________________\n"
     ]
    }
   ],
   "source": [
    "lstm_model = Sequential()\n",
    "lstm_model.add(Embedding(input_dim=embeddings.shape[0], output_dim=embeddings.shape[1], weights=[embeddings], input_length=max_len, trainable=False))\n",
    "lstm_model.add(LSTM(1))\n",
    "lstm_model.add(Dense(1, activation='sigmoid'))\n",
    "lstm_model.summary()"
   ]
  },
  {
   "cell_type": "code",
   "execution_count": 266,
   "id": "3f3c259e",
   "metadata": {
    "ExecuteTime": {
     "end_time": "2023-10-21T17:13:38.317757400Z",
     "start_time": "2023-10-21T17:13:38.271298900Z"
    }
   },
   "outputs": [
    {
     "data": {
      "text/plain": "<keras.src.engine.sequential.Sequential at 0x1e00f425450>"
     },
     "execution_count": 266,
     "metadata": {},
     "output_type": "execute_result"
    }
   ],
   "source": [
    "compile_model(lstm_model, optimizer='adam')"
   ]
  },
  {
   "cell_type": "code",
   "execution_count": 267,
   "id": "e1813cdc",
   "metadata": {
    "ExecuteTime": {
     "end_time": "2023-10-21T17:14:33.325245100Z",
     "start_time": "2023-10-21T17:13:38.286491200Z"
    }
   },
   "outputs": [
    {
     "name": "stdout",
     "output_type": "stream",
     "text": [
      "Epoch 1/50\n",
      "9/9 [==============================] - 3s 197ms/step - loss: 0.6268 - acc: 0.7423 - val_loss: 0.5523 - val_acc: 0.8701\n",
      "Epoch 2/50\n",
      "9/9 [==============================] - 1s 145ms/step - loss: 0.5332 - acc: 0.8626 - val_loss: 0.5100 - val_acc: 0.8722\n",
      "Epoch 3/50\n",
      "9/9 [==============================] - 1s 136ms/step - loss: 0.5020 - acc: 0.8638 - val_loss: 0.4877 - val_acc: 0.8722\n",
      "Epoch 4/50\n",
      "9/9 [==============================] - 1s 125ms/step - loss: 0.4834 - acc: 0.8638 - val_loss: 0.4711 - val_acc: 0.8722\n",
      "Epoch 5/50\n",
      "9/9 [==============================] - 1s 127ms/step - loss: 0.4692 - acc: 0.8638 - val_loss: 0.4588 - val_acc: 0.8722\n",
      "Epoch 6/50\n",
      "9/9 [==============================] - 1s 127ms/step - loss: 0.4582 - acc: 0.8638 - val_loss: 0.4485 - val_acc: 0.8722\n",
      "Epoch 7/50\n",
      "9/9 [==============================] - 1s 126ms/step - loss: 0.4487 - acc: 0.8638 - val_loss: 0.4395 - val_acc: 0.8722\n",
      "Epoch 8/50\n",
      "9/9 [==============================] - 1s 124ms/step - loss: 0.4403 - acc: 0.8638 - val_loss: 0.4316 - val_acc: 0.8722\n",
      "Epoch 9/50\n",
      "9/9 [==============================] - 1s 126ms/step - loss: 0.4327 - acc: 0.8638 - val_loss: 0.4247 - val_acc: 0.8722\n",
      "Epoch 10/50\n",
      "9/9 [==============================] - 1s 125ms/step - loss: 0.4254 - acc: 0.8638 - val_loss: 0.4177 - val_acc: 0.8722\n",
      "Epoch 11/50\n",
      "9/9 [==============================] - 1s 123ms/step - loss: 0.4178 - acc: 0.8646 - val_loss: 0.4105 - val_acc: 0.8729\n",
      "Epoch 12/50\n",
      "9/9 [==============================] - 1s 123ms/step - loss: 0.4093 - acc: 0.8674 - val_loss: 0.4004 - val_acc: 0.8744\n",
      "Epoch 13/50\n",
      "9/9 [==============================] - 1s 125ms/step - loss: 0.3942 - acc: 0.8722 - val_loss: 0.3818 - val_acc: 0.8794\n",
      "Epoch 14/50\n",
      "9/9 [==============================] - 1s 121ms/step - loss: 0.3702 - acc: 0.8997 - val_loss: 0.3569 - val_acc: 0.9153\n",
      "Epoch 15/50\n",
      "9/9 [==============================] - 1s 119ms/step - loss: 0.3506 - acc: 0.9256 - val_loss: 0.3406 - val_acc: 0.9347\n",
      "Epoch 16/50\n",
      "9/9 [==============================] - 1s 122ms/step - loss: 0.3371 - acc: 0.9340 - val_loss: 0.3293 - val_acc: 0.9368\n",
      "Epoch 17/50\n",
      "9/9 [==============================] - 1s 118ms/step - loss: 0.3257 - acc: 0.9363 - val_loss: 0.3184 - val_acc: 0.9433\n",
      "Epoch 18/50\n",
      "9/9 [==============================] - 1s 120ms/step - loss: 0.3148 - acc: 0.9445 - val_loss: 0.3112 - val_acc: 0.9411\n",
      "Epoch 19/50\n",
      "9/9 [==============================] - 1s 119ms/step - loss: 0.3061 - acc: 0.9447 - val_loss: 0.3033 - val_acc: 0.9454\n",
      "Epoch 20/50\n",
      "9/9 [==============================] - 1s 119ms/step - loss: 0.2981 - acc: 0.9495 - val_loss: 0.2965 - val_acc: 0.9476\n",
      "Epoch 21/50\n",
      "9/9 [==============================] - 1s 117ms/step - loss: 0.2915 - acc: 0.9514 - val_loss: 0.2904 - val_acc: 0.9490\n",
      "Epoch 22/50\n",
      "9/9 [==============================] - 1s 117ms/step - loss: 0.2851 - acc: 0.9533 - val_loss: 0.2849 - val_acc: 0.9505\n",
      "Epoch 23/50\n",
      "9/9 [==============================] - 1s 119ms/step - loss: 0.2795 - acc: 0.9536 - val_loss: 0.2794 - val_acc: 0.9505\n",
      "Epoch 24/50\n",
      "9/9 [==============================] - 1s 119ms/step - loss: 0.2729 - acc: 0.9557 - val_loss: 0.2727 - val_acc: 0.9562\n",
      "Epoch 25/50\n",
      "9/9 [==============================] - 1s 124ms/step - loss: 0.2679 - acc: 0.9564 - val_loss: 0.2692 - val_acc: 0.9548\n",
      "Epoch 26/50\n",
      "9/9 [==============================] - 1s 118ms/step - loss: 0.2627 - acc: 0.9591 - val_loss: 0.2631 - val_acc: 0.9562\n",
      "Epoch 27/50\n",
      "9/9 [==============================] - 1s 118ms/step - loss: 0.2577 - acc: 0.9593 - val_loss: 0.2583 - val_acc: 0.9562\n",
      "Epoch 28/50\n",
      "9/9 [==============================] - 1s 116ms/step - loss: 0.2534 - acc: 0.9603 - val_loss: 0.2544 - val_acc: 0.9576\n",
      "Epoch 29/50\n",
      "9/9 [==============================] - 1s 119ms/step - loss: 0.2495 - acc: 0.9598 - val_loss: 0.2503 - val_acc: 0.9584\n",
      "Epoch 30/50\n",
      "9/9 [==============================] - 1s 115ms/step - loss: 0.2450 - acc: 0.9617 - val_loss: 0.2463 - val_acc: 0.9591\n",
      "Epoch 31/50\n",
      "9/9 [==============================] - 1s 116ms/step - loss: 0.2412 - acc: 0.9617 - val_loss: 0.2427 - val_acc: 0.9598\n",
      "Epoch 32/50\n",
      "9/9 [==============================] - 1s 118ms/step - loss: 0.2371 - acc: 0.9636 - val_loss: 0.2419 - val_acc: 0.9584\n",
      "Epoch 33/50\n",
      "9/9 [==============================] - 1s 117ms/step - loss: 0.2335 - acc: 0.9643 - val_loss: 0.2389 - val_acc: 0.9591\n",
      "Epoch 34/50\n",
      "9/9 [==============================] - 1s 116ms/step - loss: 0.2302 - acc: 0.9648 - val_loss: 0.2381 - val_acc: 0.9584\n",
      "Epoch 35/50\n",
      "9/9 [==============================] - 1s 116ms/step - loss: 0.2278 - acc: 0.9643 - val_loss: 0.2314 - val_acc: 0.9627\n",
      "Epoch 36/50\n",
      "9/9 [==============================] - 1s 118ms/step - loss: 0.2258 - acc: 0.9658 - val_loss: 0.2285 - val_acc: 0.9620\n",
      "Epoch 37/50\n",
      "9/9 [==============================] - 1s 117ms/step - loss: 0.2227 - acc: 0.9660 - val_loss: 0.2267 - val_acc: 0.9620\n",
      "Epoch 38/50\n",
      "9/9 [==============================] - 1s 116ms/step - loss: 0.2200 - acc: 0.9663 - val_loss: 0.2240 - val_acc: 0.9620\n",
      "Epoch 39/50\n",
      "9/9 [==============================] - 1s 118ms/step - loss: 0.2175 - acc: 0.9679 - val_loss: 0.2223 - val_acc: 0.9620\n",
      "Epoch 40/50\n",
      "9/9 [==============================] - 1s 119ms/step - loss: 0.2152 - acc: 0.9684 - val_loss: 0.2200 - val_acc: 0.9627\n",
      "Epoch 41/50\n",
      "9/9 [==============================] - 1s 118ms/step - loss: 0.2122 - acc: 0.9670 - val_loss: 0.2211 - val_acc: 0.9605\n",
      "Epoch 42/50\n",
      "9/9 [==============================] - 1s 119ms/step - loss: 0.2089 - acc: 0.9689 - val_loss: 0.2152 - val_acc: 0.9627\n",
      "Epoch 43/50\n",
      "9/9 [==============================] - 1s 117ms/step - loss: 0.2067 - acc: 0.9698 - val_loss: 0.2133 - val_acc: 0.9620\n",
      "Epoch 44/50\n",
      "9/9 [==============================] - 1s 116ms/step - loss: 0.2046 - acc: 0.9696 - val_loss: 0.2150 - val_acc: 0.9598\n",
      "Epoch 45/50\n",
      "9/9 [==============================] - 1s 119ms/step - loss: 0.2020 - acc: 0.9701 - val_loss: 0.2091 - val_acc: 0.9627\n",
      "Epoch 46/50\n",
      "9/9 [==============================] - 1s 118ms/step - loss: 0.1998 - acc: 0.9706 - val_loss: 0.2071 - val_acc: 0.9648\n",
      "Epoch 47/50\n",
      "9/9 [==============================] - 1s 117ms/step - loss: 0.1994 - acc: 0.9698 - val_loss: 0.2060 - val_acc: 0.9641\n",
      "Epoch 48/50\n",
      "9/9 [==============================] - 1s 115ms/step - loss: 0.1956 - acc: 0.9710 - val_loss: 0.2043 - val_acc: 0.9634\n",
      "Epoch 49/50\n",
      "9/9 [==============================] - 1s 117ms/step - loss: 0.1938 - acc: 0.9706 - val_loss: 0.2018 - val_acc: 0.9634\n",
      "Epoch 50/50\n",
      "9/9 [==============================] - 1s 117ms/step - loss: 0.1921 - acc: 0.9708 - val_loss: 0.2001 - val_acc: 0.9634\n"
     ]
    }
   ],
   "source": [
    "m_history = train_model(lstm_model, epochs=50, batch_size=512)"
   ]
  },
  {
   "cell_type": "code",
   "execution_count": 268,
   "id": "27d8c3d0",
   "metadata": {
    "ExecuteTime": {
     "end_time": "2023-10-21T17:14:33.435052800Z",
     "start_time": "2023-10-21T17:14:33.325245100Z"
    }
   },
   "outputs": [
    {
     "data": {
      "text/plain": "<Figure size 640x480 with 1 Axes>",
      "image/png": "[encoded data removed]"
     },
     "metadata": {},
     "output_type": "display_data"
    }
   ],
   "source": [
    "# visualise training history\n",
    "plt.plot(m_history.history['acc'])\n",
    "plt.plot(model.history.history['val_acc'])\n",
    "plt.title('model accuracy')\n",
    "plt.ylabel('accuracy')\n",
    "plt.xlabel('epoch')\n",
    "plt.ylim(0,1)\n",
    "plt.legend(['train', 'test'], loc=\"lower right\")\n",
    "plt.show()"
   ]
  },
  {
   "cell_type": "markdown",
   "id": "55b3498c",
   "metadata": {},
   "source": [
    "### Exercise 13\n",
    "\n",
    "Let's now retrain the model with GRU architecture.\n",
    "\n",
    "Define the architecture of your model again, show its summary, compile it and train it."
   ]
  },
  {
   "cell_type": "code",
   "execution_count": 269,
   "id": "2a54091f",
   "metadata": {
    "ExecuteTime": {
     "end_time": "2023-10-21T17:14:33.694189Z",
     "start_time": "2023-10-21T17:14:33.435052800Z"
    }
   },
   "outputs": [
    {
     "name": "stdout",
     "output_type": "stream",
     "text": [
      "Model: \"sequential_24\"\n",
      "_________________________________________________________________\n",
      " Layer (type)                Output Shape              Param #   \n",
      "=================================================================\n",
      " embedding_24 (Embedding)    (None, 171, 300)          2562300   \n",
      "                                                                 \n",
      " gru_4 (GRU)                 (None, 1)                 909       \n",
      "                                                                 \n",
      " dense_24 (Dense)            (None, 1)                 2         \n",
      "                                                                 \n",
      "=================================================================\n",
      "Total params: 2563211 (9.78 MB)\n",
      "Trainable params: 911 (3.56 KB)\n",
      "Non-trainable params: 2562300 (9.77 MB)\n",
      "_________________________________________________________________\n"
     ]
    }
   ],
   "source": [
    "gru_model = Sequential()\n",
    "gru_model.add(Embedding(input_dim=embeddings.shape[0], output_dim=embeddings.shape[1], weights=[embeddings], input_length=max_len, trainable=False))\n",
    "gru_model.add(GRU(1))\n",
    "gru_model.add(Dense(1, activation='sigmoid'))\n",
    "gru_model.summary()"
   ]
  },
  {
   "cell_type": "code",
   "execution_count": 270,
   "id": "18ea0729",
   "metadata": {
    "ExecuteTime": {
     "end_time": "2023-10-21T17:14:33.756683700Z",
     "start_time": "2023-10-21T17:14:33.664030800Z"
    }
   },
   "outputs": [
    {
     "data": {
      "text/plain": "<keras.src.engine.sequential.Sequential at 0x1ddeb756050>"
     },
     "execution_count": 270,
     "metadata": {},
     "output_type": "execute_result"
    }
   ],
   "source": [
    "compile_model(gru_model, optimizer='rmsprop')"
   ]
  },
  {
   "cell_type": "code",
   "execution_count": 323,
   "id": "2be10bce",
   "metadata": {
    "ExecuteTime": {
     "end_time": "2023-10-21T17:30:11.951080700Z",
     "start_time": "2023-10-21T17:29:35.055256200Z"
    }
   },
   "outputs": [
    {
     "name": "stdout",
     "output_type": "stream",
     "text": [
      "Epoch 1/50\n",
      "7/7 [==============================] - 1s 106ms/step - loss: 0.0663 - acc: 0.9208 - val_loss: 0.0658 - val_acc: 0.9218\n",
      "Epoch 2/50\n",
      "7/7 [==============================] - 1s 102ms/step - loss: 0.0659 - acc: 0.9210 - val_loss: 0.0654 - val_acc: 0.9218\n",
      "Epoch 3/50\n",
      "7/7 [==============================] - 1s 102ms/step - loss: 0.0654 - acc: 0.9210 - val_loss: 0.0649 - val_acc: 0.9219\n",
      "Epoch 4/50\n",
      "7/7 [==============================] - 1s 101ms/step - loss: 0.0649 - acc: 0.9212 - val_loss: 0.0644 - val_acc: 0.9221\n",
      "Epoch 5/50\n",
      "7/7 [==============================] - 1s 102ms/step - loss: 0.0644 - acc: 0.9214 - val_loss: 0.0639 - val_acc: 0.9223\n",
      "Epoch 6/50\n",
      "7/7 [==============================] - 1s 101ms/step - loss: 0.0639 - acc: 0.9216 - val_loss: 0.0634 - val_acc: 0.9225\n",
      "Epoch 7/50\n",
      "7/7 [==============================] - 1s 104ms/step - loss: 0.0635 - acc: 0.9218 - val_loss: 0.0630 - val_acc: 0.9224\n",
      "Epoch 8/50\n",
      "7/7 [==============================] - 1s 103ms/step - loss: 0.0630 - acc: 0.9217 - val_loss: 0.0625 - val_acc: 0.9226\n",
      "Epoch 9/50\n",
      "7/7 [==============================] - 1s 105ms/step - loss: 0.0625 - acc: 0.9219 - val_loss: 0.0620 - val_acc: 0.9227\n",
      "Epoch 10/50\n",
      "7/7 [==============================] - 1s 105ms/step - loss: 0.0620 - acc: 0.9220 - val_loss: 0.0616 - val_acc: 0.9228\n",
      "Epoch 11/50\n",
      "7/7 [==============================] - 1s 106ms/step - loss: 0.0616 - acc: 0.9222 - val_loss: 0.0611 - val_acc: 0.9230\n",
      "Epoch 12/50\n",
      "7/7 [==============================] - 1s 103ms/step - loss: 0.0611 - acc: 0.9225 - val_loss: 0.0606 - val_acc: 0.9232\n",
      "Epoch 13/50\n",
      "7/7 [==============================] - 1s 104ms/step - loss: 0.0607 - acc: 0.9225 - val_loss: 0.0602 - val_acc: 0.9231\n",
      "Epoch 14/50\n",
      "7/7 [==============================] - 1s 103ms/step - loss: 0.0602 - acc: 0.9225 - val_loss: 0.0598 - val_acc: 0.9232\n",
      "Epoch 15/50\n",
      "7/7 [==============================] - 1s 109ms/step - loss: 0.0598 - acc: 0.9227 - val_loss: 0.0593 - val_acc: 0.9233\n",
      "Epoch 16/50\n",
      "7/7 [==============================] - 1s 103ms/step - loss: 0.0593 - acc: 0.9228 - val_loss: 0.0589 - val_acc: 0.9234\n",
      "Epoch 17/50\n",
      "7/7 [==============================] - 1s 103ms/step - loss: 0.0589 - acc: 0.9229 - val_loss: 0.0584 - val_acc: 0.9236\n",
      "Epoch 18/50\n",
      "7/7 [==============================] - 1s 104ms/step - loss: 0.0584 - acc: 0.9231 - val_loss: 0.0580 - val_acc: 0.9237\n",
      "Epoch 19/50\n",
      "7/7 [==============================] - 1s 104ms/step - loss: 0.0580 - acc: 0.9232 - val_loss: 0.0575 - val_acc: 0.9239\n",
      "Epoch 20/50\n",
      "7/7 [==============================] - 1s 103ms/step - loss: 0.0580 - acc: 0.9234 - val_loss: 0.0572 - val_acc: 0.9237\n",
      "Epoch 21/50\n",
      "7/7 [==============================] - 1s 104ms/step - loss: 0.0572 - acc: 0.9231 - val_loss: 0.0568 - val_acc: 0.9237\n",
      "Epoch 22/50\n",
      "7/7 [==============================] - 1s 101ms/step - loss: 0.0568 - acc: 0.9231 - val_loss: 0.0564 - val_acc: 0.9237\n",
      "Epoch 23/50\n",
      "7/7 [==============================] - 1s 99ms/step - loss: 0.0564 - acc: 0.9231 - val_loss: 0.0560 - val_acc: 0.9237\n",
      "Epoch 24/50\n",
      "7/7 [==============================] - 1s 102ms/step - loss: 0.0560 - acc: 0.9231 - val_loss: 0.0556 - val_acc: 0.9237\n",
      "Epoch 25/50\n",
      "7/7 [==============================] - 1s 104ms/step - loss: 0.0556 - acc: 0.9231 - val_loss: 0.0552 - val_acc: 0.9237\n",
      "Epoch 26/50\n",
      "7/7 [==============================] - 1s 100ms/step - loss: 0.0553 - acc: 0.9232 - val_loss: 0.0548 - val_acc: 0.9238\n",
      "Epoch 27/50\n",
      "7/7 [==============================] - 1s 104ms/step - loss: 0.0549 - acc: 0.9232 - val_loss: 0.0545 - val_acc: 0.9238\n",
      "Epoch 28/50\n",
      "7/7 [==============================] - 1s 104ms/step - loss: 0.0545 - acc: 0.9232 - val_loss: 0.0541 - val_acc: 0.9238\n",
      "Epoch 29/50\n",
      "7/7 [==============================] - 1s 101ms/step - loss: 0.0541 - acc: 0.9233 - val_loss: 0.0537 - val_acc: 0.9239\n",
      "Epoch 30/50\n",
      "7/7 [==============================] - 1s 102ms/step - loss: 0.0538 - acc: 0.9233 - val_loss: 0.0533 - val_acc: 0.9240\n",
      "Epoch 31/50\n",
      "7/7 [==============================] - 1s 101ms/step - loss: 0.0534 - acc: 0.9234 - val_loss: 0.0530 - val_acc: 0.9240\n",
      "Epoch 32/50\n",
      "7/7 [==============================] - 1s 102ms/step - loss: 0.0530 - acc: 0.9234 - val_loss: 0.0526 - val_acc: 0.9241\n",
      "Epoch 33/50\n",
      "7/7 [==============================] - 1s 102ms/step - loss: 0.0527 - acc: 0.9235 - val_loss: 0.0522 - val_acc: 0.9242\n",
      "Epoch 34/50\n",
      "7/7 [==============================] - 1s 103ms/step - loss: 0.0523 - acc: 0.9236 - val_loss: 0.0519 - val_acc: 0.9243\n",
      "Epoch 35/50\n",
      "7/7 [==============================] - 1s 107ms/step - loss: 0.0519 - acc: 0.9237 - val_loss: 0.0515 - val_acc: 0.9244\n",
      "Epoch 36/50\n",
      "7/7 [==============================] - 1s 103ms/step - loss: 0.0516 - acc: 0.9238 - val_loss: 0.0512 - val_acc: 0.9245\n",
      "Epoch 37/50\n",
      "7/7 [==============================] - 1s 102ms/step - loss: 0.0512 - acc: 0.9239 - val_loss: 0.0508 - val_acc: 0.9246\n",
      "Epoch 38/50\n",
      "7/7 [==============================] - 1s 101ms/step - loss: 0.0509 - acc: 0.9240 - val_loss: 0.0504 - val_acc: 0.9247\n",
      "Epoch 39/50\n",
      "7/7 [==============================] - 1s 113ms/step - loss: 0.0505 - acc: 0.9242 - val_loss: 0.0501 - val_acc: 0.9248\n",
      "Epoch 40/50\n",
      "7/7 [==============================] - 1s 118ms/step - loss: 0.0501 - acc: 0.9243 - val_loss: 0.0497 - val_acc: 0.9250\n",
      "Epoch 41/50\n",
      "7/7 [==============================] - 1s 121ms/step - loss: 0.1317 - acc: 0.8282 - val_loss: 0.0494 - val_acc: 0.9248\n",
      "Epoch 42/50\n",
      "7/7 [==============================] - 1s 134ms/step - loss: 0.0495 - acc: 0.9242 - val_loss: 0.0491 - val_acc: 0.9248\n",
      "Epoch 43/50\n",
      "7/7 [==============================] - 1s 114ms/step - loss: 0.0492 - acc: 0.9242 - val_loss: 0.0488 - val_acc: 0.9248\n",
      "Epoch 44/50\n",
      "7/7 [==============================] - 1s 109ms/step - loss: 0.0489 - acc: 0.9242 - val_loss: 0.0485 - val_acc: 0.9248\n",
      "Epoch 45/50\n",
      "7/7 [==============================] - 1s 105ms/step - loss: 0.0486 - acc: 0.9242 - val_loss: 0.0482 - val_acc: 0.9248\n",
      "Epoch 46/50\n",
      "7/7 [==============================] - 1s 108ms/step - loss: 0.0483 - acc: 0.9242 - val_loss: 0.0479 - val_acc: 0.9248\n",
      "Epoch 47/50\n",
      "7/7 [==============================] - 1s 109ms/step - loss: 0.0480 - acc: 0.9242 - val_loss: 0.0477 - val_acc: 0.9248\n",
      "Epoch 48/50\n",
      "7/7 [==============================] - 1s 115ms/step - loss: 0.0477 - acc: 0.9242 - val_loss: 0.0474 - val_acc: 0.9248\n",
      "Epoch 49/50\n",
      "7/7 [==============================] - 1s 113ms/step - loss: 0.0474 - acc: 0.9242 - val_loss: 0.0471 - val_acc: 0.9248\n",
      "Epoch 50/50\n",
      "7/7 [==============================] - 1s 116ms/step - loss: 0.0471 - acc: 0.9242 - val_loss: 0.0468 - val_acc: 0.9248\n"
     ]
    }
   ],
   "source": [
    "m_history = train_model(gru_model, epochs=50, batch_size=512)"
   ]
  },
  {
   "cell_type": "code",
   "execution_count": 324,
   "id": "f0b7758a",
   "metadata": {
    "ExecuteTime": {
     "end_time": "2023-10-21T17:30:14.411671Z",
     "start_time": "2023-10-21T17:30:14.288877100Z"
    }
   },
   "outputs": [
    {
     "data": {
      "text/plain": "<Figure size 640x480 with 1 Axes>",
      "image/png": "[encoded data removed]"
     },
     "metadata": {},
     "output_type": "display_data"
    }
   ],
   "source": [
    "# visualise training history\n",
    "plt.plot(m_history.history['acc'])\n",
    "plt.plot(model.history.history['val_acc'])\n",
    "plt.title('model accuracy')\n",
    "plt.ylabel('accuracy')\n",
    "plt.xlabel('epoch')\n",
    "plt.ylim(0,1)\n",
    "plt.legend(['train', 'test'], loc=\"lower right\")\n",
    "plt.show()"
   ]
  },
  {
   "cell_type": "markdown",
   "id": "5111c546",
   "metadata": {},
   "source": [
    "### Exercise 14\n",
    "\n",
    "By now, hopefully the many-to-one RNN type makes sense. Let's now try a diffrent type, many-to-many.\n",
    "\n",
    "We wish to build our own POS tagger. Recall how POS tags help us understand a first layer of the syntactic structure of a given sentence. \n",
    "\n",
    "There are various ways with which you can build a POS tagger. A rule-based one, a probabilistic one, using Hidden Markov Models (HMMs). There's also an option to build a statistical model to learn a POS tagger. \n",
    "\n",
    "We'll try the statistical approach. The training data is abundant, available through NLTK even.\n",
    "\n",
    "We'll first acquire the TreeBank dataset."
   ]
  },
  {
   "cell_type": "code",
   "execution_count": 273,
   "id": "c78064c8",
   "metadata": {
    "ExecuteTime": {
     "end_time": "2023-10-21T17:15:27.917631300Z",
     "start_time": "2023-10-21T17:15:27.902319Z"
    }
   },
   "outputs": [
    {
     "name": "stderr",
     "output_type": "stream",
     "text": [
      "[nltk_data] Downloading package treebank to\n",
      "[nltk_data]     C:\\Users\\Aryan\\AppData\\Roaming\\nltk_data...\n",
      "[nltk_data]   Package treebank is already up-to-date!\n",
      "[nltk_data] Downloading package universal_tagset to\n",
      "[nltk_data]     C:\\Users\\Aryan\\AppData\\Roaming\\nltk_data...\n",
      "[nltk_data]   Package universal_tagset is already up-to-date!\n"
     ]
    },
    {
     "data": {
      "text/plain": "True"
     },
     "execution_count": 273,
     "metadata": {},
     "output_type": "execute_result"
    }
   ],
   "source": [
    "#You might need to download the dataset first\n",
    "nltk.download('treebank')\n",
    "nltk.download('universal_tagset')"
   ]
  },
  {
   "cell_type": "code",
   "execution_count": 274,
   "id": "c5716de2",
   "metadata": {
    "ExecuteTime": {
     "end_time": "2023-10-21T17:15:28.011813400Z",
     "start_time": "2023-10-21T17:15:27.917631300Z"
    }
   },
   "outputs": [],
   "source": [
    "corpus = treebank.tagged_sents(tagset='universal')"
   ]
  },
  {
   "cell_type": "markdown",
   "id": "da6ce78d",
   "metadata": {},
   "source": [
    "Notice that each entry in the dataset is a tuple (word, pos_tag). We want our training **X** to have the words of the sentence, and **Y** to have the equivalent POS tags."
   ]
  },
  {
   "cell_type": "code",
   "execution_count": 275,
   "id": "c8d6d75a",
   "metadata": {
    "scrolled": true,
    "ExecuteTime": {
     "end_time": "2023-10-21T17:15:28.011813400Z",
     "start_time": "2023-10-21T17:15:27.948865900Z"
    }
   },
   "outputs": [
    {
     "name": "stdout",
     "output_type": "stream",
     "text": [
      "<class 'list'>\n",
      "[('By', 'ADP'), ('1997', 'NUM'), (',', '.'), ('almost', 'ADV'), ('all', 'DET'), ('remaining', 'VERB'), ('uses', 'NOUN'), ('of', 'ADP'), ('cancer-causing', 'ADJ'), ('asbestos', 'NOUN'), ('will', 'VERB'), ('be', 'VERB'), ('outlawed', 'VERB'), ('*-6', 'X'), ('.', '.')]\n"
     ]
    }
   ],
   "source": [
    "i=25\n",
    "print(type(corpus[i]))\n",
    "print(corpus[i])"
   ]
  },
  {
   "cell_type": "markdown",
   "id": "60bd7bc7",
   "metadata": {},
   "source": [
    "a. Create your frame X which has all the sentences, and a frame Y with all the POS tags."
   ]
  },
  {
   "cell_type": "code",
   "execution_count": 276,
   "id": "d05caf4e",
   "metadata": {
    "ExecuteTime": {
     "end_time": "2023-10-21T17:15:28.837430700Z",
     "start_time": "2023-10-21T17:15:27.964490600Z"
    }
   },
   "outputs": [],
   "source": [
    "X = []\n",
    "Y = []\n",
    "for sentence in corpus:\n",
    "    x = []\n",
    "    y = []\n",
    "    for word, pos_tag in sentence:\n",
    "        x.append(word)\n",
    "        y.append(pos_tag)\n",
    "    X.append(x)\n",
    "    Y.append(y)"
   ]
  },
  {
   "cell_type": "code",
   "execution_count": 277,
   "id": "efc5b8b4",
   "metadata": {
    "scrolled": true,
    "ExecuteTime": {
     "end_time": "2023-10-21T17:15:28.853066500Z",
     "start_time": "2023-10-21T17:15:28.837430700Z"
    }
   },
   "outputs": [
    {
     "name": "stdout",
     "output_type": "stream",
     "text": [
      "['Pierre', 'Vinken', ',', '61', 'years', 'old', ',', 'will', 'join', 'the', 'board', 'as', 'a', 'nonexecutive', 'director', 'Nov.', '29', '.']\n",
      "['NOUN', 'NOUN', '.', 'NUM', 'NOUN', 'ADJ', '.', 'VERB', 'VERB', 'DET', 'NOUN', 'ADP', 'DET', 'ADJ', 'NOUN', 'NOUN', 'NUM', '.']\n"
     ]
    }
   ],
   "source": [
    "i=0\n",
    "print(X[i])\n",
    "print(Y[i])"
   ]
  },
  {
   "cell_type": "markdown",
   "id": "f90017f0",
   "metadata": {},
   "source": [
    "### Exercise 15\n",
    "\n",
    "Check that you have the same number of entries in X and Y.\n",
    "\n",
    "Check also that every entry in X, has the same number of elements as in its equivalent of Y.\n",
    "\n",
    "If a sentence in X has 5 tokens, we need to have 5 POS tags in Y."
   ]
  },
  {
   "cell_type": "code",
   "execution_count": 278,
   "id": "83fc7bb3",
   "metadata": {
    "ExecuteTime": {
     "end_time": "2023-10-21T17:15:28.915965700Z",
     "start_time": "2023-10-21T17:15:28.853066500Z"
    }
   },
   "outputs": [
    {
     "name": "stdout",
     "output_type": "stream",
     "text": [
      "Number of entries in X and Y are the same.\n"
     ]
    }
   ],
   "source": [
    "if len(X) == len(Y):\n",
    "    print(\"Number of entries in X and Y are the same.\")\n",
    "else:\n",
    "    print(\"Number of entries in X and Y are different.\")\n",
    "    \n",
    "for i in range(len(X)):\n",
    "    if len(X[i]) != len(Y[i]):\n",
    "        print(\"Shape Error\")\n",
    "        break"
   ]
  },
  {
   "cell_type": "markdown",
   "id": "2ba719eb",
   "metadata": {},
   "source": [
    "3914 sentences is enough training data for our model."
   ]
  },
  {
   "cell_type": "markdown",
   "id": "d351bcd3",
   "metadata": {},
   "source": [
    "### Exercise 16\n",
    "\n",
    "a. Let's now move on to convert X and Y both to integers, using Keras's tokenizer."
   ]
  },
  {
   "cell_type": "code",
   "execution_count": 279,
   "id": "efc2b9e4",
   "metadata": {
    "ExecuteTime": {
     "end_time": "2023-10-21T17:15:29.010111200Z",
     "start_time": "2023-10-21T17:15:28.868679700Z"
    }
   },
   "outputs": [],
   "source": [
    "tokenizer = Tokenizer()\n",
    "tokenizer.fit_on_texts(X)\n",
    "X_encoded = tokenizer.texts_to_sequences(X)\n",
    "\n",
    "tokenizer.fit_on_texts(Y)\n",
    "Y_encoded = tokenizer.texts_to_sequences(Y)"
   ]
  },
  {
   "cell_type": "markdown",
   "id": "f31ef085",
   "metadata": {},
   "source": [
    "a. Let's print the size of the vocab, also the number of different POS tags we have.\n",
    "\n",
    "We need to know how many different POS tags we have, because that should be our number of classes."
   ]
  },
  {
   "cell_type": "code",
   "execution_count": 280,
   "id": "38e88f7a",
   "metadata": {
    "ExecuteTime": {
     "end_time": "2023-10-21T17:15:29.025737900Z",
     "start_time": "2023-10-21T17:15:29.010111200Z"
    }
   },
   "outputs": [
    {
     "name": "stdout",
     "output_type": "stream",
     "text": [
      "Vocab size is 11397\n"
     ]
    }
   ],
   "source": [
    "print(\"Vocab size is\", len(tokenizer.word_index)) # number of unique words in our corpus"
   ]
  },
  {
   "cell_type": "markdown",
   "id": "9f56c96a",
   "metadata": {},
   "source": [
    "### Exercise 17\n",
    "\n",
    "Let's again pad our sentences and our tags. We, again, need to decide on our max length, a decision that is crucial as this matches the number of time steps for our RNN architecture"
   ]
  },
  {
   "cell_type": "code",
   "execution_count": 281,
   "id": "a2bb2173",
   "metadata": {
    "ExecuteTime": {
     "end_time": "2023-10-21T17:15:29.104264Z",
     "start_time": "2023-10-21T17:15:29.025737900Z"
    }
   },
   "outputs": [],
   "source": [
    "lengths = [len(x) for x in X_encoded]\n",
    "max_length = max(lengths)\n",
    "\n",
    "X_padded = pad_sequences(X_encoded, maxlen=max_length, padding='pre', truncating='pre')\n",
    "Y_padded = pad_sequences(Y_encoded, maxlen=max_length, padding='pre', truncating='pre')"
   ]
  },
  {
   "cell_type": "code",
   "execution_count": 282,
   "id": "f5ec6b83",
   "metadata": {
    "ExecuteTime": {
     "end_time": "2023-10-21T17:15:29.104264Z",
     "start_time": "2023-10-21T17:15:29.056988500Z"
    }
   },
   "outputs": [
    {
     "name": "stdout",
     "output_type": "stream",
     "text": [
      "[   0    0    0    0    0    0    0    0    0    0    0    0    0    0\n",
      "    0    0    0    0    0    0    0    0    0    0    0    0    0    0\n",
      "    0    0    0    0    0    0    0    0    0    0    0    0    0    0\n",
      "    0    0    0    0    0    0    0    0    0    0    0    0    0    0\n",
      "    0    0    0    0    0    0    0    0    0    0    0    0    0    0\n",
      "    0    0    0    0    0    0    0    0    0    0    0    0    0    0\n",
      "    0    0    0    0    0    0    0    0    0    0    0    0    0    0\n",
      "    0    0    0    0    0    0    0    0    0    0    0    0    0    0\n",
      "    0    0    0    0    0    0    0    0    0    0    0    0    0    0\n",
      "    0    0    0    0    0    0    0    0    0    0    0    0    0    0\n",
      "    0    0    0    0    0    0    0    0    0    0    0    0    0    0\n",
      "    0    0    0    0    0    0    0    0    0    0    0    0    0    0\n",
      "    0    0    0    0    0    0    0    0    0    0    0    0    0    0\n",
      "    0    0    0    0    0    0    0    0    0    0    0    0    0    0\n",
      "    0    0    0    0    0    0    0    0    0    0    0    0    0    0\n",
      "    0    0    0    0    0    0    0    0    0    0    0    0    0    0\n",
      "    0    0    0    0    0    0    0    0    0    0    0    0    0    0\n",
      "    0    0    0    0    0    0    0    0    0    0    0    0    0    0\n",
      "    0 5601 3746    1 2024   86  331    1   46 2405    2  131   27    6\n",
      " 2025  332  459 2026    3]\n",
      "[ 0  0  0  0  0  0  0  0  0  0  0  0  0  0  0  0  0  0  0  0  0  0  0  0\n",
      "  0  0  0  0  0  0  0  0  0  0  0  0  0  0  0  0  0  0  0  0  0  0  0  0\n",
      "  0  0  0  0  0  0  0  0  0  0  0  0  0  0  0  0  0  0  0  0  0  0  0  0\n",
      "  0  0  0  0  0  0  0  0  0  0  0  0  0  0  0  0  0  0  0  0  0  0  0  0\n",
      "  0  0  0  0  0  0  0  0  0  0  0  0  0  0  0  0  0  0  0  0  0  0  0  0\n",
      "  0  0  0  0  0  0  0  0  0  0  0  0  0  0  0  0  0  0  0  0  0  0  0  0\n",
      "  0  0  0  0  0  0  0  0  0  0  0  0  0  0  0  0  0  0  0  0  0  0  0  0\n",
      "  0  0  0  0  0  0  0  0  0  0  0  0  0  0  0  0  0  0  0  0  0  0  0  0\n",
      "  0  0  0  0  0  0  0  0  0  0  0  0  0  0  0  0  0  0  0  0  0  0  0  0\n",
      "  0  0  0  0  0  0  0  0  0  0  0  0  0  0  0  0  0  0  0  0  0  0  0  0\n",
      "  0  0  0  0  0  0  0  0  0  0  0  0  0  1  1  2 10  1  7  2  3  3  5  1\n",
      "  4  5  7  1  1 10  2]\n"
     ]
    }
   ],
   "source": [
    "i=0\n",
    "print(X_padded[i])\n",
    "print(Y_padded[i])"
   ]
  },
  {
   "cell_type": "markdown",
   "id": "fbefef17",
   "metadata": {},
   "source": [
    "### Exercise 18\n",
    "\n",
    "Try a first version of your RNN models without using any pretrained embeddings.\n"
   ]
  },
  {
   "cell_type": "markdown",
   "id": "7a2d7749",
   "metadata": {},
   "source": [
    "a. Let's one-hot encode Y"
   ]
  },
  {
   "cell_type": "code",
   "execution_count": 283,
   "id": "bd4d0559",
   "metadata": {
    "ExecuteTime": {
     "end_time": "2023-10-21T17:15:29.104264Z",
     "start_time": "2023-10-21T17:15:29.072613800Z"
    }
   },
   "outputs": [],
   "source": [
    "Y = to_categorical(Y_padded)"
   ]
  },
  {
   "cell_type": "markdown",
   "id": "141c405e",
   "metadata": {},
   "source": [
    "b. We create a train and test set."
   ]
  },
  {
   "cell_type": "code",
   "execution_count": 284,
   "id": "cad7174c",
   "metadata": {
    "ExecuteTime": {
     "end_time": "2023-10-21T17:15:29.179779Z",
     "start_time": "2023-10-21T17:15:29.104264Z"
    }
   },
   "outputs": [],
   "source": [
    "# split entire data into training and testing sets\n",
    "TEST_SIZE = 0.20\n",
    "X_train, X_test, y_train, y_test = train_test_split(X_padded, Y, test_size=TEST_SIZE, random_state=100)"
   ]
  },
  {
   "cell_type": "markdown",
   "id": "d4db8c06",
   "metadata": {},
   "source": [
    "c. Define your RNN model, using a simple RNN. Compile it and fit it to the data.\n",
    "\n",
    "Do not forget to wrap your Dense output layer with the TimeDistributed wrapper. We're doing a multiclassification at each time step."
   ]
  },
  {
   "cell_type": "code",
   "execution_count": 285,
   "id": "d1092104",
   "metadata": {
    "ExecuteTime": {
     "end_time": "2023-10-21T17:15:29.321210200Z",
     "start_time": "2023-10-21T17:15:29.135519800Z"
    }
   },
   "outputs": [
    {
     "name": "stdout",
     "output_type": "stream",
     "text": [
      "Model: \"sequential_25\"\n",
      "_________________________________________________________________\n",
      " Layer (type)                Output Shape              Param #   \n",
      "=================================================================\n",
      " embedding_25 (Embedding)    (None, 271, 32)           364736    \n",
      "                                                                 \n",
      " simple_rnn_11 (SimpleRNN)   (None, 271, 1)            34        \n",
      "                                                                 \n",
      " time_distributed_3 (TimeDi  (None, 271, 16)           32        \n",
      " stributed)                                                      \n",
      "                                                                 \n",
      "=================================================================\n",
      "Total params: 364802 (1.39 MB)\n",
      "Trainable params: 66 (264.00 Byte)\n",
      "Non-trainable params: 364736 (1.39 MB)\n",
      "_________________________________________________________________\n"
     ]
    }
   ],
   "source": [
    "rnn_model = Sequential()\n",
    "rnn_model.add(Embedding(input_dim=len(tokenizer.word_index) + 1, output_dim=32, input_length=max_length, trainable=False))\n",
    "rnn_model.add(SimpleRNN(1, activation='relu', return_sequences=True))\n",
    "rnn_model.add(TimeDistributed(Dense(len(Y[0][0]), activation='softmax')))\n",
    "rnn_model.summary()"
   ]
  },
  {
   "cell_type": "code",
   "execution_count": 286,
   "id": "d60a0eea",
   "metadata": {
    "ExecuteTime": {
     "end_time": "2023-10-21T17:15:29.336846900Z",
     "start_time": "2023-10-21T17:15:29.211438Z"
    }
   },
   "outputs": [
    {
     "data": {
      "text/plain": "<keras.src.engine.sequential.Sequential at 0x1dee1621c30>"
     },
     "execution_count": 286,
     "metadata": {},
     "output_type": "execute_result"
    }
   ],
   "source": [
    "compile_model(rnn_model, optimizer='adam', loss='categorical_crossentropy')"
   ]
  },
  {
   "cell_type": "code",
   "execution_count": 320,
   "id": "7bef7bae",
   "metadata": {
    "ExecuteTime": {
     "end_time": "2023-10-21T17:29:10.305444900Z",
     "start_time": "2023-10-21T17:28:03.655732300Z"
    }
   },
   "outputs": [
    {
     "name": "stdout",
     "output_type": "stream",
     "text": [
      "Epoch 1/100\n",
      "13/13 [==============================] - 1s 52ms/step - loss: 0.1987 - acc: 0.9048 - val_loss: 0.1978 - val_acc: 0.9063\n",
      "Epoch 2/100\n",
      "13/13 [==============================] - 1s 50ms/step - loss: 0.1972 - acc: 0.9048 - val_loss: 0.1964 - val_acc: 0.9063\n",
      "Epoch 3/100\n",
      "13/13 [==============================] - 1s 50ms/step - loss: 0.1958 - acc: 0.9048 - val_loss: 0.1949 - val_acc: 0.9063\n",
      "Epoch 4/100\n",
      "13/13 [==============================] - 1s 52ms/step - loss: 0.1944 - acc: 0.9048 - val_loss: 0.1935 - val_acc: 0.9063\n",
      "Epoch 5/100\n",
      "13/13 [==============================] - 1s 51ms/step - loss: 0.1930 - acc: 0.9048 - val_loss: 0.1920 - val_acc: 0.9063\n",
      "Epoch 6/100\n",
      "13/13 [==============================] - 1s 49ms/step - loss: 0.1915 - acc: 0.9048 - val_loss: 0.1906 - val_acc: 0.9063\n",
      "Epoch 7/100\n",
      "13/13 [==============================] - 1s 50ms/step - loss: 0.1901 - acc: 0.9048 - val_loss: 0.1892 - val_acc: 0.9063\n",
      "Epoch 8/100\n",
      "13/13 [==============================] - 1s 49ms/step - loss: 0.1886 - acc: 0.9048 - val_loss: 0.1877 - val_acc: 0.9063\n",
      "Epoch 9/100\n",
      "13/13 [==============================] - 1s 50ms/step - loss: 0.1872 - acc: 0.9048 - val_loss: 0.1863 - val_acc: 0.9063\n",
      "Epoch 10/100\n",
      "13/13 [==============================] - 1s 49ms/step - loss: 0.1858 - acc: 0.9048 - val_loss: 0.1849 - val_acc: 0.9063\n",
      "Epoch 11/100\n",
      "13/13 [==============================] - 1s 52ms/step - loss: 0.1844 - acc: 0.9048 - val_loss: 0.1834 - val_acc: 0.9063\n",
      "Epoch 12/100\n",
      "13/13 [==============================] - 1s 50ms/step - loss: 0.1829 - acc: 0.9048 - val_loss: 0.1820 - val_acc: 0.9063\n",
      "Epoch 13/100\n",
      "13/13 [==============================] - 1s 49ms/step - loss: 0.1815 - acc: 0.9048 - val_loss: 0.1806 - val_acc: 0.9063\n",
      "Epoch 14/100\n",
      "13/13 [==============================] - 1s 51ms/step - loss: 0.1801 - acc: 0.9048 - val_loss: 0.1792 - val_acc: 0.9063\n",
      "Epoch 15/100\n",
      "13/13 [==============================] - 1s 50ms/step - loss: 0.1787 - acc: 0.9048 - val_loss: 0.1778 - val_acc: 0.9063\n",
      "Epoch 16/100\n",
      "13/13 [==============================] - 1s 51ms/step - loss: 0.1772 - acc: 0.9048 - val_loss: 0.1763 - val_acc: 0.9063\n",
      "Epoch 17/100\n",
      "13/13 [==============================] - 1s 52ms/step - loss: 0.1758 - acc: 0.9048 - val_loss: 0.1749 - val_acc: 0.9063\n",
      "Epoch 18/100\n",
      "13/13 [==============================] - 1s 51ms/step - loss: 0.1744 - acc: 0.9048 - val_loss: 0.1735 - val_acc: 0.9063\n",
      "Epoch 19/100\n",
      "13/13 [==============================] - 1s 50ms/step - loss: 0.1730 - acc: 0.9048 - val_loss: 0.1721 - val_acc: 0.9063\n",
      "Epoch 20/100\n",
      "13/13 [==============================] - 1s 52ms/step - loss: 0.1716 - acc: 0.9048 - val_loss: 0.1707 - val_acc: 0.9063\n",
      "Epoch 21/100\n",
      "13/13 [==============================] - 1s 54ms/step - loss: 0.1702 - acc: 0.9048 - val_loss: 0.1693 - val_acc: 0.9063\n",
      "Epoch 22/100\n",
      "13/13 [==============================] - 1s 53ms/step - loss: 0.1688 - acc: 0.9048 - val_loss: 0.1679 - val_acc: 0.9063\n",
      "Epoch 23/100\n",
      "13/13 [==============================] - 1s 55ms/step - loss: 0.1674 - acc: 0.9048 - val_loss: 0.1665 - val_acc: 0.9063\n",
      "Epoch 24/100\n",
      "13/13 [==============================] - 1s 55ms/step - loss: 0.1660 - acc: 0.9048 - val_loss: 0.1651 - val_acc: 0.9063\n",
      "Epoch 25/100\n",
      "13/13 [==============================] - 1s 51ms/step - loss: 0.1646 - acc: 0.9048 - val_loss: 0.1637 - val_acc: 0.9063\n",
      "Epoch 26/100\n",
      "13/13 [==============================] - 1s 52ms/step - loss: 0.1632 - acc: 0.9048 - val_loss: 0.1623 - val_acc: 0.9063\n",
      "Epoch 27/100\n",
      "13/13 [==============================] - 1s 51ms/step - loss: 0.1618 - acc: 0.9048 - val_loss: 0.1609 - val_acc: 0.9063\n",
      "Epoch 28/100\n",
      "13/13 [==============================] - 1s 55ms/step - loss: 0.1604 - acc: 0.9048 - val_loss: 0.1595 - val_acc: 0.9063\n",
      "Epoch 29/100\n",
      "13/13 [==============================] - 1s 53ms/step - loss: 0.1590 - acc: 0.9048 - val_loss: 0.1581 - val_acc: 0.9063\n",
      "Epoch 30/100\n",
      "13/13 [==============================] - 1s 55ms/step - loss: 0.1576 - acc: 0.9048 - val_loss: 0.1567 - val_acc: 0.9063\n",
      "Epoch 31/100\n",
      "13/13 [==============================] - 1s 52ms/step - loss: 0.1563 - acc: 0.9048 - val_loss: 0.1553 - val_acc: 0.9063\n",
      "Epoch 32/100\n",
      "13/13 [==============================] - 1s 53ms/step - loss: 0.1549 - acc: 0.9048 - val_loss: 0.1539 - val_acc: 0.9063\n",
      "Epoch 33/100\n",
      "13/13 [==============================] - 1s 51ms/step - loss: 0.1535 - acc: 0.9048 - val_loss: 0.1526 - val_acc: 0.9063\n",
      "Epoch 34/100\n",
      "13/13 [==============================] - 1s 51ms/step - loss: 0.1524 - acc: 0.9048 - val_loss: 0.1512 - val_acc: 0.9063\n",
      "Epoch 35/100\n",
      "13/13 [==============================] - 1s 50ms/step - loss: 0.1508 - acc: 0.9048 - val_loss: 0.1498 - val_acc: 0.9063\n",
      "Epoch 36/100\n",
      "13/13 [==============================] - 1s 51ms/step - loss: 0.1494 - acc: 0.9048 - val_loss: 0.1485 - val_acc: 0.9063\n",
      "Epoch 37/100\n",
      "13/13 [==============================] - 1s 54ms/step - loss: 0.1480 - acc: 0.9048 - val_loss: 0.1471 - val_acc: 0.9063\n",
      "Epoch 38/100\n",
      "13/13 [==============================] - 1s 51ms/step - loss: 0.1467 - acc: 0.9049 - val_loss: 0.1457 - val_acc: 0.9063\n",
      "Epoch 39/100\n",
      "13/13 [==============================] - 1s 51ms/step - loss: 0.1453 - acc: 0.9049 - val_loss: 0.1444 - val_acc: 0.9063\n",
      "Epoch 40/100\n",
      "13/13 [==============================] - 1s 50ms/step - loss: 0.1442 - acc: 0.9049 - val_loss: 0.1430 - val_acc: 0.9063\n",
      "Epoch 41/100\n",
      "13/13 [==============================] - 1s 51ms/step - loss: 0.1426 - acc: 0.9049 - val_loss: 0.1417 - val_acc: 0.9063\n",
      "Epoch 42/100\n",
      "13/13 [==============================] - 1s 51ms/step - loss: 0.1413 - acc: 0.9049 - val_loss: 0.1404 - val_acc: 0.9063\n",
      "Epoch 43/100\n",
      "13/13 [==============================] - 1s 50ms/step - loss: 0.1400 - acc: 0.9049 - val_loss: 0.1390 - val_acc: 0.9063\n",
      "Epoch 44/100\n",
      "13/13 [==============================] - 1s 52ms/step - loss: 0.1386 - acc: 0.9049 - val_loss: 0.1377 - val_acc: 0.9064\n",
      "Epoch 45/100\n",
      "13/13 [==============================] - 1s 51ms/step - loss: 0.1373 - acc: 0.9049 - val_loss: 0.1363 - val_acc: 0.9064\n",
      "Epoch 46/100\n",
      "13/13 [==============================] - 1s 51ms/step - loss: 0.1360 - acc: 0.9050 - val_loss: 0.1350 - val_acc: 0.9064\n",
      "Epoch 47/100\n",
      "13/13 [==============================] - 1s 51ms/step - loss: 0.1347 - acc: 0.9050 - val_loss: 0.1337 - val_acc: 0.9064\n",
      "Epoch 48/100\n",
      "13/13 [==============================] - 1s 52ms/step - loss: 0.1333 - acc: 0.9050 - val_loss: 0.1324 - val_acc: 0.9064\n",
      "Epoch 49/100\n",
      "13/13 [==============================] - 1s 51ms/step - loss: 0.1320 - acc: 0.9050 - val_loss: 0.1311 - val_acc: 0.9064\n",
      "Epoch 50/100\n",
      "13/13 [==============================] - 1s 56ms/step - loss: 0.1307 - acc: 0.9050 - val_loss: 0.1297 - val_acc: 0.9065\n",
      "Epoch 51/100\n",
      "13/13 [==============================] - 1s 51ms/step - loss: 0.1295 - acc: 0.9050 - val_loss: 0.1285 - val_acc: 0.9064\n",
      "Epoch 52/100\n",
      "13/13 [==============================] - 1s 52ms/step - loss: 0.1281 - acc: 0.9050 - val_loss: 0.1272 - val_acc: 0.9064\n",
      "Epoch 53/100\n",
      "13/13 [==============================] - 1s 52ms/step - loss: 0.1268 - acc: 0.9050 - val_loss: 0.1259 - val_acc: 0.9064\n",
      "Epoch 54/100\n",
      "13/13 [==============================] - 1s 52ms/step - loss: 0.1256 - acc: 0.9050 - val_loss: 0.1246 - val_acc: 0.9065\n",
      "Epoch 55/100\n",
      "13/13 [==============================] - 1s 52ms/step - loss: 0.1243 - acc: 0.9050 - val_loss: 0.1233 - val_acc: 0.9065\n",
      "Epoch 56/100\n",
      "13/13 [==============================] - 1s 53ms/step - loss: 0.1230 - acc: 0.9050 - val_loss: 0.1220 - val_acc: 0.9066\n",
      "Epoch 57/100\n",
      "13/13 [==============================] - 1s 52ms/step - loss: 0.1226 - acc: 0.9055 - val_loss: 0.1208 - val_acc: 0.9065\n",
      "Epoch 58/100\n",
      "13/13 [==============================] - 1s 50ms/step - loss: 0.1205 - acc: 0.9050 - val_loss: 0.1195 - val_acc: 0.9065\n",
      "Epoch 59/100\n",
      "13/13 [==============================] - 1s 50ms/step - loss: 0.1192 - acc: 0.9050 - val_loss: 0.1183 - val_acc: 0.9065\n",
      "Epoch 60/100\n",
      "13/13 [==============================] - 1s 52ms/step - loss: 0.1180 - acc: 0.9050 - val_loss: 0.1171 - val_acc: 0.9065\n",
      "Epoch 61/100\n",
      "13/13 [==============================] - 1s 50ms/step - loss: 0.1168 - acc: 0.9050 - val_loss: 0.1158 - val_acc: 0.9065\n",
      "Epoch 62/100\n",
      "13/13 [==============================] - 1s 52ms/step - loss: 0.1156 - acc: 0.9050 - val_loss: 0.1146 - val_acc: 0.9065\n",
      "Epoch 63/100\n",
      "13/13 [==============================] - 1s 50ms/step - loss: 0.1143 - acc: 0.9050 - val_loss: 0.1133 - val_acc: 0.9066\n",
      "Epoch 64/100\n",
      "13/13 [==============================] - 1s 51ms/step - loss: 0.1131 - acc: 0.9051 - val_loss: 0.1120 - val_acc: 0.9067\n",
      "Epoch 65/100\n",
      "13/13 [==============================] - 1s 51ms/step - loss: 0.1126 - acc: 0.9064 - val_loss: 0.1110 - val_acc: 0.9066\n",
      "Epoch 66/100\n",
      "13/13 [==============================] - 1s 52ms/step - loss: 0.1107 - acc: 0.9051 - val_loss: 0.1098 - val_acc: 0.9066\n",
      "Epoch 67/100\n",
      "13/13 [==============================] - 1s 51ms/step - loss: 0.1095 - acc: 0.9051 - val_loss: 0.1086 - val_acc: 0.9066\n",
      "Epoch 68/100\n",
      "13/13 [==============================] - 1s 52ms/step - loss: 0.1084 - acc: 0.9051 - val_loss: 0.1074 - val_acc: 0.9066\n",
      "Epoch 69/100\n",
      "13/13 [==============================] - 1s 51ms/step - loss: 0.1072 - acc: 0.9051 - val_loss: 0.1062 - val_acc: 0.9066\n",
      "Epoch 70/100\n",
      "13/13 [==============================] - 1s 51ms/step - loss: 0.1060 - acc: 0.9052 - val_loss: 0.1050 - val_acc: 0.9067\n",
      "Epoch 71/100\n",
      "13/13 [==============================] - 1s 50ms/step - loss: 0.1048 - acc: 0.9054 - val_loss: 0.1037 - val_acc: 0.9069\n",
      "Epoch 72/100\n",
      "13/13 [==============================] - 1s 52ms/step - loss: 0.1051 - acc: 0.9024 - val_loss: 0.1027 - val_acc: 0.9069\n",
      "Epoch 73/100\n",
      "13/13 [==============================] - 1s 52ms/step - loss: 0.1025 - acc: 0.9054 - val_loss: 0.1016 - val_acc: 0.9069\n",
      "Epoch 74/100\n",
      "13/13 [==============================] - 1s 52ms/step - loss: 0.1014 - acc: 0.9054 - val_loss: 0.1005 - val_acc: 0.9069\n",
      "Epoch 75/100\n",
      "13/13 [==============================] - 1s 51ms/step - loss: 0.1003 - acc: 0.9054 - val_loss: 0.0993 - val_acc: 0.9069\n",
      "Epoch 76/100\n",
      "13/13 [==============================] - 1s 52ms/step - loss: 0.0992 - acc: 0.9054 - val_loss: 0.0982 - val_acc: 0.9069\n",
      "Epoch 77/100\n",
      "13/13 [==============================] - 1s 52ms/step - loss: 0.0981 - acc: 0.9055 - val_loss: 0.0971 - val_acc: 0.9070\n",
      "Epoch 78/100\n",
      "13/13 [==============================] - 1s 51ms/step - loss: 0.0970 - acc: 0.9056 - val_loss: 0.0960 - val_acc: 0.9072\n",
      "Epoch 79/100\n",
      "13/13 [==============================] - 1s 51ms/step - loss: 0.0959 - acc: 0.9059 - val_loss: 0.0948 - val_acc: 0.9074\n",
      "Epoch 80/100\n",
      "13/13 [==============================] - 1s 51ms/step - loss: 0.0947 - acc: 0.9063 - val_loss: 0.0937 - val_acc: 0.9080\n",
      "Epoch 81/100\n",
      "13/13 [==============================] - 1s 53ms/step - loss: 0.0935 - acc: 0.9069 - val_loss: 0.0925 - val_acc: 0.9088\n",
      "Epoch 82/100\n",
      "13/13 [==============================] - 1s 51ms/step - loss: 0.1319 - acc: 0.8802 - val_loss: 0.0915 - val_acc: 0.9084\n",
      "Epoch 83/100\n",
      "13/13 [==============================] - 1s 51ms/step - loss: 0.0914 - acc: 0.9070 - val_loss: 0.0905 - val_acc: 0.9083\n",
      "Epoch 84/100\n",
      "13/13 [==============================] - 1s 52ms/step - loss: 0.0904 - acc: 0.9070 - val_loss: 0.0895 - val_acc: 0.9083\n",
      "Epoch 85/100\n",
      "13/13 [==============================] - 1s 51ms/step - loss: 0.0894 - acc: 0.9070 - val_loss: 0.0885 - val_acc: 0.9083\n",
      "Epoch 86/100\n",
      "13/13 [==============================] - 1s 50ms/step - loss: 0.0884 - acc: 0.9070 - val_loss: 0.0875 - val_acc: 0.9083\n",
      "Epoch 87/100\n",
      "13/13 [==============================] - 1s 51ms/step - loss: 0.0874 - acc: 0.9071 - val_loss: 0.0865 - val_acc: 0.9084\n",
      "Epoch 88/100\n",
      "13/13 [==============================] - 1s 51ms/step - loss: 0.0864 - acc: 0.9071 - val_loss: 0.0855 - val_acc: 0.9085\n",
      "Epoch 89/100\n",
      "13/13 [==============================] - 1s 51ms/step - loss: 0.0854 - acc: 0.9072 - val_loss: 0.0845 - val_acc: 0.9087\n",
      "Epoch 90/100\n",
      "13/13 [==============================] - 1s 52ms/step - loss: 0.0844 - acc: 0.9074 - val_loss: 0.0836 - val_acc: 0.9090\n",
      "Epoch 91/100\n",
      "13/13 [==============================] - 1s 53ms/step - loss: 0.0835 - acc: 0.9078 - val_loss: 0.0826 - val_acc: 0.9093\n",
      "Epoch 92/100\n",
      "13/13 [==============================] - 1s 54ms/step - loss: 0.0824 - acc: 0.9082 - val_loss: 0.0816 - val_acc: 0.9098\n",
      "Epoch 93/100\n",
      "13/13 [==============================] - 1s 52ms/step - loss: 0.0814 - acc: 0.9088 - val_loss: 0.0806 - val_acc: 0.9101\n",
      "Epoch 94/100\n",
      "13/13 [==============================] - 1s 52ms/step - loss: 0.0804 - acc: 0.9091 - val_loss: 0.0795 - val_acc: 0.9107\n",
      "Epoch 95/100\n",
      "13/13 [==============================] - 1s 52ms/step - loss: 0.1508 - acc: 0.8671 - val_loss: 0.0787 - val_acc: 0.9100\n",
      "Epoch 96/100\n",
      "13/13 [==============================] - 1s 54ms/step - loss: 0.0787 - acc: 0.9087 - val_loss: 0.0779 - val_acc: 0.9099\n",
      "Epoch 97/100\n",
      "13/13 [==============================] - 1s 51ms/step - loss: 0.0778 - acc: 0.9087 - val_loss: 0.0770 - val_acc: 0.9099\n",
      "Epoch 98/100\n",
      "13/13 [==============================] - 1s 52ms/step - loss: 0.0769 - acc: 0.9087 - val_loss: 0.0761 - val_acc: 0.9099\n",
      "Epoch 99/100\n",
      "13/13 [==============================] - 1s 51ms/step - loss: 0.0761 - acc: 0.9087 - val_loss: 0.0752 - val_acc: 0.9100\n",
      "Epoch 100/100\n",
      "13/13 [==============================] - 1s 52ms/step - loss: 0.0752 - acc: 0.9088 - val_loss: 0.0744 - val_acc: 0.9100\n"
     ]
    }
   ],
   "source": [
    "m_history = train_model(rnn_model, epochs=100, batch_size=256)"
   ]
  },
  {
   "cell_type": "code",
   "execution_count": 321,
   "outputs": [
    {
     "data": {
      "text/plain": "<Figure size 640x480 with 1 Axes>",
      "image/png": "[encoded data removed]"
     },
     "metadata": {},
     "output_type": "display_data"
    }
   ],
   "source": [
    "plt.plot(m_history.history['acc'])\n",
    "plt.plot(m_history.history['val_acc'])\n",
    "plt.title('model accuracy')\n",
    "plt.ylabel('accuracy')\n",
    "plt.ylim(0, 1)\n",
    "plt.xlabel('epoch')\n",
    "plt.legend(['train', 'test'], loc=\"lower right\")\n",
    "plt.show()"
   ],
   "metadata": {
    "collapsed": false,
    "ExecuteTime": {
     "end_time": "2023-10-21T17:29:12.994910200Z",
     "start_time": "2023-10-21T17:29:12.877932900Z"
    }
   },
   "id": "11ec5b9faa470d77"
  },
  {
   "cell_type": "markdown",
   "id": "bd5a1ad2",
   "metadata": {},
   "source": [
    "### Exercise 19\n",
    "Retrain the model with an LSTM. \n",
    "This should work faster, and yield better results.\n",
    "Define, compile and fit your model."
   ]
  },
  {
   "cell_type": "code",
   "execution_count": 289,
   "id": "e2127a8f",
   "metadata": {
    "ExecuteTime": {
     "end_time": "2023-10-21T17:16:11.953230500Z",
     "start_time": "2023-10-21T17:16:11.831420200Z"
    }
   },
   "outputs": [
    {
     "name": "stdout",
     "output_type": "stream",
     "text": [
      "Model: \"sequential_26\"\n",
      "_________________________________________________________________\n",
      " Layer (type)                Output Shape              Param #   \n",
      "=================================================================\n",
      " embedding_26 (Embedding)    (None, 271, 32)           364736    \n",
      "                                                                 \n",
      " lstm_9 (LSTM)               (None, 271, 1)            136       \n",
      "                                                                 \n",
      " time_distributed_4 (TimeDi  (None, 271, 16)           32        \n",
      " stributed)                                                      \n",
      "                                                                 \n",
      "=================================================================\n",
      "Total params: 364904 (1.39 MB)\n",
      "Trainable params: 168 (672.00 Byte)\n",
      "Non-trainable params: 364736 (1.39 MB)\n",
      "_________________________________________________________________\n"
     ]
    }
   ],
   "source": [
    "lstm_model = Sequential()\n",
    "lstm_model.add(Embedding(input_dim=len(tokenizer.word_index) + 1, output_dim=32, input_length=max_length, trainable=False))\n",
    "lstm_model.add(LSTM(1, activation='relu', return_sequences=True))\n",
    "lstm_model.add(TimeDistributed(Dense(len(Y[0][0]), activation='softmax')))\n",
    "lstm_model.summary()"
   ]
  },
  {
   "cell_type": "code",
   "execution_count": 290,
   "id": "3831fecc",
   "metadata": {
    "ExecuteTime": {
     "end_time": "2023-10-21T17:16:11.953230500Z",
     "start_time": "2023-10-21T17:16:11.921975300Z"
    }
   },
   "outputs": [
    {
     "data": {
      "text/plain": "<keras.src.engine.sequential.Sequential at 0x1deeb549450>"
     },
     "execution_count": 290,
     "metadata": {},
     "output_type": "execute_result"
    }
   ],
   "source": [
    "compile_model(lstm_model, optimizer='adam', loss='categorical_crossentropy')"
   ]
  },
  {
   "cell_type": "code",
   "execution_count": 316,
   "id": "f6b7319e",
   "metadata": {
    "ExecuteTime": {
     "end_time": "2023-10-21T17:27:18.366408600Z",
     "start_time": "2023-10-21T17:25:53.405275700Z"
    }
   },
   "outputs": [
    {
     "name": "stdout",
     "output_type": "stream",
     "text": [
      "Epoch 1/100\n",
      "13/13 [==============================] - 1s 68ms/step - loss: 0.0300 - acc: 0.9048 - val_loss: 0.0296 - val_acc: 0.9063\n",
      "Epoch 2/100\n",
      "13/13 [==============================] - 1s 67ms/step - loss: 0.0299 - acc: 0.9048 - val_loss: 0.0294 - val_acc: 0.9063\n",
      "Epoch 3/100\n",
      "13/13 [==============================] - 1s 66ms/step - loss: 0.0297 - acc: 0.9048 - val_loss: 0.0293 - val_acc: 0.9063\n",
      "Epoch 4/100\n",
      "13/13 [==============================] - 1s 67ms/step - loss: 0.0295 - acc: 0.9048 - val_loss: 0.0291 - val_acc: 0.9063\n",
      "Epoch 5/100\n",
      "13/13 [==============================] - 1s 65ms/step - loss: 0.0293 - acc: 0.9048 - val_loss: 0.0289 - val_acc: 0.9063\n",
      "Epoch 6/100\n",
      "13/13 [==============================] - 1s 66ms/step - loss: 0.0292 - acc: 0.9048 - val_loss: 0.0288 - val_acc: 0.9063\n",
      "Epoch 7/100\n",
      "13/13 [==============================] - 1s 65ms/step - loss: 0.0290 - acc: 0.9048 - val_loss: 0.0286 - val_acc: 0.9063\n",
      "Epoch 8/100\n",
      "13/13 [==============================] - 1s 66ms/step - loss: 0.0288 - acc: 0.9048 - val_loss: 0.0284 - val_acc: 0.9063\n",
      "Epoch 9/100\n",
      "13/13 [==============================] - 1s 67ms/step - loss: 0.0287 - acc: 0.9048 - val_loss: 0.0283 - val_acc: 0.9063\n",
      "Epoch 10/100\n",
      "13/13 [==============================] - 1s 65ms/step - loss: 0.0285 - acc: 0.9048 - val_loss: 0.0282 - val_acc: 0.9063\n",
      "Epoch 11/100\n",
      "13/13 [==============================] - 1s 66ms/step - loss: 0.0284 - acc: 0.9048 - val_loss: 0.0280 - val_acc: 0.9063\n",
      "Epoch 12/100\n",
      "13/13 [==============================] - 1s 66ms/step - loss: 0.0282 - acc: 0.9048 - val_loss: 0.0279 - val_acc: 0.9063\n",
      "Epoch 13/100\n",
      "13/13 [==============================] - 1s 67ms/step - loss: 0.0281 - acc: 0.9048 - val_loss: 0.0277 - val_acc: 0.9063\n",
      "Epoch 14/100\n",
      "13/13 [==============================] - 1s 65ms/step - loss: 0.0280 - acc: 0.9048 - val_loss: 0.0276 - val_acc: 0.9063\n",
      "Epoch 15/100\n",
      "13/13 [==============================] - 1s 65ms/step - loss: 0.0278 - acc: 0.9048 - val_loss: 0.0275 - val_acc: 0.9063\n",
      "Epoch 16/100\n",
      "13/13 [==============================] - 1s 66ms/step - loss: 0.0277 - acc: 0.9048 - val_loss: 0.0274 - val_acc: 0.9063\n",
      "Epoch 17/100\n",
      "13/13 [==============================] - 1s 64ms/step - loss: 0.0276 - acc: 0.9048 - val_loss: 0.0272 - val_acc: 0.9063\n",
      "Epoch 18/100\n",
      "13/13 [==============================] - 1s 65ms/step - loss: 0.0275 - acc: 0.9048 - val_loss: 0.0271 - val_acc: 0.9063\n",
      "Epoch 19/100\n",
      "13/13 [==============================] - 1s 65ms/step - loss: 0.0273 - acc: 0.9048 - val_loss: 0.0270 - val_acc: 0.9063\n",
      "Epoch 20/100\n",
      "13/13 [==============================] - 1s 65ms/step - loss: 0.0272 - acc: 0.9048 - val_loss: 0.0269 - val_acc: 0.9063\n",
      "Epoch 21/100\n",
      "13/13 [==============================] - 1s 65ms/step - loss: 0.0271 - acc: 0.9018 - val_loss: 0.0268 - val_acc: 0.9027\n",
      "Epoch 22/100\n",
      "13/13 [==============================] - 1s 65ms/step - loss: 0.0270 - acc: 0.9013 - val_loss: 0.0267 - val_acc: 0.9027\n",
      "Epoch 23/100\n",
      "13/13 [==============================] - 1s 64ms/step - loss: 0.0269 - acc: 0.9014 - val_loss: 0.0266 - val_acc: 0.9028\n",
      "Epoch 24/100\n",
      "13/13 [==============================] - 1s 65ms/step - loss: 0.0268 - acc: 0.9015 - val_loss: 0.0265 - val_acc: 0.9030\n",
      "Epoch 25/100\n",
      "13/13 [==============================] - 1s 65ms/step - loss: 0.0267 - acc: 0.9017 - val_loss: 0.0264 - val_acc: 0.9032\n",
      "Epoch 26/100\n",
      "13/13 [==============================] - 1s 67ms/step - loss: 0.0266 - acc: 0.9020 - val_loss: 0.0263 - val_acc: 0.9035\n",
      "Epoch 27/100\n",
      "13/13 [==============================] - 1s 67ms/step - loss: 0.0265 - acc: 0.9024 - val_loss: 0.0262 - val_acc: 0.9038\n",
      "Epoch 28/100\n",
      "13/13 [==============================] - 1s 66ms/step - loss: 0.0264 - acc: 0.9029 - val_loss: 0.0261 - val_acc: 0.9042\n",
      "Epoch 29/100\n",
      "13/13 [==============================] - 1s 64ms/step - loss: 0.0263 - acc: 0.9033 - val_loss: 0.0260 - val_acc: 0.9046\n",
      "Epoch 30/100\n",
      "13/13 [==============================] - 1s 65ms/step - loss: 0.0262 - acc: 0.9040 - val_loss: 0.0259 - val_acc: 0.9053\n",
      "Epoch 31/100\n",
      "13/13 [==============================] - 1s 65ms/step - loss: 0.0261 - acc: 0.9046 - val_loss: 0.0258 - val_acc: 0.9060\n",
      "Epoch 32/100\n",
      "13/13 [==============================] - 1s 63ms/step - loss: 0.0260 - acc: 0.9053 - val_loss: 0.0257 - val_acc: 0.9068\n",
      "Epoch 33/100\n",
      "13/13 [==============================] - 1s 65ms/step - loss: 0.0259 - acc: 0.9061 - val_loss: 0.0256 - val_acc: 0.9076\n",
      "Epoch 34/100\n",
      "13/13 [==============================] - 1s 65ms/step - loss: 0.0258 - acc: 0.9069 - val_loss: 0.0255 - val_acc: 0.9083\n",
      "Epoch 35/100\n",
      "13/13 [==============================] - 1s 64ms/step - loss: 0.0257 - acc: 0.9077 - val_loss: 0.0254 - val_acc: 0.9091\n",
      "Epoch 36/100\n",
      "13/13 [==============================] - 1s 66ms/step - loss: 0.0257 - acc: 0.9084 - val_loss: 0.0253 - val_acc: 0.9099\n",
      "Epoch 37/100\n",
      "13/13 [==============================] - 1s 65ms/step - loss: 0.0256 - acc: 0.9093 - val_loss: 0.0253 - val_acc: 0.9106\n",
      "Epoch 38/100\n",
      "13/13 [==============================] - 1s 67ms/step - loss: 0.0255 - acc: 0.9101 - val_loss: 0.0252 - val_acc: 0.9116\n",
      "Epoch 39/100\n",
      "13/13 [==============================] - 1s 66ms/step - loss: 0.0254 - acc: 0.9109 - val_loss: 0.0251 - val_acc: 0.9122\n",
      "Epoch 40/100\n",
      "13/13 [==============================] - 1s 65ms/step - loss: 0.0253 - acc: 0.9118 - val_loss: 0.0250 - val_acc: 0.9131\n",
      "Epoch 41/100\n",
      "13/13 [==============================] - 1s 65ms/step - loss: 0.0252 - acc: 0.9125 - val_loss: 0.0249 - val_acc: 0.9135\n",
      "Epoch 42/100\n",
      "13/13 [==============================] - 1s 65ms/step - loss: 0.0252 - acc: 0.9133 - val_loss: 0.0249 - val_acc: 0.9145\n",
      "Epoch 43/100\n",
      "13/13 [==============================] - 1s 65ms/step - loss: 0.0251 - acc: 0.9140 - val_loss: 0.0248 - val_acc: 0.9152\n",
      "Epoch 44/100\n",
      "13/13 [==============================] - 1s 69ms/step - loss: 0.0250 - acc: 0.9147 - val_loss: 0.0247 - val_acc: 0.9157\n",
      "Epoch 45/100\n",
      "13/13 [==============================] - 1s 67ms/step - loss: 0.0249 - acc: 0.9153 - val_loss: 0.0246 - val_acc: 0.9163\n",
      "Epoch 46/100\n",
      "13/13 [==============================] - 1s 65ms/step - loss: 0.0249 - acc: 0.9159 - val_loss: 0.0246 - val_acc: 0.9171\n",
      "Epoch 47/100\n",
      "13/13 [==============================] - 1s 66ms/step - loss: 0.0248 - acc: 0.9165 - val_loss: 0.0245 - val_acc: 0.9174\n",
      "Epoch 48/100\n",
      "13/13 [==============================] - 1s 66ms/step - loss: 0.0247 - acc: 0.9170 - val_loss: 0.0244 - val_acc: 0.9182\n",
      "Epoch 49/100\n",
      "13/13 [==============================] - 1s 66ms/step - loss: 0.0247 - acc: 0.9175 - val_loss: 0.0244 - val_acc: 0.9187\n",
      "Epoch 50/100\n",
      "13/13 [==============================] - 1s 67ms/step - loss: 0.0246 - acc: 0.9179 - val_loss: 0.0243 - val_acc: 0.9188\n",
      "Epoch 51/100\n",
      "13/13 [==============================] - 1s 64ms/step - loss: 0.0245 - acc: 0.9183 - val_loss: 0.0242 - val_acc: 0.9195\n",
      "Epoch 52/100\n",
      "13/13 [==============================] - 1s 65ms/step - loss: 0.0244 - acc: 0.9187 - val_loss: 0.0242 - val_acc: 0.9198\n",
      "Epoch 53/100\n",
      "13/13 [==============================] - 1s 65ms/step - loss: 0.0244 - acc: 0.9191 - val_loss: 0.0241 - val_acc: 0.9201\n",
      "Epoch 54/100\n",
      "13/13 [==============================] - 1s 67ms/step - loss: 0.0243 - acc: 0.9194 - val_loss: 0.0240 - val_acc: 0.9205\n",
      "Epoch 55/100\n",
      "13/13 [==============================] - 1s 67ms/step - loss: 0.0242 - acc: 0.9198 - val_loss: 0.0240 - val_acc: 0.9208\n",
      "Epoch 56/100\n",
      "13/13 [==============================] - 1s 66ms/step - loss: 0.0242 - acc: 0.9201 - val_loss: 0.0239 - val_acc: 0.9210\n",
      "Epoch 57/100\n",
      "13/13 [==============================] - 1s 65ms/step - loss: 0.0241 - acc: 0.9204 - val_loss: 0.0238 - val_acc: 0.9214\n",
      "Epoch 58/100\n",
      "13/13 [==============================] - 1s 67ms/step - loss: 0.0241 - acc: 0.9206 - val_loss: 0.0238 - val_acc: 0.9216\n",
      "Epoch 59/100\n",
      "13/13 [==============================] - 1s 65ms/step - loss: 0.0240 - acc: 0.9209 - val_loss: 0.0237 - val_acc: 0.9218\n",
      "Epoch 60/100\n",
      "13/13 [==============================] - 1s 65ms/step - loss: 0.0239 - acc: 0.9211 - val_loss: 0.0237 - val_acc: 0.9220\n",
      "Epoch 61/100\n",
      "13/13 [==============================] - 1s 65ms/step - loss: 0.0239 - acc: 0.9213 - val_loss: 0.0236 - val_acc: 0.9221\n",
      "Epoch 62/100\n",
      "13/13 [==============================] - 1s 65ms/step - loss: 0.0238 - acc: 0.9215 - val_loss: 0.0235 - val_acc: 0.9224\n",
      "Epoch 63/100\n",
      "13/13 [==============================] - 1s 66ms/step - loss: 0.0238 - acc: 0.9217 - val_loss: 0.0235 - val_acc: 0.9225\n",
      "Epoch 64/100\n",
      "13/13 [==============================] - 1s 64ms/step - loss: 0.0237 - acc: 0.9219 - val_loss: 0.0234 - val_acc: 0.9226\n",
      "Epoch 65/100\n",
      "13/13 [==============================] - 1s 65ms/step - loss: 0.0236 - acc: 0.9221 - val_loss: 0.0234 - val_acc: 0.9228\n",
      "Epoch 66/100\n",
      "13/13 [==============================] - 1s 64ms/step - loss: 0.0236 - acc: 0.9222 - val_loss: 0.0233 - val_acc: 0.9229\n",
      "Epoch 67/100\n",
      "13/13 [==============================] - 1s 65ms/step - loss: 0.0235 - acc: 0.9224 - val_loss: 0.0233 - val_acc: 0.9230\n",
      "Epoch 68/100\n",
      "13/13 [==============================] - 1s 65ms/step - loss: 0.0235 - acc: 0.9225 - val_loss: 0.0232 - val_acc: 0.9233\n",
      "Epoch 69/100\n",
      "13/13 [==============================] - 1s 66ms/step - loss: 0.0234 - acc: 0.9227 - val_loss: 0.0232 - val_acc: 0.9233\n",
      "Epoch 70/100\n",
      "13/13 [==============================] - 1s 65ms/step - loss: 0.0234 - acc: 0.9228 - val_loss: 0.0231 - val_acc: 0.9235\n",
      "Epoch 71/100\n",
      "13/13 [==============================] - 1s 67ms/step - loss: 0.0233 - acc: 0.9229 - val_loss: 0.0230 - val_acc: 0.9236\n",
      "Epoch 72/100\n",
      "13/13 [==============================] - 1s 65ms/step - loss: 0.0233 - acc: 0.9230 - val_loss: 0.0230 - val_acc: 0.9236\n",
      "Epoch 73/100\n",
      "13/13 [==============================] - 1s 65ms/step - loss: 0.0232 - acc: 0.9231 - val_loss: 0.0229 - val_acc: 0.9238\n",
      "Epoch 74/100\n",
      "13/13 [==============================] - 1s 65ms/step - loss: 0.0232 - acc: 0.9232 - val_loss: 0.0229 - val_acc: 0.9239\n",
      "Epoch 75/100\n",
      "13/13 [==============================] - 1s 66ms/step - loss: 0.0231 - acc: 0.9233 - val_loss: 0.0228 - val_acc: 0.9240\n",
      "Epoch 76/100\n",
      "13/13 [==============================] - 1s 65ms/step - loss: 0.0231 - acc: 0.9234 - val_loss: 0.0228 - val_acc: 0.9241\n",
      "Epoch 77/100\n",
      "13/13 [==============================] - 1s 63ms/step - loss: 0.0230 - acc: 0.9234 - val_loss: 0.0228 - val_acc: 0.9241\n",
      "Epoch 78/100\n",
      "13/13 [==============================] - 1s 65ms/step - loss: 0.0230 - acc: 0.9235 - val_loss: 0.0227 - val_acc: 0.9243\n",
      "Epoch 79/100\n",
      "13/13 [==============================] - 1s 65ms/step - loss: 0.0229 - acc: 0.9236 - val_loss: 0.0227 - val_acc: 0.9242\n",
      "Epoch 80/100\n",
      "13/13 [==============================] - 1s 66ms/step - loss: 0.0229 - acc: 0.9237 - val_loss: 0.0226 - val_acc: 0.9244\n",
      "Epoch 81/100\n",
      "13/13 [==============================] - 1s 66ms/step - loss: 0.0228 - acc: 0.9238 - val_loss: 0.0226 - val_acc: 0.9244\n",
      "Epoch 82/100\n",
      "13/13 [==============================] - 1s 64ms/step - loss: 0.0228 - acc: 0.9239 - val_loss: 0.0225 - val_acc: 0.9245\n",
      "Epoch 83/100\n",
      "13/13 [==============================] - 1s 64ms/step - loss: 0.0227 - acc: 0.9239 - val_loss: 0.0225 - val_acc: 0.9245\n",
      "Epoch 84/100\n",
      "13/13 [==============================] - 1s 65ms/step - loss: 0.0227 - acc: 0.9240 - val_loss: 0.0224 - val_acc: 0.9246\n",
      "Epoch 85/100\n",
      "13/13 [==============================] - 1s 66ms/step - loss: 0.0227 - acc: 0.9240 - val_loss: 0.0224 - val_acc: 0.9246\n",
      "Epoch 86/100\n",
      "13/13 [==============================] - 1s 66ms/step - loss: 0.0226 - acc: 0.9241 - val_loss: 0.0224 - val_acc: 0.9247\n",
      "Epoch 87/100\n",
      "13/13 [==============================] - 1s 66ms/step - loss: 0.0226 - acc: 0.9242 - val_loss: 0.0223 - val_acc: 0.9247\n",
      "Epoch 88/100\n",
      "13/13 [==============================] - 1s 66ms/step - loss: 0.0225 - acc: 0.9242 - val_loss: 0.0223 - val_acc: 0.9249\n",
      "Epoch 89/100\n",
      "13/13 [==============================] - 1s 64ms/step - loss: 0.0225 - acc: 0.9243 - val_loss: 0.0222 - val_acc: 0.9249\n",
      "Epoch 90/100\n",
      "13/13 [==============================] - 1s 65ms/step - loss: 0.0225 - acc: 0.9243 - val_loss: 0.0222 - val_acc: 0.9250\n",
      "Epoch 91/100\n",
      "13/13 [==============================] - 1s 65ms/step - loss: 0.0224 - acc: 0.9244 - val_loss: 0.0222 - val_acc: 0.9250\n",
      "Epoch 92/100\n",
      "13/13 [==============================] - 1s 65ms/step - loss: 0.0224 - acc: 0.9244 - val_loss: 0.0221 - val_acc: 0.9251\n",
      "Epoch 93/100\n",
      "13/13 [==============================] - 1s 72ms/step - loss: 0.0223 - acc: 0.9245 - val_loss: 0.0221 - val_acc: 0.9251\n",
      "Epoch 94/100\n",
      "13/13 [==============================] - 1s 68ms/step - loss: 0.0223 - acc: 0.9245 - val_loss: 0.0221 - val_acc: 0.9253\n",
      "Epoch 95/100\n",
      "13/13 [==============================] - 1s 70ms/step - loss: 0.0223 - acc: 0.9246 - val_loss: 0.0220 - val_acc: 0.9253\n",
      "Epoch 96/100\n",
      "13/13 [==============================] - 1s 67ms/step - loss: 0.0222 - acc: 0.9246 - val_loss: 0.0220 - val_acc: 0.9253\n",
      "Epoch 97/100\n",
      "13/13 [==============================] - 1s 65ms/step - loss: 0.0222 - acc: 0.9247 - val_loss: 0.0219 - val_acc: 0.9252\n",
      "Epoch 98/100\n",
      "13/13 [==============================] - 1s 65ms/step - loss: 0.0222 - acc: 0.9247 - val_loss: 0.0219 - val_acc: 0.9253\n",
      "Epoch 99/100\n",
      "13/13 [==============================] - 1s 67ms/step - loss: 0.0221 - acc: 0.9248 - val_loss: 0.0219 - val_acc: 0.9254\n",
      "Epoch 100/100\n",
      "13/13 [==============================] - 1s 66ms/step - loss: 0.0221 - acc: 0.9248 - val_loss: 0.0218 - val_acc: 0.9254\n"
     ]
    }
   ],
   "source": [
    "m_history = train_model(lstm_model, epochs=100, batch_size=256)"
   ]
  },
  {
   "cell_type": "code",
   "execution_count": 319,
   "outputs": [
    {
     "data": {
      "text/plain": "<Figure size 640x480 with 1 Axes>",
      "image/png": "[encoded data removed]"
     },
     "metadata": {},
     "output_type": "display_data"
    }
   ],
   "source": [
    "plt.plot(m_history.history['acc'])\n",
    "plt.plot(m_history.history['val_acc'])\n",
    "plt.title('model accuracy')\n",
    "plt.ylabel('accuracy')\n",
    "plt.ylim(0, 1)\n",
    "plt.xlabel('epoch')\n",
    "plt.legend(['train', 'test'], loc=\"lower right\")\n",
    "plt.show()"
   ],
   "metadata": {
    "collapsed": false,
    "ExecuteTime": {
     "end_time": "2023-10-21T17:27:27.450086500Z",
     "start_time": "2023-10-21T17:27:27.293423100Z"
    }
   },
   "id": "f82e267e3ece40de"
  },
  {
   "cell_type": "markdown",
   "id": "ee15cb3d",
   "metadata": {},
   "source": [
    "### Exercise 20\n",
    "Retrain the model with a GRU. "
   ]
  },
  {
   "cell_type": "code",
   "execution_count": 297,
   "id": "f42b9da1",
   "metadata": {
    "ExecuteTime": {
     "end_time": "2023-10-21T17:17:54.974727Z",
     "start_time": "2023-10-21T17:17:54.849312200Z"
    }
   },
   "outputs": [
    {
     "name": "stdout",
     "output_type": "stream",
     "text": [
      "Model: \"sequential_27\"\n",
      "_________________________________________________________________\n",
      " Layer (type)                Output Shape              Param #   \n",
      "=================================================================\n",
      " embedding_27 (Embedding)    (None, 271, 32)           364736    \n",
      "                                                                 \n",
      " gru_5 (GRU)                 (None, 271, 1)            105       \n",
      "                                                                 \n",
      " time_distributed_5 (TimeDi  (None, 271, 16)           32        \n",
      " stributed)                                                      \n",
      "                                                                 \n",
      "=================================================================\n",
      "Total params: 364873 (1.39 MB)\n",
      "Trainable params: 137 (548.00 Byte)\n",
      "Non-trainable params: 364736 (1.39 MB)\n",
      "_________________________________________________________________\n"
     ]
    }
   ],
   "source": [
    "gru_model = Sequential()\n",
    "gru_model.add(Embedding(input_dim=len(tokenizer.word_index) + 1, output_dim=32, input_length=max_length, trainable=False))\n",
    "gru_model.add(GRU(1, activation='relu', return_sequences=True))\n",
    "gru_model.add(TimeDistributed(Dense(len(Y[0][0]), activation='softmax')))\n",
    "gru_model.summary()"
   ]
  },
  {
   "cell_type": "code",
   "execution_count": 304,
   "id": "ad31febf",
   "metadata": {
    "ExecuteTime": {
     "end_time": "2023-10-21T17:20:02.468975900Z",
     "start_time": "2023-10-21T17:20:02.322034500Z"
    }
   },
   "outputs": [
    {
     "data": {
      "text/plain": "<keras.src.engine.sequential.Sequential at 0x1df1bb5fa30>"
     },
     "execution_count": 304,
     "metadata": {},
     "output_type": "execute_result"
    }
   ],
   "source": [
    "compile_model(gru_model, optimizer='adam', loss='categorical_crossentropy')"
   ]
  },
  {
   "cell_type": "code",
   "execution_count": 307,
   "id": "c52dce5a",
   "metadata": {
    "ExecuteTime": {
     "end_time": "2023-10-21T17:22:54.005152100Z",
     "start_time": "2023-10-21T17:21:42.484690700Z"
    }
   },
   "outputs": [
    {
     "name": "stdout",
     "output_type": "stream",
     "text": [
      "Epoch 1/100\n",
      "7/7 [==============================] - 1s 106ms/step - loss: 0.1290 - acc: 0.9048 - val_loss: 0.1283 - val_acc: 0.9063\n",
      "Epoch 2/100\n",
      "7/7 [==============================] - 1s 102ms/step - loss: 0.1283 - acc: 0.9048 - val_loss: 0.1276 - val_acc: 0.9063\n",
      "Epoch 3/100\n",
      "7/7 [==============================] - 1s 101ms/step - loss: 0.1276 - acc: 0.9048 - val_loss: 0.1269 - val_acc: 0.9063\n",
      "Epoch 4/100\n",
      "7/7 [==============================] - 1s 101ms/step - loss: 0.1269 - acc: 0.9048 - val_loss: 0.1263 - val_acc: 0.9063\n",
      "Epoch 5/100\n",
      "7/7 [==============================] - 1s 103ms/step - loss: 0.1262 - acc: 0.9048 - val_loss: 0.1256 - val_acc: 0.9063\n",
      "Epoch 6/100\n",
      "7/7 [==============================] - 1s 104ms/step - loss: 0.1255 - acc: 0.9048 - val_loss: 0.1249 - val_acc: 0.9063\n",
      "Epoch 7/100\n",
      "7/7 [==============================] - 1s 102ms/step - loss: 0.1248 - acc: 0.9048 - val_loss: 0.1242 - val_acc: 0.9063\n",
      "Epoch 8/100\n",
      "7/7 [==============================] - 1s 102ms/step - loss: 0.1242 - acc: 0.9048 - val_loss: 0.1235 - val_acc: 0.9063\n",
      "Epoch 9/100\n",
      "7/7 [==============================] - 1s 101ms/step - loss: 0.1235 - acc: 0.9048 - val_loss: 0.1228 - val_acc: 0.9063\n",
      "Epoch 10/100\n",
      "7/7 [==============================] - 1s 104ms/step - loss: 0.1228 - acc: 0.9048 - val_loss: 0.1222 - val_acc: 0.9063\n",
      "Epoch 11/100\n",
      "7/7 [==============================] - 1s 103ms/step - loss: 0.1221 - acc: 0.9048 - val_loss: 0.1215 - val_acc: 0.9063\n",
      "Epoch 12/100\n",
      "7/7 [==============================] - 1s 103ms/step - loss: 0.1214 - acc: 0.9048 - val_loss: 0.1208 - val_acc: 0.9063\n",
      "Epoch 13/100\n",
      "7/7 [==============================] - 1s 100ms/step - loss: 0.1208 - acc: 0.9048 - val_loss: 0.1201 - val_acc: 0.9063\n",
      "Epoch 14/100\n",
      "7/7 [==============================] - 1s 101ms/step - loss: 0.1201 - acc: 0.9048 - val_loss: 0.1194 - val_acc: 0.9063\n",
      "Epoch 15/100\n",
      "7/7 [==============================] - 1s 103ms/step - loss: 0.1194 - acc: 0.9048 - val_loss: 0.1188 - val_acc: 0.9063\n",
      "Epoch 16/100\n",
      "7/7 [==============================] - 1s 100ms/step - loss: 0.1188 - acc: 0.9048 - val_loss: 0.1181 - val_acc: 0.9063\n",
      "Epoch 17/100\n",
      "7/7 [==============================] - 1s 101ms/step - loss: 0.1181 - acc: 0.9048 - val_loss: 0.1174 - val_acc: 0.9063\n",
      "Epoch 18/100\n",
      "7/7 [==============================] - 1s 102ms/step - loss: 0.1174 - acc: 0.9048 - val_loss: 0.1168 - val_acc: 0.9063\n",
      "Epoch 19/100\n",
      "7/7 [==============================] - 1s 103ms/step - loss: 0.1167 - acc: 0.9048 - val_loss: 0.1161 - val_acc: 0.9063\n",
      "Epoch 20/100\n",
      "7/7 [==============================] - 1s 104ms/step - loss: 0.1161 - acc: 0.9048 - val_loss: 0.1154 - val_acc: 0.9063\n",
      "Epoch 21/100\n",
      "7/7 [==============================] - 1s 101ms/step - loss: 0.1154 - acc: 0.9048 - val_loss: 0.1148 - val_acc: 0.9063\n",
      "Epoch 22/100\n",
      "7/7 [==============================] - 1s 102ms/step - loss: 0.1148 - acc: 0.9048 - val_loss: 0.1141 - val_acc: 0.9063\n",
      "Epoch 23/100\n",
      "7/7 [==============================] - 1s 101ms/step - loss: 0.1141 - acc: 0.9048 - val_loss: 0.1135 - val_acc: 0.9063\n",
      "Epoch 24/100\n",
      "7/7 [==============================] - 1s 103ms/step - loss: 0.1134 - acc: 0.9048 - val_loss: 0.1128 - val_acc: 0.9063\n",
      "Epoch 25/100\n",
      "7/7 [==============================] - 1s 103ms/step - loss: 0.1128 - acc: 0.9048 - val_loss: 0.1121 - val_acc: 0.9063\n",
      "Epoch 26/100\n",
      "7/7 [==============================] - 1s 105ms/step - loss: 0.1121 - acc: 0.9048 - val_loss: 0.1115 - val_acc: 0.9063\n",
      "Epoch 27/100\n",
      "7/7 [==============================] - 1s 101ms/step - loss: 0.1115 - acc: 0.9048 - val_loss: 0.1108 - val_acc: 0.9063\n",
      "Epoch 28/100\n",
      "7/7 [==============================] - 1s 102ms/step - loss: 0.1108 - acc: 0.9048 - val_loss: 0.1102 - val_acc: 0.9063\n",
      "Epoch 29/100\n",
      "7/7 [==============================] - 1s 102ms/step - loss: 0.1102 - acc: 0.9048 - val_loss: 0.1095 - val_acc: 0.9063\n",
      "Epoch 30/100\n",
      "7/7 [==============================] - 1s 100ms/step - loss: 0.1095 - acc: 0.9048 - val_loss: 0.1089 - val_acc: 0.9063\n",
      "Epoch 31/100\n",
      "7/7 [==============================] - 1s 105ms/step - loss: 0.1089 - acc: 0.9048 - val_loss: 0.1082 - val_acc: 0.9063\n",
      "Epoch 32/100\n",
      "7/7 [==============================] - 1s 103ms/step - loss: 0.1082 - acc: 0.9048 - val_loss: 0.1076 - val_acc: 0.9063\n",
      "Epoch 33/100\n",
      "7/7 [==============================] - 1s 102ms/step - loss: 0.1076 - acc: 0.9048 - val_loss: 0.1069 - val_acc: 0.9063\n",
      "Epoch 34/100\n",
      "7/7 [==============================] - 1s 104ms/step - loss: 0.1069 - acc: 0.9048 - val_loss: 0.1063 - val_acc: 0.9063\n",
      "Epoch 35/100\n",
      "7/7 [==============================] - 1s 107ms/step - loss: 0.1063 - acc: 0.9048 - val_loss: 0.1056 - val_acc: 0.9063\n",
      "Epoch 36/100\n",
      "7/7 [==============================] - 1s 102ms/step - loss: 0.1056 - acc: 0.9048 - val_loss: 0.1050 - val_acc: 0.9063\n",
      "Epoch 37/100\n",
      "7/7 [==============================] - 1s 101ms/step - loss: 0.1050 - acc: 0.9048 - val_loss: 0.1043 - val_acc: 0.9063\n",
      "Epoch 38/100\n",
      "7/7 [==============================] - 1s 104ms/step - loss: 0.1043 - acc: 0.9048 - val_loss: 0.1036 - val_acc: 0.9063\n",
      "Epoch 39/100\n",
      "7/7 [==============================] - 1s 99ms/step - loss: 0.1037 - acc: 0.9048 - val_loss: 0.1030 - val_acc: 0.9063\n",
      "Epoch 40/100\n",
      "7/7 [==============================] - 1s 102ms/step - loss: 0.1030 - acc: 0.9048 - val_loss: 0.1024 - val_acc: 0.9063\n",
      "Epoch 41/100\n",
      "7/7 [==============================] - 1s 106ms/step - loss: 0.1024 - acc: 0.9048 - val_loss: 0.1017 - val_acc: 0.9063\n",
      "Epoch 42/100\n",
      "7/7 [==============================] - 1s 104ms/step - loss: 0.1017 - acc: 0.9048 - val_loss: 0.1010 - val_acc: 0.9063\n",
      "Epoch 43/100\n",
      "7/7 [==============================] - 1s 103ms/step - loss: 0.1011 - acc: 0.9048 - val_loss: 0.1004 - val_acc: 0.9063\n",
      "Epoch 44/100\n",
      "7/7 [==============================] - 1s 103ms/step - loss: 0.1004 - acc: 0.9048 - val_loss: 0.0998 - val_acc: 0.9063\n",
      "Epoch 45/100\n",
      "7/7 [==============================] - 1s 102ms/step - loss: 0.0997 - acc: 0.9048 - val_loss: 0.0990 - val_acc: 0.9063\n",
      "Epoch 46/100\n",
      "7/7 [==============================] - 1s 102ms/step - loss: 0.0991 - acc: 0.9048 - val_loss: 0.0984 - val_acc: 0.9063\n",
      "Epoch 47/100\n",
      "7/7 [==============================] - 1s 102ms/step - loss: 0.0984 - acc: 0.9048 - val_loss: 0.0977 - val_acc: 0.9063\n",
      "Epoch 48/100\n",
      "7/7 [==============================] - 1s 103ms/step - loss: 0.0977 - acc: 0.9048 - val_loss: 0.0971 - val_acc: 0.9063\n",
      "Epoch 49/100\n",
      "7/7 [==============================] - 1s 102ms/step - loss: 0.0970 - acc: 0.9048 - val_loss: 0.0964 - val_acc: 0.9063\n",
      "Epoch 50/100\n",
      "7/7 [==============================] - 1s 102ms/step - loss: 0.0963 - acc: 0.9048 - val_loss: 0.0956 - val_acc: 0.9063\n",
      "Epoch 51/100\n",
      "7/7 [==============================] - 1s 103ms/step - loss: 0.0956 - acc: 0.9048 - val_loss: 0.0949 - val_acc: 0.9063\n",
      "Epoch 52/100\n",
      "7/7 [==============================] - 1s 103ms/step - loss: 0.0949 - acc: 0.9049 - val_loss: 0.0942 - val_acc: 0.9064\n",
      "Epoch 53/100\n",
      "7/7 [==============================] - 1s 104ms/step - loss: 0.0942 - acc: 0.9050 - val_loss: 0.0934 - val_acc: 0.9066\n",
      "Epoch 54/100\n",
      "7/7 [==============================] - 1s 103ms/step - loss: 0.0934 - acc: 0.9052 - val_loss: 0.0927 - val_acc: 0.9069\n",
      "Epoch 55/100\n",
      "7/7 [==============================] - 1s 103ms/step - loss: 0.0927 - acc: 0.9056 - val_loss: 0.0920 - val_acc: 0.9073\n",
      "Epoch 56/100\n",
      "7/7 [==============================] - 1s 102ms/step - loss: 0.0919 - acc: 0.9061 - val_loss: 0.0913 - val_acc: 0.9078\n",
      "Epoch 57/100\n",
      "7/7 [==============================] - 1s 102ms/step - loss: 0.0912 - acc: 0.9066 - val_loss: 0.0906 - val_acc: 0.9085\n",
      "Epoch 58/100\n",
      "7/7 [==============================] - 1s 104ms/step - loss: 0.0905 - acc: 0.9070 - val_loss: 0.0898 - val_acc: 0.9089\n",
      "Epoch 59/100\n",
      "7/7 [==============================] - 1s 104ms/step - loss: 0.0898 - acc: 0.9075 - val_loss: 0.0892 - val_acc: 0.9091\n",
      "Epoch 60/100\n",
      "7/7 [==============================] - 1s 102ms/step - loss: 0.0892 - acc: 0.9079 - val_loss: 0.0886 - val_acc: 0.9098\n",
      "Epoch 61/100\n",
      "7/7 [==============================] - 1s 100ms/step - loss: 0.0885 - acc: 0.9082 - val_loss: 0.0879 - val_acc: 0.9100\n",
      "Epoch 62/100\n",
      "7/7 [==============================] - 1s 101ms/step - loss: 0.0879 - acc: 0.9086 - val_loss: 0.0873 - val_acc: 0.9101\n",
      "Epoch 63/100\n",
      "7/7 [==============================] - 1s 104ms/step - loss: 0.0873 - acc: 0.9088 - val_loss: 0.0866 - val_acc: 0.9105\n",
      "Epoch 64/100\n",
      "7/7 [==============================] - 1s 102ms/step - loss: 0.0866 - acc: 0.9092 - val_loss: 0.0861 - val_acc: 0.9105\n",
      "Epoch 65/100\n",
      "7/7 [==============================] - 1s 102ms/step - loss: 0.0860 - acc: 0.9092 - val_loss: 0.0854 - val_acc: 0.9120\n",
      "Epoch 66/100\n",
      "7/7 [==============================] - 1s 101ms/step - loss: 0.0854 - acc: 0.9127 - val_loss: 0.0848 - val_acc: 0.9149\n",
      "Epoch 67/100\n",
      "7/7 [==============================] - 1s 105ms/step - loss: 0.0848 - acc: 0.9138 - val_loss: 0.0842 - val_acc: 0.9149\n",
      "Epoch 68/100\n",
      "7/7 [==============================] - 1s 101ms/step - loss: 0.0842 - acc: 0.9141 - val_loss: 0.0836 - val_acc: 0.9153\n",
      "Epoch 69/100\n",
      "7/7 [==============================] - 1s 101ms/step - loss: 0.0836 - acc: 0.9145 - val_loss: 0.0831 - val_acc: 0.9153\n",
      "Epoch 70/100\n",
      "7/7 [==============================] - 1s 102ms/step - loss: 0.0831 - acc: 0.9145 - val_loss: 0.0825 - val_acc: 0.9156\n",
      "Epoch 71/100\n",
      "7/7 [==============================] - 1s 103ms/step - loss: 0.0825 - acc: 0.9149 - val_loss: 0.0819 - val_acc: 0.9161\n",
      "Epoch 72/100\n",
      "7/7 [==============================] - 1s 102ms/step - loss: 0.0819 - acc: 0.9153 - val_loss: 0.0813 - val_acc: 0.9160\n",
      "Epoch 73/100\n",
      "7/7 [==============================] - 1s 102ms/step - loss: 0.0813 - acc: 0.9153 - val_loss: 0.0808 - val_acc: 0.9165\n",
      "Epoch 74/100\n",
      "7/7 [==============================] - 1s 107ms/step - loss: 0.0807 - acc: 0.9157 - val_loss: 0.0802 - val_acc: 0.9168\n",
      "Epoch 75/100\n",
      "7/7 [==============================] - 1s 107ms/step - loss: 0.0802 - acc: 0.9158 - val_loss: 0.0796 - val_acc: 0.9167\n",
      "Epoch 76/100\n",
      "7/7 [==============================] - 1s 103ms/step - loss: 0.0796 - acc: 0.9160 - val_loss: 0.0791 - val_acc: 0.9171\n",
      "Epoch 77/100\n",
      "7/7 [==============================] - 1s 102ms/step - loss: 0.0790 - acc: 0.9163 - val_loss: 0.0785 - val_acc: 0.9174\n",
      "Epoch 78/100\n",
      "7/7 [==============================] - 1s 105ms/step - loss: 0.0785 - acc: 0.9164 - val_loss: 0.0780 - val_acc: 0.9172\n",
      "Epoch 79/100\n",
      "7/7 [==============================] - 1s 103ms/step - loss: 0.0779 - acc: 0.9164 - val_loss: 0.0774 - val_acc: 0.9175\n",
      "Epoch 80/100\n",
      "7/7 [==============================] - 1s 104ms/step - loss: 0.0774 - acc: 0.9169 - val_loss: 0.0768 - val_acc: 0.9180\n",
      "Epoch 81/100\n",
      "7/7 [==============================] - 1s 103ms/step - loss: 0.0768 - acc: 0.9170 - val_loss: 0.0763 - val_acc: 0.9177\n",
      "Epoch 82/100\n",
      "7/7 [==============================] - 1s 102ms/step - loss: 0.0763 - acc: 0.9170 - val_loss: 0.0757 - val_acc: 0.9180\n",
      "Epoch 83/100\n",
      "7/7 [==============================] - 1s 104ms/step - loss: 0.0757 - acc: 0.9173 - val_loss: 0.0752 - val_acc: 0.9183\n",
      "Epoch 84/100\n",
      "7/7 [==============================] - 1s 107ms/step - loss: 0.0752 - acc: 0.9175 - val_loss: 0.0747 - val_acc: 0.9182\n",
      "Epoch 85/100\n",
      "7/7 [==============================] - 1s 102ms/step - loss: 0.0747 - acc: 0.9176 - val_loss: 0.0741 - val_acc: 0.9185\n",
      "Epoch 86/100\n",
      "7/7 [==============================] - 1s 101ms/step - loss: 0.0741 - acc: 0.9178 - val_loss: 0.0736 - val_acc: 0.9189\n",
      "Epoch 87/100\n",
      "7/7 [==============================] - 1s 104ms/step - loss: 0.0736 - acc: 0.9182 - val_loss: 0.0731 - val_acc: 0.9187\n",
      "Epoch 88/100\n",
      "7/7 [==============================] - 1s 101ms/step - loss: 0.0731 - acc: 0.9181 - val_loss: 0.0725 - val_acc: 0.9191\n",
      "Epoch 89/100\n",
      "7/7 [==============================] - 1s 102ms/step - loss: 0.0725 - acc: 0.9185 - val_loss: 0.0720 - val_acc: 0.9194\n",
      "Epoch 90/100\n",
      "7/7 [==============================] - 1s 103ms/step - loss: 0.0720 - acc: 0.9187 - val_loss: 0.0715 - val_acc: 0.9194\n",
      "Epoch 91/100\n",
      "7/7 [==============================] - 1s 102ms/step - loss: 0.0715 - acc: 0.9187 - val_loss: 0.0710 - val_acc: 0.9197\n",
      "Epoch 92/100\n",
      "7/7 [==============================] - 1s 99ms/step - loss: 0.0709 - acc: 0.9190 - val_loss: 0.0704 - val_acc: 0.9200\n",
      "Epoch 93/100\n",
      "7/7 [==============================] - 1s 104ms/step - loss: 0.0704 - acc: 0.9193 - val_loss: 0.0699 - val_acc: 0.9203\n",
      "Epoch 94/100\n",
      "7/7 [==============================] - 1s 104ms/step - loss: 0.0699 - acc: 0.9195 - val_loss: 0.0694 - val_acc: 0.9202\n",
      "Epoch 95/100\n",
      "7/7 [==============================] - 1s 102ms/step - loss: 0.0694 - acc: 0.9195 - val_loss: 0.0689 - val_acc: 0.9205\n",
      "Epoch 96/100\n",
      "7/7 [==============================] - 1s 103ms/step - loss: 0.0689 - acc: 0.9198 - val_loss: 0.0684 - val_acc: 0.9208\n",
      "Epoch 97/100\n",
      "7/7 [==============================] - 1s 102ms/step - loss: 0.0683 - acc: 0.9201 - val_loss: 0.0678 - val_acc: 0.9211\n",
      "Epoch 98/100\n",
      "7/7 [==============================] - 1s 101ms/step - loss: 0.0679 - acc: 0.9202 - val_loss: 0.0674 - val_acc: 0.9210\n",
      "Epoch 99/100\n",
      "7/7 [==============================] - 1s 102ms/step - loss: 0.0674 - acc: 0.9203 - val_loss: 0.0669 - val_acc: 0.9213\n",
      "Epoch 100/100\n",
      "7/7 [==============================] - 1s 101ms/step - loss: 0.0669 - acc: 0.9206 - val_loss: 0.0664 - val_acc: 0.9216\n"
     ]
    }
   ],
   "source": [
    "m_history = train_model(gru_model, epochs=100, batch_size=512)"
   ]
  },
  {
   "cell_type": "code",
   "execution_count": 313,
   "outputs": [
    {
     "data": {
      "text/plain": "<Figure size 640x480 with 1 Axes>",
      "image/png": "[encoded data removed]"
     },
     "metadata": {},
     "output_type": "display_data"
    }
   ],
   "source": [
    "plt.plot(m_history.history['acc'])\n",
    "plt.plot(m_history.history['val_acc'])\n",
    "plt.title('model accuracy')\n",
    "plt.ylabel('accuracy')\n",
    "plt.ylim(0, 1)\n",
    "plt.xlabel('epoch')\n",
    "plt.legend(['train', 'test'], loc=\"lower right\")\n",
    "plt.show()"
   ],
   "metadata": {
    "collapsed": false,
    "ExecuteTime": {
     "end_time": "2023-10-21T17:23:58.111224900Z",
     "start_time": "2023-10-21T17:23:58.001417700Z"
    }
   },
   "id": "2ca21a64fcca93ab"
  },
  {
   "cell_type": "markdown",
   "id": "140d4d8c",
   "metadata": {},
   "source": [
    "### Exercise 21\n",
    "Save one of your models (the one with the best performance) as an h5 file. This is a straightforward operation, refer to [here](https://keras.io/api/models/model_saving_apis/).\n",
    "\n",
    "You will use it on the **regular** part of the assignment to make inferences."
   ]
  },
  {
   "cell_type": "raw",
   "id": "0704d963",
   "metadata": {},
   "source": []
  },
  {
   "cell_type": "code",
   "execution_count": 326,
   "outputs": [
    {
     "name": "stderr",
     "output_type": "stream",
     "text": [
      "C:\\Users\\Aryan\\Desktop\\Mod 9\\XAI & Ethics\\XAI\\Lecture1\\pythonProject\\lib\\site-packages\\keras\\src\\engine\\training.py:3079: UserWarning: You are saving your model as an HDF5 file via `model.save()`. This file format is considered legacy. We recommend using instead the native Keras format, e.g. `model.save('my_model.keras')`.\n",
      "  saving_api.save_model(\n"
     ]
    }
   ],
   "source": [
    "gru_model.save('gru_model_group6', save_format='h5')"
   ],
   "metadata": {
    "collapsed": false,
    "ExecuteTime": {
     "end_time": "2023-10-21T17:31:52.090925800Z",
     "start_time": "2023-10-21T17:31:51.986132100Z"
    }
   },
   "id": "fdc1ebc91fab131f"
  }
 ],
 "metadata": {
  "kernelspec": {
   "display_name": "Python 3 (ipykernel)",
   "language": "python",
   "name": "python3"
  },
  "language_info": {
   "codemirror_mode": {
    "name": "ipython",
    "version": 3
   },
   "file_extension": ".py",
   "mimetype": "text/x-python",
   "name": "python",
   "nbconvert_exporter": "python",
   "pygments_lexer": "ipython3",
   "version": "3.11.5"
  }
 },
 "nbformat": 4,
 "nbformat_minor": 5
}
