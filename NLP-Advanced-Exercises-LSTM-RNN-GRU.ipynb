{
 "cells": [
  {
   "cell_type": "markdown",
   "id": "422ffebd",
   "metadata": {},
   "source": [
    "# NLP - Embeddings, RNNs and LSTMs \n",
    "\n",
    "\n",
    "## Basic Assignment\n",
    "\n",
    "The notebook will help you practice Many-to-One RNN architecture, as well as Many-to-Many architectures.\n",
    "\n",
    "The regular part and the advanced part are included in two different notebooks.\n"
   ]
  },
  {
   "cell_type": "code",
   "execution_count": 42,
   "id": "b3243689",
   "metadata": {
    "ExecuteTime": {
     "end_time": "2023-10-22T14:04:32.840550139Z",
     "start_time": "2023-10-22T14:04:30.550420218Z"
    }
   },
   "outputs": [],
   "source": [
    "from sklearn.preprocessing import LabelEncoder\n",
    "from nltk.corpus import treebank\n",
    "from matplotlib import pyplot as plt\n",
    "from sklearn.model_selection import train_test_split\n",
    "from keras.preprocessing.sequence import pad_sequences\n",
    "from keras.preprocessing.text import Tokenizer\n",
    "from keras.utils import to_categorical\n",
    "from keras.models import Sequential\n",
    "from keras.layers import Embedding, Dense, TimeDistributed\n",
    "from keras.layers import LSTM, GRU, SimpleRNN\n",
    "import tensorflow as tf\n",
    "import pandas as pd\n",
    "import numpy as np\n",
    "import re\n",
    "import nltk"
   ]
  },
  {
   "cell_type": "code",
   "execution_count": 43,
   "id": "4296d3e0",
   "metadata": {
    "ExecuteTime": {
     "end_time": "2023-10-22T14:04:32.861682316Z",
     "start_time": "2023-10-22T14:04:30.580818771Z"
    }
   },
   "outputs": [
    {
     "name": "stdout",
     "output_type": "stream",
     "text": [
      "Num GPUs Available:  0\n"
     ]
    }
   ],
   "source": [
    "print(\"Num GPUs Available: \", len(tf.config.list_physical_devices('GPU')))"
   ]
  },
  {
   "cell_type": "markdown",
   "id": "b2fc9528",
   "metadata": {},
   "source": [
    "### Loading the dataset\n",
    "We will work on a binary classification problem. The dataset is of two classes SPAM and NOT SPAM. "
   ]
  },
  {
   "cell_type": "code",
   "execution_count": 44,
   "id": "543a8a42",
   "metadata": {
    "ExecuteTime": {
     "end_time": "2023-10-22T14:04:32.896091468Z",
     "start_time": "2023-10-22T14:04:30.585173569Z"
    }
   },
   "outputs": [],
   "source": [
    "dataset = pd.read_csv(\"spam.csv\", encoding='ISO-8859-1')"
   ]
  },
  {
   "cell_type": "code",
   "execution_count": 45,
   "id": "89382459",
   "metadata": {
    "ExecuteTime": {
     "end_time": "2023-10-22T14:04:32.896545137Z",
     "start_time": "2023-10-22T14:04:30.602528057Z"
    }
   },
   "outputs": [],
   "source": [
    "X = dataset.v2"
   ]
  },
  {
   "cell_type": "code",
   "execution_count": 46,
   "id": "e5c2f022",
   "metadata": {
    "ExecuteTime": {
     "end_time": "2023-10-22T14:04:32.967473383Z",
     "start_time": "2023-10-22T14:04:30.602759589Z"
    }
   },
   "outputs": [],
   "source": [
    "y = dataset.v1"
   ]
  },
  {
   "cell_type": "markdown",
   "id": "431bbc36",
   "metadata": {},
   "source": [
    "### Exercise 1\n",
    "Reuse your to_lower(X) function from the NLP basic lab, and the clean_text(X) function to lower case all documents in the dataset and then remove all numerical and special characters from the dataset."
   ]
  },
  {
   "cell_type": "code",
   "execution_count": 47,
   "id": "c6acd618",
   "metadata": {
    "ExecuteTime": {
     "end_time": "2023-10-22T14:04:33.041673830Z",
     "start_time": "2023-10-22T14:04:30.625915597Z"
    }
   },
   "outputs": [
    {
     "data": {
      "text/plain": "0       go until jurong point crazy available only in ...\n1                                 ok lar joking wif u oni\n2       free entry in  a wkly comp to win fa cup final...\n3             u dun say so early hor u c already then say\n4       nah i dont think he goes to usf he lives aroun...\n                              ...                        \n5567    this is the nd time we have tried  contact u u...\n5568                   will  b going to esplanade fr home\n5569    pity  was in mood for that soany other suggest...\n5570    the guy did some bitching but i acted like id ...\n5571                            rofl its true to its name\nName: v2, Length: 5572, dtype: object"
     },
     "execution_count": 47,
     "metadata": {},
     "output_type": "execute_result"
    }
   ],
   "source": [
    "def to_lower(dataframe):\n",
    "    return dataframe.map(lambda row: row.lower())\n",
    "\n",
    "\n",
    "def clean_text(dataframe):\n",
    "    pattern = r'[^a-z\\s]'\n",
    "    return dataframe.map(lambda row: re.sub(pattern, '', row))\n",
    "\n",
    "\n",
    "X = to_lower(X)\n",
    "X = clean_text(X)\n",
    "X"
   ]
  },
  {
   "cell_type": "markdown",
   "id": "25566af1",
   "metadata": {},
   "source": [
    "### Exercise 2 \n",
    "Create the ground truth vector **y** for the binary classification.\n",
    "Check that the **y** vector is of shape(ne,1)."
   ]
  },
  {
   "cell_type": "code",
   "execution_count": 48,
   "id": "cc53266d",
   "metadata": {
    "ExecuteTime": {
     "end_time": "2023-10-22T14:04:33.054436906Z",
     "start_time": "2023-10-22T14:04:30.656748187Z"
    }
   },
   "outputs": [],
   "source": [
    "label_encoder = LabelEncoder()\n",
    "label_encoder.fit([\"spam\", \"ham\"])\n",
    "y = label_encoder.transform(y)"
   ]
  },
  {
   "cell_type": "code",
   "execution_count": 49,
   "id": "52b2d2ef",
   "metadata": {
    "ExecuteTime": {
     "end_time": "2023-10-22T14:04:33.055133845Z",
     "start_time": "2023-10-22T14:04:30.656986493Z"
    }
   },
   "outputs": [
    {
     "data": {
      "text/plain": "array([0, 0, 1, ..., 0, 0, 0])"
     },
     "execution_count": 49,
     "metadata": {},
     "output_type": "execute_result"
    }
   ],
   "source": [
    "y"
   ]
  },
  {
   "cell_type": "markdown",
   "id": "a57842f9",
   "metadata": {},
   "source": [
    "### Exercise 3\n",
    "Use Keras' Tokenizer class to vectorize the corpus. \n",
    "What we expect here is that the tokens will be encoded as integers.\n",
    "\n",
    "Notice that tokenizing here is different from the tokenization process discussed in the basic lecture."
   ]
  },
  {
   "cell_type": "code",
   "execution_count": 50,
   "id": "b9799596",
   "metadata": {
    "ExecuteTime": {
     "end_time": "2023-10-22T14:04:33.214133595Z",
     "start_time": "2023-10-22T14:04:30.659842574Z"
    }
   },
   "outputs": [],
   "source": [
    "tokenizer = Tokenizer()\n",
    "tokenizer.fit_on_texts(X)\n",
    "X_encoded = tokenizer.texts_to_sequences(X)"
   ]
  },
  {
   "cell_type": "code",
   "execution_count": 51,
   "id": "4fb1a413",
   "metadata": {
    "ExecuteTime": {
     "end_time": "2023-10-22T14:04:33.214822233Z",
     "start_time": "2023-10-22T14:04:30.810103591Z"
    }
   },
   "outputs": [
    {
     "name": "stdout",
     "output_type": "stream",
     "text": [
      "just forced myself to eat a slice im really not hungry tho this sucks mark is getting worried he knows im sick when i turn down pizza lol\n",
      "[36, 3983, 934, 1, 310, 4, 2716, 22, 146, 24, 735, 633, 39, 1218, 1107, 9, 242, 1015, 70, 935, 22, 1016, 43, 2, 1766, 223, 1108, 175]\n"
     ]
    }
   ],
   "source": [
    "i = 25\n",
    "print(X[i])\n",
    "print(X_encoded[i])"
   ]
  },
  {
   "cell_type": "markdown",
   "id": "c80383b8",
   "metadata": {},
   "source": [
    "### Exercise 4\n",
    "Whether we work with an RNN cell, an LSTM or a GRU cell, we want first to know how many times should we unroll the network. This will be referred to as 'time_steps'.\n",
    "\n",
    "\n",
    "In this exercise, the goal is to check the lengths of our documents, and then choose a fixed length for all our documents. \n",
    "\n",
    "Documents which are shorter than the length you fixed will be padded with 0s.\n",
    "\n",
    "Documents which are longer will be truncated. "
   ]
  },
  {
   "cell_type": "markdown",
   "id": "8c64907b",
   "metadata": {},
   "source": [
    "a. Check the length of the largest document in the corpus"
   ]
  },
  {
   "cell_type": "code",
   "execution_count": 52,
   "id": "51b98261",
   "metadata": {
    "scrolled": false,
    "ExecuteTime": {
     "end_time": "2023-10-22T14:04:33.215321857Z",
     "start_time": "2023-10-22T14:04:30.810306225Z"
    }
   },
   "outputs": [
    {
     "data": {
      "text/plain": "171"
     },
     "execution_count": 52,
     "metadata": {},
     "output_type": "execute_result"
    }
   ],
   "source": [
    "lengths = [len(x) for x in X_encoded]\n",
    "max_len = max(lengths)\n",
    "max_len"
   ]
  },
  {
   "cell_type": "markdown",
   "id": "086b70c1",
   "metadata": {},
   "source": [
    "b. Check the average count of words in all documents"
   ]
  },
  {
   "cell_type": "code",
   "execution_count": 53,
   "id": "88653455",
   "metadata": {
    "ExecuteTime": {
     "end_time": "2023-10-22T14:04:33.215758884Z",
     "start_time": "2023-10-22T14:04:30.854688746Z"
    }
   },
   "outputs": [
    {
     "name": "stdout",
     "output_type": "stream",
     "text": [
      "Average word count in our documents is 14\n"
     ]
    }
   ],
   "source": [
    "print(\"Average word count in our documents is\", int(sum(lengths) / len(lengths)))"
   ]
  },
  {
   "cell_type": "markdown",
   "id": "d3700635",
   "metadata": {},
   "source": [
    "Quite a distance between the average length and longest document. It's probably worth it to check the lengths in a box plot."
   ]
  },
  {
   "cell_type": "code",
   "execution_count": 54,
   "id": "30915295",
   "metadata": {
    "scrolled": true,
    "ExecuteTime": {
     "end_time": "2023-10-22T14:04:33.407067620Z",
     "start_time": "2023-10-22T14:04:30.854906973Z"
    }
   },
   "outputs": [
    {
     "data": {
      "text/plain": "<Figure size 640x480 with 1 Axes>",
      "image/png": "[encoded data removed]"
     },
     "metadata": {},
     "output_type": "display_data"
    }
   ],
   "source": [
    "plt.boxplot(lengths)\n",
    "plt.show()"
   ]
  },
  {
   "cell_type": "markdown",
   "id": "b7b633bd",
   "metadata": {},
   "source": [
    "### Exercise 5\n",
    "\n",
    "Hopefully, you have chosen a value for the max doc length (which will serve as your time_steps value when you build your RNN)."
   ]
  },
  {
   "cell_type": "markdown",
   "id": "5bb6fb3e",
   "metadata": {},
   "source": [
    "We can now proceed to use the pad_sequences() method of Keras to pad our sequences, check [here](https://www.tensorflow.org/api_docs/python/tf/keras/utils/pad_sequences).\n",
    "\n",
    "Sentences longer than **n** will be truncated (you can choose to keep the first **n** words or the last).\n",
    "Sentences shorter than **n** will be padded with 0."
   ]
  },
  {
   "cell_type": "code",
   "execution_count": 55,
   "id": "c4673535",
   "metadata": {
    "ExecuteTime": {
     "end_time": "2023-10-22T14:04:33.407583287Z",
     "start_time": "2023-10-22T14:04:30.986155201Z"
    }
   },
   "outputs": [],
   "source": [
    "X_padded = pad_sequences(X_encoded, maxlen=max_len)  # so we keep all words in our documents, and pad the shorter ones"
   ]
  },
  {
   "cell_type": "code",
   "execution_count": 56,
   "id": "158ea7be",
   "metadata": {
    "scrolled": false,
    "ExecuteTime": {
     "end_time": "2023-10-22T14:04:33.408153328Z",
     "start_time": "2023-10-22T14:04:30.986426540Z"
    }
   },
   "outputs": [
    {
     "name": "stdout",
     "output_type": "stream",
     "text": [
      "natalja f is inviting you to be her friend reply yes or no see her wwwsmsacunat stop send stop frnd to \n",
      "[3884, 789, 9, 1377, 3, 1, 31, 105, 260, 88, 140, 26, 37, 80, 105, 3885, 84, 68, 84, 682, 1]\n",
      "[   0    0    0    0    0    0    0    0    0    0    0    0    0    0\n",
      "    0    0    0    0    0    0    0    0    0    0    0    0    0    0\n",
      "    0    0    0    0    0    0    0    0    0    0    0    0    0    0\n",
      "    0    0    0    0    0    0    0    0    0    0    0    0    0    0\n",
      "    0    0    0    0    0    0    0    0    0    0    0    0    0    0\n",
      "    0    0    0    0    0    0    0    0    0    0    0    0    0    0\n",
      "    0    0    0    0    0    0    0    0    0    0    0    0    0    0\n",
      "    0    0    0    0    0    0    0    0    0    0    0    0    0    0\n",
      "    0    0    0    0    0    0    0    0    0    0    0    0    0    0\n",
      "    0    0    0    0    0    0    0    0    0    0    0    0    0    0\n",
      "    0    0    0    0    0    0    0    0    0    0 3884  789    9 1377\n",
      "    3    1   31  105  260   88  140   26   37   80  105 3885   84   68\n",
      "   84  682    1]\n",
      "1\n"
     ]
    }
   ],
   "source": [
    "i = 5214\n",
    "print(X[i])\n",
    "print(X_encoded[i])\n",
    "print(X_padded[i])\n",
    "print(y[i])"
   ]
  },
  {
   "cell_type": "markdown",
   "id": "20a2545b",
   "metadata": {},
   "source": [
    "### Exercise 6\n",
    "\n",
    "We can now proceed to pass our padded sequences and our **y** vector to an RNN model for training.\n",
    "Let's first define a simple RNN model."
   ]
  },
  {
   "cell_type": "code",
   "execution_count": 57,
   "id": "16c74ce8",
   "metadata": {
    "ExecuteTime": {
     "end_time": "2023-10-22T14:04:33.448183051Z",
     "start_time": "2023-10-22T14:04:30.986687196Z"
    }
   },
   "outputs": [],
   "source": [
    "# split entire data into training and testing sets\n",
    "TEST_SIZE = 0.25\n",
    "X_train, X_test, y_train, y_test = train_test_split(X_padded, y, test_size=TEST_SIZE, random_state=100)"
   ]
  },
  {
   "cell_type": "markdown",
   "id": "6e3753cd",
   "metadata": {},
   "source": [
    "**Do check the size of the vocab, needed for the rest of the exercises.**\n",
    "\n",
    "This dataset was chosen particularly for its small vocab size."
   ]
  },
  {
   "cell_type": "markdown",
   "id": "e674e711",
   "metadata": {},
   "source": [
    "### Exercise7\n",
    "\n",
    "Let's first try a classification task using basic RNN cells.\n",
    "\n",
    "You're free to define the number of units and layers as you see fit.\n",
    "\n",
    "a. Define the architecture of your model and print its summary."
   ]
  },
  {
   "cell_type": "code",
   "execution_count": 58,
   "id": "8f102e33",
   "metadata": {
    "ExecuteTime": {
     "end_time": "2023-10-22T14:04:33.448468232Z",
     "start_time": "2023-10-22T14:04:31.011257276Z"
    }
   },
   "outputs": [],
   "source": [
    "embedding_dim = 32  # output dimension of the embedding layer\n",
    "input_size = max_len  # number of time steps\n",
    "vocab_size = len(tokenizer.word_index) + 1  # size of the vocab\n",
    "\n",
    "\n",
    "def build_model(inner_layer):\n",
    "    m = Sequential()\n",
    "    m.add(Embedding(input_dim=vocab_size, output_dim=embedding_dim, input_length=input_size, trainable=False))\n",
    "    m.add(inner_layer)  # inner layer is the type of RNN cell we want to use\n",
    "    m.add(Dense(1, activation='sigmoid'))\n",
    "    m.summary()\n",
    "    return m\n",
    "\n",
    "\n",
    "def compile_model(m, optimizer='rmsprop', loss='binary_crossentropy'):\n",
    "    m.compile(loss=loss, optimizer=optimizer, metrics=['acc'])\n",
    "    return m\n",
    "\n",
    "\n",
    "def train_model(m, epochs, batch_size):\n",
    "    return m.fit(X_train, y_train, epochs=epochs, batch_size=batch_size, validation_data=(X_test, y_test))"
   ]
  },
  {
   "cell_type": "code",
   "execution_count": 59,
   "id": "00da97bf",
   "metadata": {
    "scrolled": false,
    "ExecuteTime": {
     "end_time": "2023-10-22T14:04:33.517827456Z",
     "start_time": "2023-10-22T14:04:31.011525213Z"
    }
   },
   "outputs": [
    {
     "name": "stdout",
     "output_type": "stream",
     "text": [
      "Model: \"sequential_5\"\n",
      "_________________________________________________________________\n",
      " Layer (type)                Output Shape              Param #   \n",
      "=================================================================\n",
      " embedding_5 (Embedding)     (None, 171, 32)           273312    \n",
      "                                                                 \n",
      " simple_rnn_3 (SimpleRNN)    (None, 32)                2080      \n",
      "                                                                 \n",
      " dense_5 (Dense)             (None, 1)                 33        \n",
      "                                                                 \n",
      "=================================================================\n",
      "Total params: 275425 (1.05 MB)\n",
      "Trainable params: 2113 (8.25 KB)\n",
      "Non-trainable params: 273312 (1.04 MB)\n",
      "_________________________________________________________________\n"
     ]
    }
   ],
   "source": [
    "model = build_model(SimpleRNN(embedding_dim))"
   ]
  },
  {
   "cell_type": "markdown",
   "id": "c08ad6c0",
   "metadata": {},
   "source": [
    "b. Compile your model. \n",
    "\n",
    "Use the loss function and the optimizer you want, you don't have to use binary_cross entropy and stochastic gradient descent."
   ]
  },
  {
   "cell_type": "code",
   "execution_count": 60,
   "id": "9ac7013b",
   "metadata": {
    "ExecuteTime": {
     "end_time": "2023-10-22T14:04:33.518279576Z",
     "start_time": "2023-10-22T14:04:31.111534756Z"
    }
   },
   "outputs": [
    {
     "data": {
      "text/plain": "<keras.src.engine.sequential.Sequential at 0x7f9cd952a1d0>"
     },
     "execution_count": 60,
     "metadata": {},
     "output_type": "execute_result"
    }
   ],
   "source": [
    "compile_model(model)"
   ]
  },
  {
   "cell_type": "markdown",
   "id": "abc353be",
   "metadata": {},
   "source": [
    "c. Train your model"
   ]
  },
  {
   "cell_type": "code",
   "execution_count": 61,
   "id": "39d76b6f",
   "metadata": {
    "scrolled": false,
    "ExecuteTime": {
     "end_time": "2023-10-22T14:05:11.908575233Z",
     "start_time": "2023-10-22T14:04:31.111760553Z"
    }
   },
   "outputs": [
    {
     "name": "stdout",
     "output_type": "stream",
     "text": [
      "Epoch 1/25\n",
      "66/66 [==============================] - 3s 26ms/step - loss: 0.4144 - acc: 0.8583 - val_loss: 0.3785 - val_acc: 0.8722\n",
      "Epoch 2/25\n",
      "66/66 [==============================] - 2s 25ms/step - loss: 0.3555 - acc: 0.8629 - val_loss: 0.2864 - val_acc: 0.8744\n",
      "Epoch 3/25\n",
      "66/66 [==============================] - 2s 25ms/step - loss: 0.3154 - acc: 0.8672 - val_loss: 0.2753 - val_acc: 0.8772\n",
      "Epoch 4/25\n",
      "66/66 [==============================] - 1s 22ms/step - loss: 0.3021 - acc: 0.8682 - val_loss: 0.2834 - val_acc: 0.8629\n",
      "Epoch 5/25\n",
      "66/66 [==============================] - 2s 23ms/step - loss: 0.2901 - acc: 0.8756 - val_loss: 0.2693 - val_acc: 0.8686\n",
      "Epoch 6/25\n",
      "66/66 [==============================] - 2s 24ms/step - loss: 0.2824 - acc: 0.8830 - val_loss: 0.2789 - val_acc: 0.8729\n",
      "Epoch 7/25\n",
      "66/66 [==============================] - 2s 25ms/step - loss: 0.2729 - acc: 0.8861 - val_loss: 0.2331 - val_acc: 0.9167\n",
      "Epoch 8/25\n",
      "66/66 [==============================] - 2s 25ms/step - loss: 0.2615 - acc: 0.8906 - val_loss: 0.2732 - val_acc: 0.8873\n",
      "Epoch 9/25\n",
      "66/66 [==============================] - 2s 24ms/step - loss: 0.2526 - acc: 0.8985 - val_loss: 0.2674 - val_acc: 0.8816\n",
      "Epoch 10/25\n",
      "66/66 [==============================] - 2s 23ms/step - loss: 0.2509 - acc: 0.8997 - val_loss: 0.2204 - val_acc: 0.9261\n",
      "Epoch 11/25\n",
      "66/66 [==============================] - 2s 24ms/step - loss: 0.2409 - acc: 0.9062 - val_loss: 0.2292 - val_acc: 0.9074\n",
      "Epoch 12/25\n",
      "66/66 [==============================] - 2s 24ms/step - loss: 0.2347 - acc: 0.9076 - val_loss: 0.2308 - val_acc: 0.9024\n",
      "Epoch 13/25\n",
      "66/66 [==============================] - 2s 25ms/step - loss: 0.2321 - acc: 0.9107 - val_loss: 0.2422 - val_acc: 0.8930\n",
      "Epoch 14/25\n",
      "66/66 [==============================] - 2s 25ms/step - loss: 0.2262 - acc: 0.9146 - val_loss: 0.2040 - val_acc: 0.9239\n",
      "Epoch 15/25\n",
      "66/66 [==============================] - 2s 26ms/step - loss: 0.2259 - acc: 0.9100 - val_loss: 0.2148 - val_acc: 0.9131\n",
      "Epoch 16/25\n",
      "66/66 [==============================] - 2s 24ms/step - loss: 0.2211 - acc: 0.9179 - val_loss: 0.2401 - val_acc: 0.8966\n",
      "Epoch 17/25\n",
      "66/66 [==============================] - 2s 24ms/step - loss: 0.2191 - acc: 0.9182 - val_loss: 0.2212 - val_acc: 0.9088\n",
      "Epoch 18/25\n",
      "66/66 [==============================] - 2s 23ms/step - loss: 0.2155 - acc: 0.9213 - val_loss: 0.2058 - val_acc: 0.9232\n",
      "Epoch 19/25\n",
      "66/66 [==============================] - 2s 23ms/step - loss: 0.2108 - acc: 0.9191 - val_loss: 0.2643 - val_acc: 0.8787\n",
      "Epoch 20/25\n",
      "66/66 [==============================] - 2s 23ms/step - loss: 0.2067 - acc: 0.9222 - val_loss: 0.1818 - val_acc: 0.9332\n",
      "Epoch 21/25\n",
      "66/66 [==============================] - 2s 23ms/step - loss: 0.2075 - acc: 0.9220 - val_loss: 0.1899 - val_acc: 0.9318\n",
      "Epoch 22/25\n",
      "66/66 [==============================] - 2s 24ms/step - loss: 0.2031 - acc: 0.9275 - val_loss: 0.1855 - val_acc: 0.9282\n",
      "Epoch 23/25\n",
      "66/66 [==============================] - 2s 24ms/step - loss: 0.2023 - acc: 0.9285 - val_loss: 0.1837 - val_acc: 0.9383\n",
      "Epoch 24/25\n",
      "66/66 [==============================] - 2s 24ms/step - loss: 0.1970 - acc: 0.9306 - val_loss: 0.1854 - val_acc: 0.9311\n",
      "Epoch 25/25\n",
      "66/66 [==============================] - 2s 24ms/step - loss: 0.2001 - acc: 0.9263 - val_loss: 0.1864 - val_acc: 0.9361\n"
     ]
    }
   ],
   "source": [
    "m_history = train_model(model, epochs=25, batch_size=64)"
   ]
  },
  {
   "cell_type": "code",
   "execution_count": 62,
   "id": "03693225",
   "metadata": {
    "scrolled": true,
    "ExecuteTime": {
     "end_time": "2023-10-22T14:05:12.080490337Z",
     "start_time": "2023-10-22T14:05:11.923911331Z"
    }
   },
   "outputs": [
    {
     "data": {
      "text/plain": "<Figure size 640x480 with 1 Axes>",
      "image/png": "[encoded data removed]"
     },
     "metadata": {},
     "output_type": "display_data"
    }
   ],
   "source": [
    "# visualise training history\n",
    "plt.plot(m_history.history['acc'])\n",
    "plt.plot(model.history.history['val_acc'])\n",
    "plt.title('model accuracy')\n",
    "plt.ylabel('accuracy')\n",
    "plt.xlabel('epoch')\n",
    "plt.ylim(0, 1)\n",
    "plt.legend(['train', 'test'], loc=\"lower right\")\n",
    "plt.show()"
   ]
  },
  {
   "cell_type": "markdown",
   "id": "983117a4",
   "metadata": {},
   "source": [
    "### Exercise 8\n",
    "Try to perform the same classification task using an LSTM architecture.\n",
    "\n",
    "a. Define the architecture of your model and print its summary."
   ]
  },
  {
   "cell_type": "code",
   "execution_count": 63,
   "id": "974cb3b6",
   "metadata": {
    "ExecuteTime": {
     "end_time": "2023-10-22T14:05:12.321711641Z",
     "start_time": "2023-10-22T14:05:12.087729886Z"
    }
   },
   "outputs": [
    {
     "name": "stdout",
     "output_type": "stream",
     "text": [
      "Model: \"sequential_6\"\n",
      "_________________________________________________________________\n",
      " Layer (type)                Output Shape              Param #   \n",
      "=================================================================\n",
      " embedding_6 (Embedding)     (None, 171, 32)           273312    \n",
      "                                                                 \n",
      " lstm_2 (LSTM)               (None, 16)                3136      \n",
      "                                                                 \n",
      " dense_6 (Dense)             (None, 1)                 17        \n",
      "                                                                 \n",
      "=================================================================\n",
      "Total params: 276465 (1.05 MB)\n",
      "Trainable params: 3153 (12.32 KB)\n",
      "Non-trainable params: 273312 (1.04 MB)\n",
      "_________________________________________________________________\n"
     ]
    }
   ],
   "source": [
    "model = build_model(LSTM(16))"
   ]
  },
  {
   "cell_type": "markdown",
   "id": "d259dfe5",
   "metadata": {},
   "source": [
    "b. compile your model."
   ]
  },
  {
   "cell_type": "code",
   "execution_count": 64,
   "id": "3754d5af",
   "metadata": {
    "ExecuteTime": {
     "end_time": "2023-10-22T14:05:12.415928657Z",
     "start_time": "2023-10-22T14:05:12.292631220Z"
    }
   },
   "outputs": [
    {
     "data": {
      "text/plain": "<keras.src.engine.sequential.Sequential at 0x7f9e293496d0>"
     },
     "execution_count": 64,
     "metadata": {},
     "output_type": "execute_result"
    }
   ],
   "source": [
    "compile_model(model)"
   ]
  },
  {
   "cell_type": "markdown",
   "id": "e54db6c5",
   "metadata": {},
   "source": [
    "c. Train your model."
   ]
  },
  {
   "cell_type": "code",
   "execution_count": 65,
   "id": "1311daf8",
   "metadata": {
    "scrolled": true,
    "ExecuteTime": {
     "end_time": "2023-10-22T14:06:20.514553746Z",
     "start_time": "2023-10-22T14:05:12.337984245Z"
    }
   },
   "outputs": [
    {
     "name": "stdout",
     "output_type": "stream",
     "text": [
      "Epoch 1/25\n",
      "66/66 [==============================] - 6s 48ms/step - loss: 0.4583 - acc: 0.8483 - val_loss: 0.3727 - val_acc: 0.8722\n",
      "Epoch 2/25\n",
      "66/66 [==============================] - 3s 39ms/step - loss: 0.3821 - acc: 0.8638 - val_loss: 0.3518 - val_acc: 0.8722\n",
      "Epoch 3/25\n",
      "66/66 [==============================] - 3s 39ms/step - loss: 0.3608 - acc: 0.8638 - val_loss: 0.3421 - val_acc: 0.8722\n",
      "Epoch 4/25\n",
      "66/66 [==============================] - 3s 40ms/step - loss: 0.3419 - acc: 0.8638 - val_loss: 0.3247 - val_acc: 0.8722\n",
      "Epoch 5/25\n",
      "66/66 [==============================] - 3s 38ms/step - loss: 0.3290 - acc: 0.8638 - val_loss: 0.2936 - val_acc: 0.8722\n",
      "Epoch 6/25\n",
      "66/66 [==============================] - 3s 38ms/step - loss: 0.3168 - acc: 0.8638 - val_loss: 0.2847 - val_acc: 0.8722\n",
      "Epoch 7/25\n",
      "66/66 [==============================] - 3s 39ms/step - loss: 0.3030 - acc: 0.8638 - val_loss: 0.2865 - val_acc: 0.8722\n",
      "Epoch 8/25\n",
      "66/66 [==============================] - 3s 38ms/step - loss: 0.2895 - acc: 0.8660 - val_loss: 0.2682 - val_acc: 0.8722\n",
      "Epoch 9/25\n",
      "66/66 [==============================] - 3s 38ms/step - loss: 0.2782 - acc: 0.8693 - val_loss: 0.2459 - val_acc: 0.8801\n",
      "Epoch 10/25\n",
      "66/66 [==============================] - 3s 39ms/step - loss: 0.2663 - acc: 0.8794 - val_loss: 0.2629 - val_acc: 0.8973\n",
      "Epoch 11/25\n",
      "66/66 [==============================] - 3s 39ms/step - loss: 0.2538 - acc: 0.8926 - val_loss: 0.2337 - val_acc: 0.9081\n",
      "Epoch 12/25\n",
      "66/66 [==============================] - 3s 38ms/step - loss: 0.2401 - acc: 0.9024 - val_loss: 0.2314 - val_acc: 0.9131\n",
      "Epoch 13/25\n",
      "66/66 [==============================] - 3s 40ms/step - loss: 0.2310 - acc: 0.9093 - val_loss: 0.2174 - val_acc: 0.9167\n",
      "Epoch 14/25\n",
      "66/66 [==============================] - 2s 38ms/step - loss: 0.2248 - acc: 0.9143 - val_loss: 0.2149 - val_acc: 0.9088\n",
      "Epoch 15/25\n",
      "66/66 [==============================] - 2s 38ms/step - loss: 0.2213 - acc: 0.9160 - val_loss: 0.1980 - val_acc: 0.9131\n",
      "Epoch 16/25\n",
      "66/66 [==============================] - 3s 38ms/step - loss: 0.2188 - acc: 0.9141 - val_loss: 0.2017 - val_acc: 0.9189\n",
      "Epoch 17/25\n",
      "66/66 [==============================] - 3s 38ms/step - loss: 0.2170 - acc: 0.9174 - val_loss: 0.2042 - val_acc: 0.9210\n",
      "Epoch 18/25\n",
      "66/66 [==============================] - 3s 42ms/step - loss: 0.2141 - acc: 0.9182 - val_loss: 0.2304 - val_acc: 0.9103\n",
      "Epoch 19/25\n",
      "66/66 [==============================] - 2s 38ms/step - loss: 0.2151 - acc: 0.9174 - val_loss: 0.2129 - val_acc: 0.9131\n",
      "Epoch 20/25\n",
      "66/66 [==============================] - 3s 46ms/step - loss: 0.2121 - acc: 0.9196 - val_loss: 0.2238 - val_acc: 0.9117\n",
      "Epoch 21/25\n",
      "66/66 [==============================] - 3s 38ms/step - loss: 0.2126 - acc: 0.9172 - val_loss: 0.1923 - val_acc: 0.9174\n",
      "Epoch 22/25\n",
      "66/66 [==============================] - 3s 42ms/step - loss: 0.2110 - acc: 0.9184 - val_loss: 0.2025 - val_acc: 0.9196\n",
      "Epoch 23/25\n",
      "66/66 [==============================] - 3s 41ms/step - loss: 0.2089 - acc: 0.9225 - val_loss: 0.1949 - val_acc: 0.9261\n",
      "Epoch 24/25\n",
      "66/66 [==============================] - 3s 40ms/step - loss: 0.2063 - acc: 0.9237 - val_loss: 0.1949 - val_acc: 0.9167\n",
      "Epoch 25/25\n",
      "66/66 [==============================] - 3s 41ms/step - loss: 0.2098 - acc: 0.9179 - val_loss: 0.1925 - val_acc: 0.9232\n"
     ]
    }
   ],
   "source": [
    "m_history = train_model(model, epochs=25, batch_size=64)"
   ]
  },
  {
   "cell_type": "code",
   "execution_count": 66,
   "id": "bcad9c8a",
   "metadata": {
    "ExecuteTime": {
     "end_time": "2023-10-22T14:06:20.706675573Z",
     "start_time": "2023-10-22T14:06:20.525088785Z"
    }
   },
   "outputs": [
    {
     "data": {
      "text/plain": "<Figure size 640x480 with 1 Axes>",
      "image/png": "[encoded data removed]"
     },
     "metadata": {},
     "output_type": "display_data"
    }
   ],
   "source": [
    "# visualise training history\n",
    "plt.plot(m_history.history['acc'])\n",
    "plt.plot(model.history.history['val_acc'])\n",
    "plt.title('model accuracy')\n",
    "plt.ylabel('accuracy')\n",
    "plt.xlabel('epoch')\n",
    "plt.ylim(0, 1)\n",
    "plt.legend(['train', 'test'], loc=\"lower right\")\n",
    "plt.show()"
   ]
  },
  {
   "cell_type": "markdown",
   "id": "1a6f315a",
   "metadata": {},
   "source": [
    "### Exercise 9\n",
    "\n",
    "Let's now see whether we get different results using a GRU cell.\n",
    "\n",
    "a. Define the architecture of your model and print its summary."
   ]
  },
  {
   "cell_type": "code",
   "execution_count": 67,
   "id": "daef7915",
   "metadata": {
    "ExecuteTime": {
     "end_time": "2023-10-22T14:06:21.030683516Z",
     "start_time": "2023-10-22T14:06:20.716603553Z"
    }
   },
   "outputs": [
    {
     "name": "stdout",
     "output_type": "stream",
     "text": [
      "Model: \"sequential_7\"\n",
      "_________________________________________________________________\n",
      " Layer (type)                Output Shape              Param #   \n",
      "=================================================================\n",
      " embedding_7 (Embedding)     (None, 171, 32)           273312    \n",
      "                                                                 \n",
      " gru (GRU)                   (None, 8)                 1008      \n",
      "                                                                 \n",
      " dense_7 (Dense)             (None, 1)                 9         \n",
      "                                                                 \n",
      "=================================================================\n",
      "Total params: 274329 (1.05 MB)\n",
      "Trainable params: 1017 (3.97 KB)\n",
      "Non-trainable params: 273312 (1.04 MB)\n",
      "_________________________________________________________________\n"
     ]
    }
   ],
   "source": [
    "model = build_model(GRU(8))"
   ]
  },
  {
   "cell_type": "markdown",
   "id": "2a9b1b39",
   "metadata": {},
   "source": [
    "b. Compile your model"
   ]
  },
  {
   "cell_type": "code",
   "execution_count": 68,
   "id": "2edfa5e7",
   "metadata": {
    "ExecuteTime": {
     "end_time": "2023-10-22T14:06:21.086035835Z",
     "start_time": "2023-10-22T14:06:20.979182278Z"
    }
   },
   "outputs": [
    {
     "data": {
      "text/plain": "<keras.src.engine.sequential.Sequential at 0x7f9cb8730210>"
     },
     "execution_count": 68,
     "metadata": {},
     "output_type": "execute_result"
    }
   ],
   "source": [
    "compile_model(model)"
   ]
  },
  {
   "cell_type": "markdown",
   "id": "8bc1d828",
   "metadata": {},
   "source": [
    "c. Train your model"
   ]
  },
  {
   "cell_type": "code",
   "execution_count": 69,
   "id": "76a16eb6",
   "metadata": {
    "scrolled": true,
    "ExecuteTime": {
     "end_time": "2023-10-22T14:07:35.110531328Z",
     "start_time": "2023-10-22T14:06:21.021322340Z"
    }
   },
   "outputs": [
    {
     "name": "stdout",
     "output_type": "stream",
     "text": [
      "Epoch 1/25\n",
      "66/66 [==============================] - 7s 54ms/step - loss: 0.5781 - acc: 0.8552 - val_loss: 0.4501 - val_acc: 0.8722\n",
      "Epoch 2/25\n",
      "66/66 [==============================] - 3s 41ms/step - loss: 0.4024 - acc: 0.8638 - val_loss: 0.3715 - val_acc: 0.8722\n",
      "Epoch 3/25\n",
      "66/66 [==============================] - 3s 41ms/step - loss: 0.3833 - acc: 0.8638 - val_loss: 0.3623 - val_acc: 0.8722\n",
      "Epoch 4/25\n",
      "66/66 [==============================] - 3s 45ms/step - loss: 0.3714 - acc: 0.8638 - val_loss: 0.3472 - val_acc: 0.8722\n",
      "Epoch 5/25\n",
      "66/66 [==============================] - 3s 41ms/step - loss: 0.3542 - acc: 0.8638 - val_loss: 0.3280 - val_acc: 0.8722\n",
      "Epoch 6/25\n",
      "66/66 [==============================] - 3s 42ms/step - loss: 0.3351 - acc: 0.8638 - val_loss: 0.3094 - val_acc: 0.8722\n",
      "Epoch 7/25\n",
      "66/66 [==============================] - 3s 41ms/step - loss: 0.3204 - acc: 0.8638 - val_loss: 0.2962 - val_acc: 0.8722\n",
      "Epoch 8/25\n",
      "66/66 [==============================] - 3s 40ms/step - loss: 0.3090 - acc: 0.8643 - val_loss: 0.2841 - val_acc: 0.8715\n",
      "Epoch 9/25\n",
      "66/66 [==============================] - 3s 41ms/step - loss: 0.2988 - acc: 0.8682 - val_loss: 0.2756 - val_acc: 0.8737\n",
      "Epoch 10/25\n",
      "66/66 [==============================] - 3s 39ms/step - loss: 0.2897 - acc: 0.8746 - val_loss: 0.2693 - val_acc: 0.8801\n",
      "Epoch 11/25\n",
      "66/66 [==============================] - 3s 40ms/step - loss: 0.2812 - acc: 0.8789 - val_loss: 0.2762 - val_acc: 0.8880\n",
      "Epoch 12/25\n",
      "66/66 [==============================] - 3s 40ms/step - loss: 0.2762 - acc: 0.8856 - val_loss: 0.2528 - val_acc: 0.8866\n",
      "Epoch 13/25\n",
      "66/66 [==============================] - 3s 40ms/step - loss: 0.2690 - acc: 0.8959 - val_loss: 0.2482 - val_acc: 0.8866\n",
      "Epoch 14/25\n",
      "66/66 [==============================] - 3s 40ms/step - loss: 0.2663 - acc: 0.8945 - val_loss: 0.2492 - val_acc: 0.8859\n",
      "Epoch 15/25\n",
      "66/66 [==============================] - 3s 42ms/step - loss: 0.2619 - acc: 0.8993 - val_loss: 0.2416 - val_acc: 0.9002\n",
      "Epoch 16/25\n",
      "66/66 [==============================] - 3s 50ms/step - loss: 0.2590 - acc: 0.8990 - val_loss: 0.2383 - val_acc: 0.8981\n",
      "Epoch 17/25\n",
      "66/66 [==============================] - 3s 45ms/step - loss: 0.2538 - acc: 0.9014 - val_loss: 0.2456 - val_acc: 0.9024\n",
      "Epoch 18/25\n",
      "66/66 [==============================] - 3s 47ms/step - loss: 0.2526 - acc: 0.9014 - val_loss: 0.2381 - val_acc: 0.8959\n",
      "Epoch 19/25\n",
      "66/66 [==============================] - 3s 46ms/step - loss: 0.2497 - acc: 0.9036 - val_loss: 0.2307 - val_acc: 0.9081\n",
      "Epoch 20/25\n",
      "66/66 [==============================] - 3s 46ms/step - loss: 0.2478 - acc: 0.9040 - val_loss: 0.2306 - val_acc: 0.9081\n",
      "Epoch 21/25\n",
      "66/66 [==============================] - 3s 45ms/step - loss: 0.2443 - acc: 0.9072 - val_loss: 0.2267 - val_acc: 0.9110\n",
      "Epoch 22/25\n",
      "66/66 [==============================] - 3s 42ms/step - loss: 0.2396 - acc: 0.9048 - val_loss: 0.2553 - val_acc: 0.8995\n",
      "Epoch 23/25\n",
      "66/66 [==============================] - 3s 42ms/step - loss: 0.2408 - acc: 0.9076 - val_loss: 0.2397 - val_acc: 0.9017\n",
      "Epoch 24/25\n",
      "66/66 [==============================] - 3s 41ms/step - loss: 0.2381 - acc: 0.9067 - val_loss: 0.2374 - val_acc: 0.9002\n",
      "Epoch 25/25\n",
      "66/66 [==============================] - 3s 41ms/step - loss: 0.2380 - acc: 0.9072 - val_loss: 0.2204 - val_acc: 0.9153\n"
     ]
    }
   ],
   "source": [
    "m_history = train_model(model, epochs=25, batch_size=64)"
   ]
  },
  {
   "cell_type": "code",
   "execution_count": 70,
   "id": "b9aa9c9e",
   "metadata": {
    "ExecuteTime": {
     "end_time": "2023-10-22T14:07:35.259734393Z",
     "start_time": "2023-10-22T14:07:35.133825096Z"
    }
   },
   "outputs": [
    {
     "data": {
      "text/plain": "<Figure size 640x480 with 1 Axes>",
      "image/png": "[encoded data removed]"
     },
     "metadata": {},
     "output_type": "display_data"
    }
   ],
   "source": [
    "# visualise training history\n",
    "plt.plot(m_history.history['acc'])\n",
    "plt.plot(model.history.history['val_acc'])\n",
    "plt.title('model accuracy')\n",
    "plt.ylabel('accuracy')\n",
    "plt.xlabel('epoch')\n",
    "plt.ylim(0, 1)\n",
    "plt.legend(['train', 'test'], loc=\"lower right\")\n",
    "plt.show()"
   ]
  },
  {
   "cell_type": "markdown",
   "id": "62e0bdef",
   "metadata": {},
   "source": [
    "### Exercise 10\n",
    "It's now time to try training our model using pretrained word embeddings."
   ]
  },
  {
   "cell_type": "markdown",
   "id": "fcf3aea7",
   "metadata": {},
   "source": [
    "a. First, get the pretrained word embeddings of your choice, you can get;\n",
    "\n",
    "1. You can get Google word2vec from [here](https://code.google.com/archive/p/word2vec/), these embeddings are vectors of size 300\n",
    "2. You can get Stanford's GloVe embeddings from [here](https://nlp.stanford.edu/projects/glove/), you are offered a choice between embedding vectors of sizes 40, 50, 100, 200 and 300"
   ]
  },
  {
   "cell_type": "markdown",
   "id": "42fe6357",
   "metadata": {},
   "source": [
    "a. Use the Gensim library to load your embeddings\n",
    "\n",
    "Feel free to use other libraries also."
   ]
  },
  {
   "cell_type": "code",
   "execution_count": 71,
   "id": "414e5156",
   "metadata": {
    "ExecuteTime": {
     "end_time": "2023-10-22T14:08:11.694272226Z",
     "start_time": "2023-10-22T14:07:35.263024171Z"
    }
   },
   "outputs": [],
   "source": [
    "from gensim.models import KeyedVectors\n",
    "\n",
    "\n",
    "w2v_google = KeyedVectors.load_word2vec_format('GoogleNews-vectors-negative300.bin.gz', binary=True)"
   ]
  },
  {
   "cell_type": "markdown",
   "id": "5454fe31",
   "metadata": {},
   "source": [
    "b. If you work with embeddings of size 300 for example, then create a matrix **embeddings**. The shape of the matrix is (vocab_size, embedding_size=300). Each row corresponds to the embeddings of one word in your vocab."
   ]
  },
  {
   "cell_type": "code",
   "execution_count": 72,
   "id": "86a55ccc",
   "metadata": {
    "ExecuteTime": {
     "end_time": "2023-10-22T14:08:11.744406735Z",
     "start_time": "2023-10-22T14:08:11.697813774Z"
    }
   },
   "outputs": [],
   "source": [
    "embeddings = np.zeros((len(tokenizer.word_index) + 1, w2v_google.vector_size))\n",
    "for word, i in tokenizer.word_index.items():\n",
    "    if word in w2v_google.key_to_index:\n",
    "        embeddings[i] = w2v_google.get_vector(word)"
   ]
  },
  {
   "cell_type": "markdown",
   "id": "89ccda68",
   "metadata": {},
   "source": [
    "c. Print the embedding_weights shape"
   ]
  },
  {
   "cell_type": "code",
   "execution_count": 73,
   "id": "59dd1a2b",
   "metadata": {
    "ExecuteTime": {
     "end_time": "2023-10-22T14:08:11.745051164Z",
     "start_time": "2023-10-22T14:08:11.721149258Z"
    }
   },
   "outputs": [
    {
     "data": {
      "text/plain": "(8541, 300)"
     },
     "execution_count": 73,
     "metadata": {},
     "output_type": "execute_result"
    }
   ],
   "source": [
    "embeddings.shape"
   ]
  },
  {
   "cell_type": "markdown",
   "id": "45a81a22",
   "metadata": {},
   "source": [
    "### Exercise 11\n",
    "Let's now retrain our models, Simple RNN, LSTM and GRU using these embeddings.\n",
    "\n",
    "Let's start by doing it for RNN again.\n",
    "\n",
    "Define the architecture of your model again, show its summary, compile it and train it."
   ]
  },
  {
   "cell_type": "code",
   "execution_count": 74,
   "id": "062195b7",
   "metadata": {
    "ExecuteTime": {
     "end_time": "2023-10-22T14:08:11.933820665Z",
     "start_time": "2023-10-22T14:08:11.726611707Z"
    }
   },
   "outputs": [
    {
     "name": "stdout",
     "output_type": "stream",
     "text": [
      "Model: \"sequential_8\"\n",
      "_________________________________________________________________\n",
      " Layer (type)                Output Shape              Param #   \n",
      "=================================================================\n",
      " embedding_8 (Embedding)     (None, 171, 300)          2562300   \n",
      "                                                                 \n",
      " simple_rnn_4 (SimpleRNN)    (None, 1)                 302       \n",
      "                                                                 \n",
      " dense_8 (Dense)             (None, 1)                 2         \n",
      "                                                                 \n",
      "=================================================================\n",
      "Total params: 2562604 (9.78 MB)\n",
      "Trainable params: 304 (1.19 KB)\n",
      "Non-trainable params: 2562300 (9.77 MB)\n",
      "_________________________________________________________________\n"
     ]
    }
   ],
   "source": [
    "simple_rnn_model = Sequential()\n",
    "simple_rnn_model.add(Embedding(input_dim=embeddings.shape[0], output_dim=embeddings.shape[1],\n",
    "                               weights=[embeddings], input_length=max_len, trainable=False))\n",
    "simple_rnn_model.add(SimpleRNN(1))\n",
    "simple_rnn_model.add(Dense(1, activation='sigmoid'))\n",
    "simple_rnn_model.summary()"
   ]
  },
  {
   "cell_type": "code",
   "execution_count": 75,
   "id": "6c3cfa66",
   "metadata": {
    "ExecuteTime": {
     "end_time": "2023-10-22T14:08:12.033676838Z",
     "start_time": "2023-10-22T14:08:11.937903040Z"
    }
   },
   "outputs": [
    {
     "data": {
      "text/plain": "<keras.src.engine.sequential.Sequential at 0x7f9cd89e3710>"
     },
     "execution_count": 75,
     "metadata": {},
     "output_type": "execute_result"
    }
   ],
   "source": [
    "compile_model(simple_rnn_model)"
   ]
  },
  {
   "cell_type": "code",
   "execution_count": 76,
   "id": "13e64f53",
   "metadata": {
    "ExecuteTime": {
     "end_time": "2023-10-22T14:08:58.945203329Z",
     "start_time": "2023-10-22T14:08:11.938090896Z"
    }
   },
   "outputs": [
    {
     "name": "stdout",
     "output_type": "stream",
     "text": [
      "Epoch 1/25\n",
      "66/66 [==============================] - 3s 32ms/step - loss: 0.4422 - acc: 0.8404 - val_loss: 0.3598 - val_acc: 0.8952\n",
      "Epoch 2/25\n",
      "66/66 [==============================] - 2s 29ms/step - loss: 0.3179 - acc: 0.9320 - val_loss: 0.2888 - val_acc: 0.9426\n",
      "Epoch 3/25\n",
      "66/66 [==============================] - 2s 28ms/step - loss: 0.2711 - acc: 0.9466 - val_loss: 0.3457 - val_acc: 0.8823\n",
      "Epoch 4/25\n",
      "66/66 [==============================] - 2s 28ms/step - loss: 0.2506 - acc: 0.9464 - val_loss: 0.2351 - val_acc: 0.9533\n",
      "Epoch 5/25\n",
      "66/66 [==============================] - 2s 27ms/step - loss: 0.2327 - acc: 0.9497 - val_loss: 0.3015 - val_acc: 0.8966\n",
      "Epoch 6/25\n",
      "66/66 [==============================] - 2s 27ms/step - loss: 0.2225 - acc: 0.9471 - val_loss: 0.2075 - val_acc: 0.9576\n",
      "Epoch 7/25\n",
      "66/66 [==============================] - 2s 27ms/step - loss: 0.2063 - acc: 0.9536 - val_loss: 0.1979 - val_acc: 0.9562\n",
      "Epoch 8/25\n",
      "66/66 [==============================] - 2s 28ms/step - loss: 0.1977 - acc: 0.9529 - val_loss: 0.1888 - val_acc: 0.9569\n",
      "Epoch 9/25\n",
      "66/66 [==============================] - 2s 28ms/step - loss: 0.1896 - acc: 0.9538 - val_loss: 0.2332 - val_acc: 0.9246\n",
      "Epoch 10/25\n",
      "66/66 [==============================] - 2s 29ms/step - loss: 0.1768 - acc: 0.9576 - val_loss: 0.1753 - val_acc: 0.9569\n",
      "Epoch 11/25\n",
      "66/66 [==============================] - 2s 28ms/step - loss: 0.1773 - acc: 0.9533 - val_loss: 0.1690 - val_acc: 0.9576\n",
      "Epoch 12/25\n",
      "66/66 [==============================] - 2s 28ms/step - loss: 0.1639 - acc: 0.9612 - val_loss: 0.1634 - val_acc: 0.9598\n",
      "Epoch 13/25\n",
      "66/66 [==============================] - 2s 28ms/step - loss: 0.1637 - acc: 0.9562 - val_loss: 0.1589 - val_acc: 0.9612\n",
      "Epoch 14/25\n",
      "66/66 [==============================] - 2s 28ms/step - loss: 0.1546 - acc: 0.9627 - val_loss: 0.1524 - val_acc: 0.9634\n",
      "Epoch 15/25\n",
      "66/66 [==============================] - 2s 28ms/step - loss: 0.1481 - acc: 0.9639 - val_loss: 0.1524 - val_acc: 0.9634\n",
      "Epoch 16/25\n",
      "66/66 [==============================] - 2s 28ms/step - loss: 0.1383 - acc: 0.9682 - val_loss: 0.2016 - val_acc: 0.9304\n",
      "Epoch 17/25\n",
      "66/66 [==============================] - 2s 30ms/step - loss: 0.1484 - acc: 0.9584 - val_loss: 0.1463 - val_acc: 0.9648\n",
      "Epoch 18/25\n",
      "66/66 [==============================] - 2s 28ms/step - loss: 0.1436 - acc: 0.9598 - val_loss: 0.1486 - val_acc: 0.9605\n",
      "Epoch 19/25\n",
      "66/66 [==============================] - 2s 28ms/step - loss: 0.1427 - acc: 0.9631 - val_loss: 0.1468 - val_acc: 0.9612\n",
      "Epoch 20/25\n",
      "66/66 [==============================] - 2s 28ms/step - loss: 0.1314 - acc: 0.9660 - val_loss: 0.1914 - val_acc: 0.9340\n",
      "Epoch 21/25\n",
      "66/66 [==============================] - 2s 28ms/step - loss: 0.1357 - acc: 0.9636 - val_loss: 0.1393 - val_acc: 0.9670\n",
      "Epoch 22/25\n",
      "66/66 [==============================] - 2s 28ms/step - loss: 0.1322 - acc: 0.9646 - val_loss: 0.1901 - val_acc: 0.9325\n",
      "Epoch 23/25\n",
      "66/66 [==============================] - 2s 28ms/step - loss: 0.1291 - acc: 0.9670 - val_loss: 0.1376 - val_acc: 0.9670\n",
      "Epoch 24/25\n",
      "66/66 [==============================] - 2s 28ms/step - loss: 0.1249 - acc: 0.9682 - val_loss: 0.1875 - val_acc: 0.9340\n",
      "Epoch 25/25\n",
      "66/66 [==============================] - 2s 28ms/step - loss: 0.1235 - acc: 0.9684 - val_loss: 0.1357 - val_acc: 0.9648\n"
     ]
    }
   ],
   "source": [
    "m_history = train_model(simple_rnn_model, epochs=25, batch_size=64)"
   ]
  },
  {
   "cell_type": "code",
   "execution_count": 77,
   "id": "6d185eb4",
   "metadata": {
    "ExecuteTime": {
     "end_time": "2023-10-22T14:08:59.097951086Z",
     "start_time": "2023-10-22T14:08:58.965923819Z"
    }
   },
   "outputs": [
    {
     "data": {
      "text/plain": "<Figure size 640x480 with 1 Axes>",
      "image/png": "[encoded data removed]"
     },
     "metadata": {},
     "output_type": "display_data"
    }
   ],
   "source": [
    "# visualise training history\n",
    "plt.plot(m_history.history['acc'])\n",
    "plt.plot(model.history.history['val_acc'])\n",
    "plt.title('model accuracy')\n",
    "plt.ylabel('accuracy')\n",
    "plt.xlabel('epoch')\n",
    "plt.ylim(0, 1)\n",
    "plt.legend(['train', 'test'], loc=\"lower right\")\n",
    "plt.show()"
   ]
  },
  {
   "cell_type": "markdown",
   "id": "22dcb3cb",
   "metadata": {},
   "source": [
    "### Exercise 12\n",
    "\n",
    "Let's now retrain the model with LSTM architecture.\n",
    "\n",
    "Define the architecture of your model again, show its summary, compile it and train it."
   ]
  },
  {
   "cell_type": "code",
   "execution_count": 78,
   "id": "41200243",
   "metadata": {
    "ExecuteTime": {
     "end_time": "2023-10-22T14:08:59.341477979Z",
     "start_time": "2023-10-22T14:08:59.103626119Z"
    }
   },
   "outputs": [
    {
     "name": "stdout",
     "output_type": "stream",
     "text": [
      "Model: \"sequential_9\"\n",
      "_________________________________________________________________\n",
      " Layer (type)                Output Shape              Param #   \n",
      "=================================================================\n",
      " embedding_9 (Embedding)     (None, 171, 300)          2562300   \n",
      "                                                                 \n",
      " lstm_3 (LSTM)               (None, 1)                 1208      \n",
      "                                                                 \n",
      " dense_9 (Dense)             (None, 1)                 2         \n",
      "                                                                 \n",
      "=================================================================\n",
      "Total params: 2563510 (9.78 MB)\n",
      "Trainable params: 1210 (4.73 KB)\n",
      "Non-trainable params: 2562300 (9.77 MB)\n",
      "_________________________________________________________________\n"
     ]
    }
   ],
   "source": [
    "lstm_model = Sequential()\n",
    "lstm_model.add(Embedding(input_dim=embeddings.shape[0], output_dim=embeddings.shape[1],\n",
    "                         weights=[embeddings], input_length=max_len, trainable=False))\n",
    "lstm_model.add(LSTM(1))\n",
    "lstm_model.add(Dense(1, activation='sigmoid'))\n",
    "lstm_model.summary()"
   ]
  },
  {
   "cell_type": "code",
   "execution_count": 79,
   "id": "3f3c259e",
   "metadata": {
    "ExecuteTime": {
     "end_time": "2023-10-22T14:08:59.418607918Z",
     "start_time": "2023-10-22T14:08:59.322705282Z"
    }
   },
   "outputs": [
    {
     "data": {
      "text/plain": "<keras.src.engine.sequential.Sequential at 0x7f9db049d9d0>"
     },
     "execution_count": 79,
     "metadata": {},
     "output_type": "execute_result"
    }
   ],
   "source": [
    "compile_model(lstm_model, optimizer='adam')"
   ]
  },
  {
   "cell_type": "code",
   "execution_count": 80,
   "id": "e1813cdc",
   "metadata": {
    "ExecuteTime": {
     "end_time": "2023-10-22T14:10:13.980614831Z",
     "start_time": "2023-10-22T14:08:59.364641211Z"
    }
   },
   "outputs": [
    {
     "name": "stdout",
     "output_type": "stream",
     "text": [
      "Epoch 1/25\n",
      "66/66 [==============================] - 5s 47ms/step - loss: 0.6409 - acc: 0.8203 - val_loss: 0.5779 - val_acc: 0.8722\n",
      "Epoch 2/25\n",
      "66/66 [==============================] - 3s 43ms/step - loss: 0.5449 - acc: 0.8638 - val_loss: 0.5159 - val_acc: 0.8722\n",
      "Epoch 3/25\n",
      "66/66 [==============================] - 3s 44ms/step - loss: 0.4977 - acc: 0.8638 - val_loss: 0.4769 - val_acc: 0.8722\n",
      "Epoch 4/25\n",
      "66/66 [==============================] - 3s 44ms/step - loss: 0.4589 - acc: 0.8684 - val_loss: 0.4393 - val_acc: 0.8794\n",
      "Epoch 5/25\n",
      "66/66 [==============================] - 3s 44ms/step - loss: 0.4206 - acc: 0.8861 - val_loss: 0.4035 - val_acc: 0.8959\n",
      "Epoch 6/25\n",
      "66/66 [==============================] - 3s 44ms/step - loss: 0.3860 - acc: 0.9062 - val_loss: 0.3722 - val_acc: 0.9203\n",
      "Epoch 7/25\n",
      "66/66 [==============================] - 3s 46ms/step - loss: 0.3565 - acc: 0.9232 - val_loss: 0.3461 - val_acc: 0.9289\n",
      "Epoch 8/25\n",
      "66/66 [==============================] - 3s 43ms/step - loss: 0.3309 - acc: 0.9337 - val_loss: 0.3228 - val_acc: 0.9390\n",
      "Epoch 9/25\n",
      "66/66 [==============================] - 3s 43ms/step - loss: 0.3076 - acc: 0.9457 - val_loss: 0.3032 - val_acc: 0.9483\n",
      "Epoch 10/25\n",
      "66/66 [==============================] - 3s 43ms/step - loss: 0.2860 - acc: 0.9529 - val_loss: 0.2846 - val_acc: 0.9519\n",
      "Epoch 11/25\n",
      "66/66 [==============================] - 3s 46ms/step - loss: 0.2670 - acc: 0.9581 - val_loss: 0.2672 - val_acc: 0.9526\n",
      "Epoch 12/25\n",
      "66/66 [==============================] - 3s 47ms/step - loss: 0.2501 - acc: 0.9641 - val_loss: 0.2512 - val_acc: 0.9569\n",
      "Epoch 13/25\n",
      "66/66 [==============================] - 3s 47ms/step - loss: 0.2332 - acc: 0.9689 - val_loss: 0.2361 - val_acc: 0.9591\n",
      "Epoch 14/25\n",
      "66/66 [==============================] - 3s 46ms/step - loss: 0.2205 - acc: 0.9722 - val_loss: 0.2248 - val_acc: 0.9620\n",
      "Epoch 15/25\n",
      "66/66 [==============================] - 3s 46ms/step - loss: 0.2088 - acc: 0.9751 - val_loss: 0.2144 - val_acc: 0.9627\n",
      "Epoch 16/25\n",
      "66/66 [==============================] - 3s 46ms/step - loss: 0.1999 - acc: 0.9754 - val_loss: 0.2062 - val_acc: 0.9641\n",
      "Epoch 17/25\n",
      "66/66 [==============================] - 3s 44ms/step - loss: 0.1900 - acc: 0.9765 - val_loss: 0.1968 - val_acc: 0.9684\n",
      "Epoch 18/25\n",
      "66/66 [==============================] - 3s 43ms/step - loss: 0.1813 - acc: 0.9789 - val_loss: 0.1893 - val_acc: 0.9691\n",
      "Epoch 19/25\n",
      "66/66 [==============================] - 3s 45ms/step - loss: 0.1733 - acc: 0.9813 - val_loss: 0.1842 - val_acc: 0.9677\n",
      "Epoch 20/25\n",
      "66/66 [==============================] - 3s 43ms/step - loss: 0.1664 - acc: 0.9828 - val_loss: 0.1735 - val_acc: 0.9720\n",
      "Epoch 21/25\n",
      "66/66 [==============================] - 3s 43ms/step - loss: 0.1593 - acc: 0.9835 - val_loss: 0.1673 - val_acc: 0.9742\n",
      "Epoch 22/25\n",
      "66/66 [==============================] - 3s 43ms/step - loss: 0.1571 - acc: 0.9806 - val_loss: 0.1630 - val_acc: 0.9706\n",
      "Epoch 23/25\n",
      "66/66 [==============================] - 3s 43ms/step - loss: 0.1514 - acc: 0.9816 - val_loss: 0.1584 - val_acc: 0.9727\n",
      "Epoch 24/25\n",
      "66/66 [==============================] - 3s 43ms/step - loss: 0.1438 - acc: 0.9842 - val_loss: 0.1533 - val_acc: 0.9734\n",
      "Epoch 25/25\n",
      "66/66 [==============================] - 3s 43ms/step - loss: 0.1393 - acc: 0.9840 - val_loss: 0.1496 - val_acc: 0.9734\n"
     ]
    }
   ],
   "source": [
    "m_history = train_model(lstm_model, epochs=25, batch_size=64)"
   ]
  },
  {
   "cell_type": "code",
   "execution_count": 81,
   "id": "27d8c3d0",
   "metadata": {
    "ExecuteTime": {
     "end_time": "2023-10-22T14:10:14.138352122Z",
     "start_time": "2023-10-22T14:10:13.984689820Z"
    }
   },
   "outputs": [
    {
     "data": {
      "text/plain": "<Figure size 640x480 with 1 Axes>",
      "image/png": "[encoded data removed]"
     },
     "metadata": {},
     "output_type": "display_data"
    }
   ],
   "source": [
    "# visualise training history\n",
    "plt.plot(m_history.history['acc'])\n",
    "plt.plot(model.history.history['val_acc'])\n",
    "plt.title('model accuracy')\n",
    "plt.ylabel('accuracy')\n",
    "plt.xlabel('epoch')\n",
    "plt.ylim(0, 1)\n",
    "plt.legend(['train', 'test'], loc=\"lower right\")\n",
    "plt.show()"
   ]
  },
  {
   "cell_type": "markdown",
   "id": "55b3498c",
   "metadata": {},
   "source": [
    "### Exercise 13\n",
    "\n",
    "Let's now retrain the model with GRU architecture.\n",
    "\n",
    "Define the architecture of your model again, show its summary, compile it and train it."
   ]
  },
  {
   "cell_type": "code",
   "execution_count": 82,
   "id": "2a54091f",
   "metadata": {
    "ExecuteTime": {
     "end_time": "2023-10-22T14:10:14.420115358Z",
     "start_time": "2023-10-22T14:10:14.148984036Z"
    }
   },
   "outputs": [
    {
     "name": "stdout",
     "output_type": "stream",
     "text": [
      "Model: \"sequential_10\"\n",
      "_________________________________________________________________\n",
      " Layer (type)                Output Shape              Param #   \n",
      "=================================================================\n",
      " embedding_10 (Embedding)    (None, 171, 300)          2562300   \n",
      "                                                                 \n",
      " gru_1 (GRU)                 (None, 1)                 909       \n",
      "                                                                 \n",
      " dense_10 (Dense)            (None, 1)                 2         \n",
      "                                                                 \n",
      "=================================================================\n",
      "Total params: 2563211 (9.78 MB)\n",
      "Trainable params: 911 (3.56 KB)\n",
      "Non-trainable params: 2562300 (9.77 MB)\n",
      "_________________________________________________________________\n"
     ]
    }
   ],
   "source": [
    "gru_model = Sequential()\n",
    "gru_model.add(Embedding(input_dim=embeddings.shape[0], output_dim=embeddings.shape[1],\n",
    "                        weights=[embeddings], input_length=max_len, trainable=False))\n",
    "gru_model.add(GRU(1))\n",
    "gru_model.add(Dense(1, activation='sigmoid'))\n",
    "gru_model.summary()"
   ]
  },
  {
   "cell_type": "code",
   "execution_count": 83,
   "id": "18ea0729",
   "metadata": {
    "ExecuteTime": {
     "end_time": "2023-10-22T14:10:14.420520441Z",
     "start_time": "2023-10-22T14:10:14.374549147Z"
    }
   },
   "outputs": [
    {
     "data": {
      "text/plain": "<keras.src.engine.sequential.Sequential at 0x7f9d1a382c10>"
     },
     "execution_count": 83,
     "metadata": {},
     "output_type": "execute_result"
    }
   ],
   "source": [
    "compile_model(gru_model, optimizer='rmsprop')"
   ]
  },
  {
   "cell_type": "code",
   "execution_count": 84,
   "id": "2be10bce",
   "metadata": {
    "ExecuteTime": {
     "end_time": "2023-10-22T14:11:40.009655856Z",
     "start_time": "2023-10-22T14:10:14.374677074Z"
    }
   },
   "outputs": [
    {
     "name": "stdout",
     "output_type": "stream",
     "text": [
      "Epoch 1/25\n",
      "66/66 [==============================] - 5s 56ms/step - loss: 0.5567 - acc: 0.8263 - val_loss: 0.4644 - val_acc: 0.8722\n",
      "Epoch 2/25\n",
      "66/66 [==============================] - 3s 49ms/step - loss: 0.4272 - acc: 0.8660 - val_loss: 0.3969 - val_acc: 0.8765\n",
      "Epoch 3/25\n",
      "66/66 [==============================] - 3s 51ms/step - loss: 0.3846 - acc: 0.8696 - val_loss: 0.3721 - val_acc: 0.8765\n",
      "Epoch 4/25\n",
      "66/66 [==============================] - 3s 53ms/step - loss: 0.3641 - acc: 0.8696 - val_loss: 0.3559 - val_acc: 0.8765\n",
      "Epoch 5/25\n",
      "66/66 [==============================] - 3s 53ms/step - loss: 0.3470 - acc: 0.8701 - val_loss: 0.3408 - val_acc: 0.8772\n",
      "Epoch 6/25\n",
      "66/66 [==============================] - 4s 54ms/step - loss: 0.3297 - acc: 0.8737 - val_loss: 0.3260 - val_acc: 0.8794\n",
      "Epoch 7/25\n",
      "66/66 [==============================] - 3s 53ms/step - loss: 0.3140 - acc: 0.8808 - val_loss: 0.3131 - val_acc: 0.8859\n",
      "Epoch 8/25\n",
      "66/66 [==============================] - 3s 52ms/step - loss: 0.3004 - acc: 0.8866 - val_loss: 0.3015 - val_acc: 0.8873\n",
      "Epoch 9/25\n",
      "66/66 [==============================] - 3s 52ms/step - loss: 0.2876 - acc: 0.8897 - val_loss: 0.2909 - val_acc: 0.8894\n",
      "Epoch 10/25\n",
      "66/66 [==============================] - 4s 54ms/step - loss: 0.2762 - acc: 0.8938 - val_loss: 0.2812 - val_acc: 0.8902\n",
      "Epoch 11/25\n",
      "66/66 [==============================] - 3s 52ms/step - loss: 0.2653 - acc: 0.8985 - val_loss: 0.2719 - val_acc: 0.8923\n",
      "Epoch 12/25\n",
      "66/66 [==============================] - 3s 51ms/step - loss: 0.2551 - acc: 0.9017 - val_loss: 0.2633 - val_acc: 0.8945\n",
      "Epoch 13/25\n",
      "66/66 [==============================] - 3s 53ms/step - loss: 0.2457 - acc: 0.9036 - val_loss: 0.2554 - val_acc: 0.8966\n",
      "Epoch 14/25\n",
      "66/66 [==============================] - 4s 54ms/step - loss: 0.2367 - acc: 0.9079 - val_loss: 0.2477 - val_acc: 0.9002\n",
      "Epoch 15/25\n",
      "66/66 [==============================] - 4s 54ms/step - loss: 0.2281 - acc: 0.9136 - val_loss: 0.2407 - val_acc: 0.9074\n",
      "Epoch 16/25\n",
      "66/66 [==============================] - 3s 48ms/step - loss: 0.2202 - acc: 0.9174 - val_loss: 0.2343 - val_acc: 0.9103\n",
      "Epoch 17/25\n",
      "66/66 [==============================] - 3s 47ms/step - loss: 0.2128 - acc: 0.9227 - val_loss: 0.2284 - val_acc: 0.9124\n",
      "Epoch 18/25\n",
      "66/66 [==============================] - 3s 48ms/step - loss: 0.2058 - acc: 0.9263 - val_loss: 0.2230 - val_acc: 0.9160\n",
      "Epoch 19/25\n",
      "66/66 [==============================] - 3s 48ms/step - loss: 0.1993 - acc: 0.9299 - val_loss: 0.2181 - val_acc: 0.9196\n",
      "Epoch 20/25\n",
      "66/66 [==============================] - 3s 48ms/step - loss: 0.1933 - acc: 0.9349 - val_loss: 0.2137 - val_acc: 0.9225\n",
      "Epoch 21/25\n",
      "66/66 [==============================] - 3s 49ms/step - loss: 0.1878 - acc: 0.9380 - val_loss: 0.2098 - val_acc: 0.9253\n",
      "Epoch 22/25\n",
      "66/66 [==============================] - 3s 47ms/step - loss: 0.1829 - acc: 0.9426 - val_loss: 0.2064 - val_acc: 0.9261\n",
      "Epoch 23/25\n",
      "66/66 [==============================] - 3s 47ms/step - loss: 0.1783 - acc: 0.9450 - val_loss: 0.2030 - val_acc: 0.9304\n",
      "Epoch 24/25\n",
      "66/66 [==============================] - 3s 50ms/step - loss: 0.1741 - acc: 0.9466 - val_loss: 0.2001 - val_acc: 0.9318\n",
      "Epoch 25/25\n",
      "66/66 [==============================] - 3s 47ms/step - loss: 0.1704 - acc: 0.9478 - val_loss: 0.1980 - val_acc: 0.9318\n"
     ]
    }
   ],
   "source": [
    "m_history = train_model(gru_model, epochs=25, batch_size=64)"
   ]
  },
  {
   "cell_type": "code",
   "execution_count": 85,
   "id": "f0b7758a",
   "metadata": {
    "ExecuteTime": {
     "end_time": "2023-10-22T14:11:40.168110245Z",
     "start_time": "2023-10-22T14:11:40.018955723Z"
    }
   },
   "outputs": [
    {
     "data": {
      "text/plain": "<Figure size 640x480 with 1 Axes>",
      "image/png": "[encoded data removed]"
     },
     "metadata": {},
     "output_type": "display_data"
    }
   ],
   "source": [
    "# visualise training history\n",
    "plt.plot(m_history.history['acc'])\n",
    "plt.plot(model.history.history['val_acc'])\n",
    "plt.title('model accuracy')\n",
    "plt.ylabel('accuracy')\n",
    "plt.xlabel('epoch')\n",
    "plt.ylim(0, 1)\n",
    "plt.legend(['train', 'test'], loc=\"lower right\")\n",
    "plt.show()"
   ]
  },
  {
   "cell_type": "markdown",
   "id": "5111c546",
   "metadata": {},
   "source": [
    "### Exercise 14\n",
    "\n",
    "By now, hopefully the many-to-one RNN type makes sense. Let's now try a diffrent type, many-to-many.\n",
    "\n",
    "We wish to build our own POS tagger. Recall how POS tags help us understand a first layer of the syntactic structure of a given sentence. \n",
    "\n",
    "There are various ways with which you can build a POS tagger. A rule-based one, a probabilistic one, using Hidden Markov Models (HMMs). There's also an option to build a statistical model to learn a POS tagger. \n",
    "\n",
    "We'll try the statistical approach. The training data is abundant, available through NLTK even.\n",
    "\n",
    "We'll first acquire the TreeBank dataset."
   ]
  },
  {
   "cell_type": "code",
   "execution_count": 86,
   "id": "c78064c8",
   "metadata": {
    "ExecuteTime": {
     "end_time": "2023-10-22T14:11:41.034761364Z",
     "start_time": "2023-10-22T14:11:40.167677594Z"
    }
   },
   "outputs": [
    {
     "name": "stderr",
     "output_type": "stream",
     "text": [
      "[nltk_data] Downloading package treebank to\n",
      "[nltk_data]     /home/alexeykovzel/nltk_data...\n",
      "[nltk_data]   Unzipping corpora/treebank.zip.\n",
      "[nltk_data] Downloading package universal_tagset to\n",
      "[nltk_data]     /home/alexeykovzel/nltk_data...\n",
      "[nltk_data]   Unzipping taggers/universal_tagset.zip.\n"
     ]
    },
    {
     "data": {
      "text/plain": "True"
     },
     "execution_count": 86,
     "metadata": {},
     "output_type": "execute_result"
    }
   ],
   "source": [
    "# You might need to download the dataset first\n",
    "nltk.download('treebank')\n",
    "nltk.download('universal_tagset')"
   ]
  },
  {
   "cell_type": "code",
   "execution_count": 87,
   "id": "c5716de2",
   "metadata": {
    "ExecuteTime": {
     "end_time": "2023-10-22T14:11:41.034948458Z",
     "start_time": "2023-10-22T14:11:41.029195774Z"
    }
   },
   "outputs": [],
   "source": [
    "corpus = treebank.tagged_sents(tagset='universal')"
   ]
  },
  {
   "cell_type": "markdown",
   "id": "da6ce78d",
   "metadata": {},
   "source": [
    "Notice that each entry in the dataset is a tuple (word, pos_tag). We want our training **X** to have the words of the sentence, and **Y** to have the equivalent POS tags."
   ]
  },
  {
   "cell_type": "code",
   "execution_count": 88,
   "id": "c8d6d75a",
   "metadata": {
    "scrolled": true,
    "ExecuteTime": {
     "end_time": "2023-10-22T14:11:41.061396143Z",
     "start_time": "2023-10-22T14:11:41.034328926Z"
    }
   },
   "outputs": [
    {
     "name": "stdout",
     "output_type": "stream",
     "text": [
      "<class 'list'>\n",
      "[('By', 'ADP'), ('1997', 'NUM'), (',', '.'), ('almost', 'ADV'), ('all', 'DET'), ('remaining', 'VERB'), ('uses', 'NOUN'), ('of', 'ADP'), ('cancer-causing', 'ADJ'), ('asbestos', 'NOUN'), ('will', 'VERB'), ('be', 'VERB'), ('outlawed', 'VERB'), ('*-6', 'X'), ('.', '.')]\n"
     ]
    }
   ],
   "source": [
    "i = 25\n",
    "print(type(corpus[i]))\n",
    "print(corpus[i])"
   ]
  },
  {
   "cell_type": "markdown",
   "id": "60bd7bc7",
   "metadata": {},
   "source": [
    "a. Create your frame X which has all the sentences, and a frame Y with all the POS tags."
   ]
  },
  {
   "cell_type": "code",
   "execution_count": 89,
   "id": "d05caf4e",
   "metadata": {
    "ExecuteTime": {
     "end_time": "2023-10-22T14:11:42.018229585Z",
     "start_time": "2023-10-22T14:11:41.056547108Z"
    }
   },
   "outputs": [],
   "source": [
    "X = []\n",
    "Y = []\n",
    "for sentence in corpus:\n",
    "    x = []\n",
    "    y = []\n",
    "    for word, pos_tag in sentence:\n",
    "        x.append(word)\n",
    "        y.append(pos_tag)\n",
    "    X.append(x)\n",
    "    Y.append(y)"
   ]
  },
  {
   "cell_type": "code",
   "execution_count": 90,
   "id": "efc5b8b4",
   "metadata": {
    "scrolled": true,
    "ExecuteTime": {
     "end_time": "2023-10-22T14:11:42.023518217Z",
     "start_time": "2023-10-22T14:11:42.020757876Z"
    }
   },
   "outputs": [
    {
     "name": "stdout",
     "output_type": "stream",
     "text": [
      "['Pierre', 'Vinken', ',', '61', 'years', 'old', ',', 'will', 'join', 'the', 'board', 'as', 'a', 'nonexecutive', 'director', 'Nov.', '29', '.']\n",
      "['NOUN', 'NOUN', '.', 'NUM', 'NOUN', 'ADJ', '.', 'VERB', 'VERB', 'DET', 'NOUN', 'ADP', 'DET', 'ADJ', 'NOUN', 'NOUN', 'NUM', '.']\n"
     ]
    }
   ],
   "source": [
    "i = 0\n",
    "print(X[i])\n",
    "print(Y[i])"
   ]
  },
  {
   "cell_type": "markdown",
   "id": "f90017f0",
   "metadata": {},
   "source": [
    "### Exercise 15\n",
    "\n",
    "Check that you have the same number of entries in X and Y.\n",
    "\n",
    "Check also that every entry in X, has the same number of elements as in its equivalent of Y.\n",
    "\n",
    "If a sentence in X has 5 tokens, we need to have 5 POS tags in Y."
   ]
  },
  {
   "cell_type": "code",
   "execution_count": 91,
   "id": "83fc7bb3",
   "metadata": {
    "ExecuteTime": {
     "end_time": "2023-10-22T14:11:42.081022159Z",
     "start_time": "2023-10-22T14:11:42.024804201Z"
    }
   },
   "outputs": [
    {
     "name": "stdout",
     "output_type": "stream",
     "text": [
      "Number of entries in X and Y are the same.\n"
     ]
    }
   ],
   "source": [
    "if len(X) == len(Y):\n",
    "    print(\"Number of entries in X and Y are the same.\")\n",
    "else:\n",
    "    print(\"Number of entries in X and Y are different.\")\n",
    "\n",
    "for i in range(len(X)):\n",
    "    if len(X[i]) != len(Y[i]):\n",
    "        print(\"Shape Error\")\n",
    "        break"
   ]
  },
  {
   "cell_type": "markdown",
   "id": "2ba719eb",
   "metadata": {},
   "source": [
    "3914 sentences is enough training data for our model."
   ]
  },
  {
   "cell_type": "markdown",
   "id": "d351bcd3",
   "metadata": {},
   "source": [
    "### Exercise 16\n",
    "\n",
    "a. Let's now move on to convert X and Y both to integers, using Keras's tokenizer."
   ]
  },
  {
   "cell_type": "code",
   "execution_count": 92,
   "id": "efc2b9e4",
   "metadata": {
    "ExecuteTime": {
     "end_time": "2023-10-22T14:11:42.200894719Z",
     "start_time": "2023-10-22T14:11:42.043270908Z"
    }
   },
   "outputs": [],
   "source": [
    "tokenizer = Tokenizer()\n",
    "tokenizer.fit_on_texts(X)\n",
    "X_encoded = tokenizer.texts_to_sequences(X)\n",
    "\n",
    "tokenizer.fit_on_texts(Y)\n",
    "Y_encoded = tokenizer.texts_to_sequences(Y)"
   ]
  },
  {
   "cell_type": "markdown",
   "id": "f31ef085",
   "metadata": {},
   "source": [
    "a. Let's print the size of the vocab, also the number of different POS tags we have.\n",
    "\n",
    "We need to know how many different POS tags we have, because that should be our number of classes."
   ]
  },
  {
   "cell_type": "code",
   "execution_count": 93,
   "id": "38e88f7a",
   "metadata": {
    "ExecuteTime": {
     "end_time": "2023-10-22T14:11:42.244888021Z",
     "start_time": "2023-10-22T14:11:42.203358246Z"
    }
   },
   "outputs": [
    {
     "name": "stdout",
     "output_type": "stream",
     "text": [
      "Vocab size is 11397\n"
     ]
    }
   ],
   "source": [
    "print(\"Vocab size is\", len(tokenizer.word_index))  # number of unique words in our corpus"
   ]
  },
  {
   "cell_type": "markdown",
   "id": "9f56c96a",
   "metadata": {},
   "source": [
    "### Exercise 17\n",
    "\n",
    "Let's again pad our sentences and our tags. We, again, need to decide on our max length, a decision that is crucial as this matches the number of time steps for our RNN architecture"
   ]
  },
  {
   "cell_type": "code",
   "execution_count": 94,
   "id": "a2bb2173",
   "metadata": {
    "ExecuteTime": {
     "end_time": "2023-10-22T14:11:42.311451954Z",
     "start_time": "2023-10-22T14:11:42.244621117Z"
    }
   },
   "outputs": [],
   "source": [
    "lengths = [len(x) for x in X_encoded]\n",
    "max_length = max(lengths)\n",
    "\n",
    "X_padded = pad_sequences(X_encoded, maxlen=max_length, padding='pre', truncating='pre')\n",
    "Y_padded = pad_sequences(Y_encoded, maxlen=max_length, padding='pre', truncating='pre')"
   ]
  },
  {
   "cell_type": "code",
   "execution_count": 95,
   "id": "f5ec6b83",
   "metadata": {
    "ExecuteTime": {
     "end_time": "2023-10-22T14:11:42.346672916Z",
     "start_time": "2023-10-22T14:11:42.284772195Z"
    }
   },
   "outputs": [
    {
     "name": "stdout",
     "output_type": "stream",
     "text": [
      "[   0    0    0    0    0    0    0    0    0    0    0    0    0    0\n",
      "    0    0    0    0    0    0    0    0    0    0    0    0    0    0\n",
      "    0    0    0    0    0    0    0    0    0    0    0    0    0    0\n",
      "    0    0    0    0    0    0    0    0    0    0    0    0    0    0\n",
      "    0    0    0    0    0    0    0    0    0    0    0    0    0    0\n",
      "    0    0    0    0    0    0    0    0    0    0    0    0    0    0\n",
      "    0    0    0    0    0    0    0    0    0    0    0    0    0    0\n",
      "    0    0    0    0    0    0    0    0    0    0    0    0    0    0\n",
      "    0    0    0    0    0    0    0    0    0    0    0    0    0    0\n",
      "    0    0    0    0    0    0    0    0    0    0    0    0    0    0\n",
      "    0    0    0    0    0    0    0    0    0    0    0    0    0    0\n",
      "    0    0    0    0    0    0    0    0    0    0    0    0    0    0\n",
      "    0    0    0    0    0    0    0    0    0    0    0    0    0    0\n",
      "    0    0    0    0    0    0    0    0    0    0    0    0    0    0\n",
      "    0    0    0    0    0    0    0    0    0    0    0    0    0    0\n",
      "    0    0    0    0    0    0    0    0    0    0    0    0    0    0\n",
      "    0    0    0    0    0    0    0    0    0    0    0    0    0    0\n",
      "    0    0    0    0    0    0    0    0    0    0    0    0    0    0\n",
      "    0 5601 3746    1 2024   86  331    1   46 2405    2  131   27    6\n",
      " 2025  332  459 2026    3]\n",
      "[ 0  0  0  0  0  0  0  0  0  0  0  0  0  0  0  0  0  0  0  0  0  0  0  0\n",
      "  0  0  0  0  0  0  0  0  0  0  0  0  0  0  0  0  0  0  0  0  0  0  0  0\n",
      "  0  0  0  0  0  0  0  0  0  0  0  0  0  0  0  0  0  0  0  0  0  0  0  0\n",
      "  0  0  0  0  0  0  0  0  0  0  0  0  0  0  0  0  0  0  0  0  0  0  0  0\n",
      "  0  0  0  0  0  0  0  0  0  0  0  0  0  0  0  0  0  0  0  0  0  0  0  0\n",
      "  0  0  0  0  0  0  0  0  0  0  0  0  0  0  0  0  0  0  0  0  0  0  0  0\n",
      "  0  0  0  0  0  0  0  0  0  0  0  0  0  0  0  0  0  0  0  0  0  0  0  0\n",
      "  0  0  0  0  0  0  0  0  0  0  0  0  0  0  0  0  0  0  0  0  0  0  0  0\n",
      "  0  0  0  0  0  0  0  0  0  0  0  0  0  0  0  0  0  0  0  0  0  0  0  0\n",
      "  0  0  0  0  0  0  0  0  0  0  0  0  0  0  0  0  0  0  0  0  0  0  0  0\n",
      "  0  0  0  0  0  0  0  0  0  0  0  0  0  1  1  2 10  1  7  2  3  3  5  1\n",
      "  4  5  7  1  1 10  2]\n"
     ]
    }
   ],
   "source": [
    "i = 0\n",
    "print(X_padded[i])\n",
    "print(Y_padded[i])"
   ]
  },
  {
   "cell_type": "markdown",
   "id": "fbefef17",
   "metadata": {},
   "source": [
    "### Exercise 18\n",
    "\n",
    "Try a first version of your RNN models without using any pretrained embeddings.\n"
   ]
  },
  {
   "cell_type": "markdown",
   "id": "7a2d7749",
   "metadata": {},
   "source": [
    "a. Let's one-hot encode Y"
   ]
  },
  {
   "cell_type": "code",
   "execution_count": 96,
   "id": "bd4d0559",
   "metadata": {
    "ExecuteTime": {
     "end_time": "2023-10-22T14:11:42.433046290Z",
     "start_time": "2023-10-22T14:11:42.327911958Z"
    }
   },
   "outputs": [],
   "source": [
    "Y = to_categorical(Y_padded)"
   ]
  },
  {
   "cell_type": "markdown",
   "id": "141c405e",
   "metadata": {},
   "source": [
    "b. We create a train and test set."
   ]
  },
  {
   "cell_type": "code",
   "execution_count": 97,
   "id": "cad7174c",
   "metadata": {
    "ExecuteTime": {
     "end_time": "2023-10-22T14:11:42.599914563Z",
     "start_time": "2023-10-22T14:11:42.376111215Z"
    }
   },
   "outputs": [],
   "source": [
    "# split entire data into training and testing sets\n",
    "TEST_SIZE = 0.20\n",
    "X_train, X_test, y_train, y_test = train_test_split(X_padded, Y, test_size=TEST_SIZE, random_state=100)"
   ]
  },
  {
   "cell_type": "markdown",
   "id": "d4db8c06",
   "metadata": {},
   "source": [
    "c. Define your RNN model, using a simple RNN. Compile it and fit it to the data.\n",
    "\n",
    "Do not forget to wrap your Dense output layer with the TimeDistributed wrapper. We're doing a multiclassification at each time step."
   ]
  },
  {
   "cell_type": "code",
   "execution_count": 98,
   "id": "d1092104",
   "metadata": {
    "ExecuteTime": {
     "end_time": "2023-10-22T14:11:42.730237125Z",
     "start_time": "2023-10-22T14:11:42.603484270Z"
    }
   },
   "outputs": [
    {
     "name": "stdout",
     "output_type": "stream",
     "text": [
      "Model: \"sequential_11\"\n",
      "_________________________________________________________________\n",
      " Layer (type)                Output Shape              Param #   \n",
      "=================================================================\n",
      " embedding_11 (Embedding)    (None, 271, 32)           364736    \n",
      "                                                                 \n",
      " simple_rnn_5 (SimpleRNN)    (None, 271, 1)            34        \n",
      "                                                                 \n",
      " time_distributed (TimeDist  (None, 271, 16)           32        \n",
      " ributed)                                                        \n",
      "                                                                 \n",
      "=================================================================\n",
      "Total params: 364802 (1.39 MB)\n",
      "Trainable params: 66 (264.00 Byte)\n",
      "Non-trainable params: 364736 (1.39 MB)\n",
      "_________________________________________________________________\n"
     ]
    }
   ],
   "source": [
    "rnn_model = Sequential()\n",
    "rnn_model.add(Embedding(input_dim=len(tokenizer.word_index) + 1, output_dim=32,\n",
    "                        input_length=max_length, trainable=False))\n",
    "rnn_model.add(SimpleRNN(1, activation='relu', return_sequences=True))\n",
    "rnn_model.add(TimeDistributed(Dense(len(Y[0][0]), activation='softmax')))\n",
    "rnn_model.summary()"
   ]
  },
  {
   "cell_type": "code",
   "execution_count": 101,
   "id": "d60a0eea",
   "metadata": {
    "ExecuteTime": {
     "end_time": "2023-10-22T14:12:53.096938895Z",
     "start_time": "2023-10-22T14:12:53.004152500Z"
    }
   },
   "outputs": [
    {
     "data": {
      "text/plain": "<keras.src.engine.sequential.Sequential at 0x7f9b84d46210>"
     },
     "execution_count": 101,
     "metadata": {},
     "output_type": "execute_result"
    }
   ],
   "source": [
    "compile_model(rnn_model, optimizer='adam', loss='categorical_crossentropy')"
   ]
  },
  {
   "cell_type": "code",
   "execution_count": 104,
   "id": "7bef7bae",
   "metadata": {
    "ExecuteTime": {
     "end_time": "2023-10-22T14:15:22.981537596Z",
     "start_time": "2023-10-22T14:13:55.653230613Z"
    }
   },
   "outputs": [
    {
     "name": "stdout",
     "output_type": "stream",
     "text": [
      "Epoch 1/50\n",
      " 3/49 [>.............................] - ETA: 1s - loss: 0.4345 - acc: 0.9252"
     ]
    },
    {
     "name": "stderr",
     "output_type": "stream",
     "text": [
      "2023-10-22 16:13:55.688126: W tensorflow/tsl/framework/cpu_allocator_impl.cc:83] Allocation of 54304064 exceeds 10% of free system memory.\n"
     ]
    },
    {
     "name": "stdout",
     "output_type": "stream",
     "text": [
      "49/49 [==============================] - 2s 36ms/step - loss: 0.4375 - acc: 0.9227 - val_loss: 0.4299 - val_acc: 0.9235\n",
      "Epoch 2/50\n",
      "49/49 [==============================] - 2s 36ms/step - loss: 0.4275 - acc: 0.9230 - val_loss: 0.4201 - val_acc: 0.9238\n",
      "Epoch 3/50\n",
      "49/49 [==============================] - 2s 35ms/step - loss: 0.4184 - acc: 0.9232 - val_loss: 0.4125 - val_acc: 0.9236\n",
      "Epoch 4/50\n",
      "49/49 [==============================] - 2s 35ms/step - loss: 0.4106 - acc: 0.9232 - val_loss: 0.4039 - val_acc: 0.9241\n",
      "Epoch 5/50\n",
      "49/49 [==============================] - 2s 36ms/step - loss: 0.4022 - acc: 0.9235 - val_loss: 0.3956 - val_acc: 0.9244\n",
      "Epoch 6/50\n",
      "49/49 [==============================] - 2s 40ms/step - loss: 0.3948 - acc: 0.9236 - val_loss: 0.3893 - val_acc: 0.9242\n",
      "Epoch 7/50\n",
      "49/49 [==============================] - 2s 35ms/step - loss: 0.3880 - acc: 0.9238 - val_loss: 0.3819 - val_acc: 0.9246\n",
      "Epoch 8/50\n",
      "49/49 [==============================] - 2s 38ms/step - loss: 0.3808 - acc: 0.9240 - val_loss: 0.3753 - val_acc: 0.9248\n",
      "Epoch 9/50\n",
      "49/49 [==============================] - 2s 37ms/step - loss: 0.3752 - acc: 0.9240 - val_loss: 0.3696 - val_acc: 0.9249\n",
      "Epoch 10/50\n",
      "49/49 [==============================] - 2s 39ms/step - loss: 0.3689 - acc: 0.9243 - val_loss: 0.3633 - val_acc: 0.9251\n",
      "Epoch 11/50\n",
      "49/49 [==============================] - 2s 39ms/step - loss: 0.3633 - acc: 0.9244 - val_loss: 0.3585 - val_acc: 0.9251\n",
      "Epoch 12/50\n",
      "49/49 [==============================] - 2s 35ms/step - loss: 0.3581 - acc: 0.9245 - val_loss: 0.3528 - val_acc: 0.9254\n",
      "Epoch 13/50\n",
      "49/49 [==============================] - 2s 39ms/step - loss: 0.3528 - acc: 0.9247 - val_loss: 0.3485 - val_acc: 0.9253\n",
      "Epoch 14/50\n",
      "49/49 [==============================] - 2s 38ms/step - loss: 0.3483 - acc: 0.9247 - val_loss: 0.3434 - val_acc: 0.9256\n",
      "Epoch 15/50\n",
      "49/49 [==============================] - 2s 39ms/step - loss: 0.3434 - acc: 0.9250 - val_loss: 0.3391 - val_acc: 0.9257\n",
      "Epoch 16/50\n",
      "49/49 [==============================] - 2s 39ms/step - loss: 0.3394 - acc: 0.9250 - val_loss: 0.3347 - val_acc: 0.9258\n",
      "Epoch 17/50\n",
      "49/49 [==============================] - 2s 39ms/step - loss: 0.3349 - acc: 0.9252 - val_loss: 0.3308 - val_acc: 0.9259\n",
      "Epoch 18/50\n",
      "49/49 [==============================] - 2s 44ms/step - loss: 0.3312 - acc: 0.9252 - val_loss: 0.3267 - val_acc: 0.9260\n",
      "Epoch 19/50\n",
      "49/49 [==============================] - 2s 39ms/step - loss: 0.3272 - acc: 0.9254 - val_loss: 0.3233 - val_acc: 0.9260\n",
      "Epoch 20/50\n",
      "49/49 [==============================] - 2s 37ms/step - loss: 0.3238 - acc: 0.9255 - val_loss: 0.3195 - val_acc: 0.9262\n",
      "Epoch 21/50\n",
      "49/49 [==============================] - 2s 34ms/step - loss: 0.3203 - acc: 0.9257 - val_loss: 0.3164 - val_acc: 0.9262\n",
      "Epoch 22/50\n",
      "49/49 [==============================] - 2s 35ms/step - loss: 0.3170 - acc: 0.9258 - val_loss: 0.3128 - val_acc: 0.9264\n",
      "Epoch 23/50\n",
      "49/49 [==============================] - 2s 33ms/step - loss: 0.3140 - acc: 0.9258 - val_loss: 0.3100 - val_acc: 0.9265\n",
      "Epoch 24/50\n",
      "49/49 [==============================] - 2s 34ms/step - loss: 0.3108 - acc: 0.9259 - val_loss: 0.3072 - val_acc: 0.9266\n",
      "Epoch 25/50\n",
      "49/49 [==============================] - 2s 34ms/step - loss: 0.3080 - acc: 0.9260 - val_loss: 0.3041 - val_acc: 0.9268\n",
      "Epoch 26/50\n",
      "49/49 [==============================] - 2s 34ms/step - loss: 0.3052 - acc: 0.9261 - val_loss: 0.3015 - val_acc: 0.9268\n",
      "Epoch 27/50\n",
      "49/49 [==============================] - 2s 35ms/step - loss: 0.3025 - acc: 0.9262 - val_loss: 0.2990 - val_acc: 0.9269\n",
      "Epoch 28/50\n",
      "49/49 [==============================] - 2s 33ms/step - loss: 0.3000 - acc: 0.9263 - val_loss: 0.2963 - val_acc: 0.9271\n",
      "Epoch 29/50\n",
      "49/49 [==============================] - 2s 33ms/step - loss: 0.2976 - acc: 0.9264 - val_loss: 0.2939 - val_acc: 0.9271\n",
      "Epoch 30/50\n",
      "49/49 [==============================] - 2s 33ms/step - loss: 0.2952 - acc: 0.9265 - val_loss: 0.2918 - val_acc: 0.9272\n",
      "Epoch 31/50\n",
      "49/49 [==============================] - 2s 34ms/step - loss: 0.2929 - acc: 0.9266 - val_loss: 0.2896 - val_acc: 0.9272\n",
      "Epoch 32/50\n",
      "49/49 [==============================] - 2s 34ms/step - loss: 0.2908 - acc: 0.9267 - val_loss: 0.2873 - val_acc: 0.9273\n",
      "Epoch 33/50\n",
      "49/49 [==============================] - 2s 34ms/step - loss: 0.2887 - acc: 0.9267 - val_loss: 0.2852 - val_acc: 0.9275\n",
      "Epoch 34/50\n",
      "49/49 [==============================] - 2s 35ms/step - loss: 0.2867 - acc: 0.9268 - val_loss: 0.2833 - val_acc: 0.9275\n",
      "Epoch 35/50\n",
      "49/49 [==============================] - 2s 34ms/step - loss: 0.2847 - acc: 0.9269 - val_loss: 0.2815 - val_acc: 0.9276\n",
      "Epoch 36/50\n",
      "49/49 [==============================] - 2s 35ms/step - loss: 0.2828 - acc: 0.9270 - val_loss: 0.2796 - val_acc: 0.9277\n",
      "Epoch 37/50\n",
      "49/49 [==============================] - 2s 36ms/step - loss: 0.2810 - acc: 0.9270 - val_loss: 0.2778 - val_acc: 0.9277\n",
      "Epoch 38/50\n",
      "49/49 [==============================] - 2s 34ms/step - loss: 0.2792 - acc: 0.9271 - val_loss: 0.2760 - val_acc: 0.9279\n",
      "Epoch 39/50\n",
      "49/49 [==============================] - 2s 34ms/step - loss: 0.2775 - acc: 0.9272 - val_loss: 0.2746 - val_acc: 0.9280\n",
      "Epoch 40/50\n",
      "49/49 [==============================] - 2s 35ms/step - loss: 0.2759 - acc: 0.9273 - val_loss: 0.2727 - val_acc: 0.9280\n",
      "Epoch 41/50\n",
      "49/49 [==============================] - 2s 35ms/step - loss: 0.2743 - acc: 0.9273 - val_loss: 0.2711 - val_acc: 0.9281\n",
      "Epoch 42/50\n",
      "49/49 [==============================] - 2s 33ms/step - loss: 0.2728 - acc: 0.9274 - val_loss: 0.2696 - val_acc: 0.9281\n",
      "Epoch 43/50\n",
      "49/49 [==============================] - 2s 34ms/step - loss: 0.2713 - acc: 0.9274 - val_loss: 0.2682 - val_acc: 0.9282\n",
      "Epoch 44/50\n",
      "49/49 [==============================] - 2s 34ms/step - loss: 0.2699 - acc: 0.9275 - val_loss: 0.2667 - val_acc: 0.9282\n",
      "Epoch 45/50\n",
      "49/49 [==============================] - 2s 34ms/step - loss: 0.2685 - acc: 0.9276 - val_loss: 0.2654 - val_acc: 0.9283\n",
      "Epoch 46/50\n",
      "49/49 [==============================] - 2s 35ms/step - loss: 0.2671 - acc: 0.9276 - val_loss: 0.2641 - val_acc: 0.9283\n",
      "Epoch 47/50\n",
      "49/49 [==============================] - 2s 34ms/step - loss: 0.2658 - acc: 0.9277 - val_loss: 0.2628 - val_acc: 0.9284\n",
      "Epoch 48/50\n",
      "49/49 [==============================] - 2s 33ms/step - loss: 0.2645 - acc: 0.9278 - val_loss: 0.2616 - val_acc: 0.9284\n",
      "Epoch 49/50\n",
      "49/49 [==============================] - 2s 34ms/step - loss: 0.2633 - acc: 0.9278 - val_loss: 0.2604 - val_acc: 0.9284\n",
      "Epoch 50/50\n",
      "49/49 [==============================] - 2s 35ms/step - loss: 0.2621 - acc: 0.9279 - val_loss: 0.2592 - val_acc: 0.9285\n"
     ]
    }
   ],
   "source": [
    "m_history = train_model(rnn_model, epochs=50, batch_size=64)"
   ]
  },
  {
   "cell_type": "code",
   "execution_count": 114,
   "outputs": [
    {
     "data": {
      "text/plain": "<Figure size 640x480 with 1 Axes>",
      "image/png": "[encoded data removed]"
     },
     "metadata": {},
     "output_type": "display_data"
    }
   ],
   "source": [
    "plt.plot(m_history.history['acc'])\n",
    "plt.plot(m_history.history['val_acc'])\n",
    "plt.title('model accuracy')\n",
    "plt.ylabel('accuracy')\n",
    "plt.ylim(0, 1)\n",
    "plt.xlabel('epoch')\n",
    "plt.legend(['train', 'test'], loc=\"lower right\")\n",
    "plt.show()"
   ],
   "metadata": {
    "collapsed": false,
    "ExecuteTime": {
     "end_time": "2023-10-22T14:18:11.332512531Z",
     "start_time": "2023-10-22T14:18:11.160106023Z"
    }
   },
   "id": "11ec5b9faa470d77"
  },
  {
   "cell_type": "markdown",
   "id": "bd5a1ad2",
   "metadata": {},
   "source": [
    "### Exercise 19\n",
    "Retrain the model with an LSTM. \n",
    "This should work faster, and yield better results.\n",
    "Define, compile and fit your model."
   ]
  },
  {
   "cell_type": "code",
   "execution_count": 105,
   "id": "e2127a8f",
   "metadata": {
    "ExecuteTime": {
     "end_time": "2023-10-22T14:15:23.114417582Z",
     "start_time": "2023-10-22T14:15:22.983251415Z"
    }
   },
   "outputs": [
    {
     "name": "stdout",
     "output_type": "stream",
     "text": [
      "Model: \"sequential_12\"\n",
      "_________________________________________________________________\n",
      " Layer (type)                Output Shape              Param #   \n",
      "=================================================================\n",
      " embedding_12 (Embedding)    (None, 271, 32)           364736    \n",
      "                                                                 \n",
      " lstm_4 (LSTM)               (None, 271, 1)            136       \n",
      "                                                                 \n",
      " time_distributed_1 (TimeDi  (None, 271, 16)           32        \n",
      " stributed)                                                      \n",
      "                                                                 \n",
      "=================================================================\n",
      "Total params: 364904 (1.39 MB)\n",
      "Trainable params: 168 (672.00 Byte)\n",
      "Non-trainable params: 364736 (1.39 MB)\n",
      "_________________________________________________________________\n"
     ]
    }
   ],
   "source": [
    "lstm_model = Sequential()\n",
    "lstm_model.add(Embedding(input_dim=len(tokenizer.word_index) + 1, output_dim=32,\n",
    "                         input_length=max_length, trainable=False))\n",
    "lstm_model.add(LSTM(1, activation='relu', return_sequences=True))\n",
    "lstm_model.add(TimeDistributed(Dense(len(Y[0][0]), activation='softmax')))\n",
    "lstm_model.summary()"
   ]
  },
  {
   "cell_type": "code",
   "execution_count": 106,
   "id": "3831fecc",
   "metadata": {
    "ExecuteTime": {
     "end_time": "2023-10-22T14:15:23.115116213Z",
     "start_time": "2023-10-22T14:15:23.104808715Z"
    }
   },
   "outputs": [
    {
     "data": {
      "text/plain": "<keras.src.engine.sequential.Sequential at 0x7f9b73d69c90>"
     },
     "execution_count": 106,
     "metadata": {},
     "output_type": "execute_result"
    }
   ],
   "source": [
    "compile_model(lstm_model, optimizer='adam', loss='categorical_crossentropy')"
   ]
  },
  {
   "cell_type": "code",
   "execution_count": 107,
   "id": "f6b7319e",
   "metadata": {
    "ExecuteTime": {
     "end_time": "2023-10-22T14:16:42.236559173Z",
     "start_time": "2023-10-22T14:15:23.105054613Z"
    }
   },
   "outputs": [
    {
     "name": "stdout",
     "output_type": "stream",
     "text": [
      "Epoch 1/25\n"
     ]
    },
    {
     "name": "stderr",
     "output_type": "stream",
     "text": [
      "2023-10-22 16:15:23.334985: W tensorflow/tsl/framework/cpu_allocator_impl.cc:83] Allocation of 54304064 exceeds 10% of free system memory.\n"
     ]
    },
    {
     "name": "stdout",
     "output_type": "stream",
     "text": [
      "49/49 [==============================] - 5s 68ms/step - loss: 2.7327 - acc: 0.6131 - val_loss: 2.6874 - val_acc: 0.9063\n",
      "Epoch 2/25\n",
      "49/49 [==============================] - 3s 63ms/step - loss: 2.6317 - acc: 0.9048 - val_loss: 2.5497 - val_acc: 0.9063\n",
      "Epoch 3/25\n",
      "49/49 [==============================] - 3s 62ms/step - loss: 2.2922 - acc: 0.9048 - val_loss: 1.8135 - val_acc: 0.9063\n",
      "Epoch 4/25\n",
      "49/49 [==============================] - 3s 62ms/step - loss: 1.1206 - acc: 0.9048 - val_loss: 0.6990 - val_acc: 0.9063\n",
      "Epoch 5/25\n",
      "49/49 [==============================] - 3s 65ms/step - loss: 0.6475 - acc: 0.9048 - val_loss: 0.6005 - val_acc: 0.9063\n",
      "Epoch 6/25\n",
      "49/49 [==============================] - 3s 62ms/step - loss: 0.5837 - acc: 0.9048 - val_loss: 0.5557 - val_acc: 0.9063\n",
      "Epoch 7/25\n",
      "49/49 [==============================] - 3s 62ms/step - loss: 0.5463 - acc: 0.9048 - val_loss: 0.5254 - val_acc: 0.9063\n",
      "Epoch 8/25\n",
      "49/49 [==============================] - 3s 64ms/step - loss: 0.5198 - acc: 0.9048 - val_loss: 0.5028 - val_acc: 0.9063\n",
      "Epoch 9/25\n",
      "49/49 [==============================] - 3s 62ms/step - loss: 0.4991 - acc: 0.9048 - val_loss: 0.4845 - val_acc: 0.9063\n",
      "Epoch 10/25\n",
      "49/49 [==============================] - 3s 61ms/step - loss: 0.4820 - acc: 0.9048 - val_loss: 0.4690 - val_acc: 0.9063\n",
      "Epoch 11/25\n",
      "49/49 [==============================] - 3s 62ms/step - loss: 0.4673 - acc: 0.9048 - val_loss: 0.4554 - val_acc: 0.9063\n",
      "Epoch 12/25\n",
      "49/49 [==============================] - 3s 59ms/step - loss: 0.4542 - acc: 0.9048 - val_loss: 0.4432 - val_acc: 0.9063\n",
      "Epoch 13/25\n",
      "49/49 [==============================] - 3s 59ms/step - loss: 0.4422 - acc: 0.9048 - val_loss: 0.4319 - val_acc: 0.9063\n",
      "Epoch 14/25\n",
      "49/49 [==============================] - 3s 60ms/step - loss: 0.4312 - acc: 0.9048 - val_loss: 0.4213 - val_acc: 0.9063\n",
      "Epoch 15/25\n",
      "49/49 [==============================] - 3s 64ms/step - loss: 0.4207 - acc: 0.9048 - val_loss: 0.4111 - val_acc: 0.9063\n",
      "Epoch 16/25\n",
      "49/49 [==============================] - 3s 61ms/step - loss: 0.4106 - acc: 0.9048 - val_loss: 0.4013 - val_acc: 0.9063\n",
      "Epoch 17/25\n",
      "49/49 [==============================] - 3s 62ms/step - loss: 0.4008 - acc: 0.9048 - val_loss: 0.3917 - val_acc: 0.9063\n",
      "Epoch 18/25\n",
      "49/49 [==============================] - 3s 66ms/step - loss: 0.3912 - acc: 0.9048 - val_loss: 0.3824 - val_acc: 0.9063\n",
      "Epoch 19/25\n",
      "49/49 [==============================] - 3s 61ms/step - loss: 0.3820 - acc: 0.9048 - val_loss: 0.3734 - val_acc: 0.9063\n",
      "Epoch 20/25\n",
      "49/49 [==============================] - 3s 64ms/step - loss: 0.3732 - acc: 0.9048 - val_loss: 0.3649 - val_acc: 0.9063\n",
      "Epoch 21/25\n",
      "49/49 [==============================] - 3s 61ms/step - loss: 0.3649 - acc: 0.9048 - val_loss: 0.3571 - val_acc: 0.9063\n",
      "Epoch 22/25\n",
      "49/49 [==============================] - 3s 63ms/step - loss: 0.3573 - acc: 0.9048 - val_loss: 0.3499 - val_acc: 0.9063\n",
      "Epoch 23/25\n",
      "49/49 [==============================] - 3s 66ms/step - loss: 0.3505 - acc: 0.9048 - val_loss: 0.3434 - val_acc: 0.9063\n",
      "Epoch 24/25\n",
      "49/49 [==============================] - 3s 65ms/step - loss: 0.3443 - acc: 0.9048 - val_loss: 0.3376 - val_acc: 0.9063\n",
      "Epoch 25/25\n",
      "49/49 [==============================] - 3s 64ms/step - loss: 0.3387 - acc: 0.9048 - val_loss: 0.3323 - val_acc: 0.9063\n"
     ]
    }
   ],
   "source": [
    "m_history = train_model(lstm_model, epochs=25, batch_size=64)"
   ]
  },
  {
   "cell_type": "code",
   "execution_count": 108,
   "outputs": [
    {
     "data": {
      "text/plain": "<Figure size 640x480 with 1 Axes>",
      "image/png": "[encoded data removed]"
     },
     "metadata": {},
     "output_type": "display_data"
    }
   ],
   "source": [
    "plt.plot(m_history.history['acc'])\n",
    "plt.plot(m_history.history['val_acc'])\n",
    "plt.title('model accuracy')\n",
    "plt.ylabel('accuracy')\n",
    "plt.ylim(0, 1)\n",
    "plt.xlabel('epoch')\n",
    "plt.legend(['train', 'test'], loc=\"lower right\")\n",
    "plt.show()"
   ],
   "metadata": {
    "collapsed": false,
    "ExecuteTime": {
     "end_time": "2023-10-22T14:16:42.414869421Z",
     "start_time": "2023-10-22T14:16:42.252883531Z"
    }
   },
   "id": "f82e267e3ece40de"
  },
  {
   "cell_type": "markdown",
   "id": "ee15cb3d",
   "metadata": {},
   "source": [
    "### Exercise 20\n",
    "Retrain the model with a GRU. "
   ]
  },
  {
   "cell_type": "code",
   "execution_count": 109,
   "id": "f42b9da1",
   "metadata": {
    "ExecuteTime": {
     "end_time": "2023-10-22T14:16:42.633496874Z",
     "start_time": "2023-10-22T14:16:42.419043281Z"
    }
   },
   "outputs": [
    {
     "name": "stdout",
     "output_type": "stream",
     "text": [
      "Model: \"sequential_13\"\n",
      "_________________________________________________________________\n",
      " Layer (type)                Output Shape              Param #   \n",
      "=================================================================\n",
      " embedding_13 (Embedding)    (None, 271, 32)           364736    \n",
      "                                                                 \n",
      " gru_2 (GRU)                 (None, 271, 1)            105       \n",
      "                                                                 \n",
      " time_distributed_2 (TimeDi  (None, 271, 16)           32        \n",
      " stributed)                                                      \n",
      "                                                                 \n",
      "=================================================================\n",
      "Total params: 364873 (1.39 MB)\n",
      "Trainable params: 137 (548.00 Byte)\n",
      "Non-trainable params: 364736 (1.39 MB)\n",
      "_________________________________________________________________\n"
     ]
    }
   ],
   "source": [
    "gru_model = Sequential()\n",
    "gru_model.add(Embedding(input_dim=len(tokenizer.word_index) + 1, output_dim=32, \n",
    "                        input_length=max_length, trainable=False))\n",
    "gru_model.add(GRU(1, activation='relu', return_sequences=True))\n",
    "gru_model.add(TimeDistributed(Dense(len(Y[0][0]), activation='softmax')))\n",
    "gru_model.summary()"
   ]
  },
  {
   "cell_type": "code",
   "execution_count": 110,
   "id": "ad31febf",
   "metadata": {
    "ExecuteTime": {
     "end_time": "2023-10-22T14:16:42.634160009Z",
     "start_time": "2023-10-22T14:16:42.581318373Z"
    }
   },
   "outputs": [
    {
     "data": {
      "text/plain": "<keras.src.engine.sequential.Sequential at 0x7f9b733d6650>"
     },
     "execution_count": 110,
     "metadata": {},
     "output_type": "execute_result"
    }
   ],
   "source": [
    "compile_model(gru_model, optimizer='adam', loss='categorical_crossentropy')"
   ]
  },
  {
   "cell_type": "code",
   "execution_count": 111,
   "id": "c52dce5a",
   "metadata": {
    "ExecuteTime": {
     "end_time": "2023-10-22T14:18:10.927685537Z",
     "start_time": "2023-10-22T14:16:42.581480640Z"
    }
   },
   "outputs": [
    {
     "name": "stdout",
     "output_type": "stream",
     "text": [
      "Epoch 1/25\n"
     ]
    },
    {
     "name": "stderr",
     "output_type": "stream",
     "text": [
      "2023-10-22 16:16:42.734941: W tensorflow/tsl/framework/cpu_allocator_impl.cc:83] Allocation of 54304064 exceeds 10% of free system memory.\n"
     ]
    },
    {
     "name": "stdout",
     "output_type": "stream",
     "text": [
      "49/49 [==============================] - 6s 84ms/step - loss: 2.7320 - acc: 0.9068 - val_loss: 2.6896 - val_acc: 0.9064\n",
      "Epoch 2/25\n",
      "49/49 [==============================] - 3s 70ms/step - loss: 2.6494 - acc: 0.9048 - val_loss: 2.6071 - val_acc: 0.9063\n",
      "Epoch 3/25\n",
      "49/49 [==============================] - 3s 69ms/step - loss: 2.5672 - acc: 0.9048 - val_loss: 2.5249 - val_acc: 0.9063\n",
      "Epoch 4/25\n",
      "49/49 [==============================] - 3s 69ms/step - loss: 2.4851 - acc: 0.9049 - val_loss: 2.4426 - val_acc: 0.9067\n",
      "Epoch 5/25\n",
      "49/49 [==============================] - 3s 70ms/step - loss: 2.4023 - acc: 0.9090 - val_loss: 2.3588 - val_acc: 0.9150\n",
      "Epoch 6/25\n",
      "49/49 [==============================] - 4s 74ms/step - loss: 2.3162 - acc: 0.9151 - val_loss: 2.2707 - val_acc: 0.9171\n",
      "Epoch 7/25\n",
      "49/49 [==============================] - 3s 68ms/step - loss: 2.2314 - acc: 0.9158 - val_loss: 2.1896 - val_acc: 0.9169\n",
      "Epoch 8/25\n",
      "49/49 [==============================] - 3s 69ms/step - loss: 2.1509 - acc: 0.9156 - val_loss: 2.1102 - val_acc: 0.9167\n",
      "Epoch 9/25\n",
      "49/49 [==============================] - 3s 70ms/step - loss: 2.0722 - acc: 0.9154 - val_loss: 2.0325 - val_acc: 0.9166\n",
      "Epoch 10/25\n",
      "49/49 [==============================] - 3s 68ms/step - loss: 1.9953 - acc: 0.9153 - val_loss: 1.9568 - val_acc: 0.9164\n",
      "Epoch 11/25\n",
      "49/49 [==============================] - 3s 69ms/step - loss: 1.9205 - acc: 0.9173 - val_loss: 1.8832 - val_acc: 0.9276\n",
      "Epoch 12/25\n",
      "49/49 [==============================] - 3s 69ms/step - loss: 1.8479 - acc: 0.9271 - val_loss: 1.8119 - val_acc: 0.9278\n",
      "Epoch 13/25\n",
      "49/49 [==============================] - 3s 68ms/step - loss: 1.7776 - acc: 0.9273 - val_loss: 1.7421 - val_acc: 0.9281\n",
      "Epoch 14/25\n",
      "49/49 [==============================] - 3s 69ms/step - loss: 1.7095 - acc: 0.9272 - val_loss: 1.6753 - val_acc: 0.9280\n",
      "Epoch 15/25\n",
      "49/49 [==============================] - 3s 68ms/step - loss: 1.6433 - acc: 0.9274 - val_loss: 1.6104 - val_acc: 0.9279\n",
      "Epoch 16/25\n",
      "49/49 [==============================] - 4s 73ms/step - loss: 1.5796 - acc: 0.9273 - val_loss: 1.5471 - val_acc: 0.9281\n",
      "Epoch 17/25\n",
      "49/49 [==============================] - 3s 69ms/step - loss: 1.5173 - acc: 0.9275 - val_loss: 1.4865 - val_acc: 0.9279\n",
      "Epoch 18/25\n",
      "49/49 [==============================] - 3s 69ms/step - loss: 1.4577 - acc: 0.9273 - val_loss: 1.4272 - val_acc: 0.9281\n",
      "Epoch 19/25\n",
      "49/49 [==============================] - 3s 70ms/step - loss: 1.3996 - acc: 0.9275 - val_loss: 1.3705 - val_acc: 0.9280\n",
      "Epoch 20/25\n",
      "49/49 [==============================] - 3s 70ms/step - loss: 1.3443 - acc: 0.9274 - val_loss: 1.3157 - val_acc: 0.9282\n",
      "Epoch 21/25\n",
      "49/49 [==============================] - 3s 69ms/step - loss: 1.2903 - acc: 0.9276 - val_loss: 1.2627 - val_acc: 0.9283\n",
      "Epoch 22/25\n",
      "49/49 [==============================] - 3s 69ms/step - loss: 1.2391 - acc: 0.9275 - val_loss: 1.2128 - val_acc: 0.9282\n",
      "Epoch 23/25\n",
      "49/49 [==============================] - 3s 71ms/step - loss: 1.1896 - acc: 0.9276 - val_loss: 1.1640 - val_acc: 0.9283\n",
      "Epoch 24/25\n",
      "49/49 [==============================] - 3s 69ms/step - loss: 1.1422 - acc: 0.9277 - val_loss: 1.1182 - val_acc: 0.9282\n",
      "Epoch 25/25\n",
      "49/49 [==============================] - 4s 73ms/step - loss: 1.0972 - acc: 0.9276 - val_loss: 1.0737 - val_acc: 0.9284\n"
     ]
    }
   ],
   "source": [
    "m_history = train_model(gru_model, epochs=25, batch_size=64)"
   ]
  },
  {
   "cell_type": "code",
   "execution_count": 112,
   "outputs": [
    {
     "data": {
      "text/plain": "<Figure size 640x480 with 1 Axes>",
      "image/png": "[encoded data removed]"
     },
     "metadata": {},
     "output_type": "display_data"
    }
   ],
   "source": [
    "plt.plot(m_history.history['acc'])\n",
    "plt.plot(m_history.history['val_acc'])\n",
    "plt.title('model accuracy')\n",
    "plt.ylabel('accuracy')\n",
    "plt.ylim(0, 1)\n",
    "plt.xlabel('epoch')\n",
    "plt.legend(['train', 'test'], loc=\"lower right\")\n",
    "plt.show()"
   ],
   "metadata": {
    "collapsed": false,
    "ExecuteTime": {
     "end_time": "2023-10-22T14:18:11.093464104Z",
     "start_time": "2023-10-22T14:18:10.953772234Z"
    }
   },
   "id": "2ca21a64fcca93ab"
  },
  {
   "cell_type": "markdown",
   "id": "140d4d8c",
   "metadata": {},
   "source": [
    "### Exercise 21\n",
    "Save one of your models (the one with the best performance) as an h5 file. This is a straightforward operation, refer to [here](https://keras.io/api/models/model_saving_apis/).\n",
    "\n",
    "You will use it on the **regular** part of the assignment to make inferences."
   ]
  },
  {
   "cell_type": "code",
   "execution_count": 118,
   "outputs": [
    {
     "name": "stderr",
     "output_type": "stream",
     "text": [
      "/home/alexeykovzel/Projects/nlp-advanced-lab/venv/lib/python3.11/site-packages/keras/src/engine/training.py:3000: UserWarning: You are saving your model as an HDF5 file via `model.save()`. This file format is considered legacy. We recommend using instead the native Keras format, e.g. `model.save('my_model.keras')`.\n",
      "  saving_api.save_model(\n"
     ]
    }
   ],
   "source": [
    "gru_model.save('gru_model_group6', save_format='h5')"
   ],
   "metadata": {
    "collapsed": false,
    "ExecuteTime": {
     "end_time": "2023-10-22T14:20:38.178461422Z",
     "start_time": "2023-10-22T14:20:38.125159242Z"
    }
   },
   "id": "fdc1ebc91fab131f"
  }
 ],
 "metadata": {
  "kernelspec": {
   "display_name": "Python 3 (ipykernel)",
   "language": "python",
   "name": "python3"
  },
  "language_info": {
   "codemirror_mode": {
    "name": "ipython",
    "version": 3
   },
   "file_extension": ".py",
   "mimetype": "text/x-python",
   "name": "python",
   "nbconvert_exporter": "python",
   "pygments_lexer": "ipython3",
   "version": "3.11.5"
  }
 },
 "nbformat": 4,
 "nbformat_minor": 5
}
