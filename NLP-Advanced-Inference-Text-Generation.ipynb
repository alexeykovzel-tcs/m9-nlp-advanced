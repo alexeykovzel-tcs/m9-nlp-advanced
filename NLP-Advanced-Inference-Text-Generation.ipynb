{
 "cells": [
  {
   "cell_type": "markdown",
   "id": "b1f39de4",
   "metadata": {},
   "source": [
    "# Regular Part\n",
    "The first section of the regular-level exercises, we will explore how to use our saved model to make predictions on unseen data.\n",
    "\n",
    "Please return a Jupyter notebook as a submission in Canvas, to make the grading easier for us."
   ]
  },
  {
   "cell_type": "code",
   "execution_count": 12,
   "id": "0dc5ab93",
   "metadata": {},
   "outputs": [],
   "source": [
    "#Import the necessary libraries here"
   ]
  },
  {
   "cell_type": "markdown",
   "id": "326623fa",
   "metadata": {},
   "source": [
    "### Exercise 1\n",
    "Refer to Keras again on how to load your saved model, [here](https://www.tensorflow.org/guide/keras/save_and_serialize)."
   ]
  },
  {
   "cell_type": "code",
   "execution_count": 3,
   "id": "6154cbd7",
   "metadata": {},
   "outputs": [],
   "source": [
    "#add code here"
   ]
  },
  {
   "cell_type": "code",
   "execution_count": 4,
   "id": "ef914510",
   "metadata": {},
   "outputs": [],
   "source": [
    "Corpus=['The articles in this special section focus on using natural language generation techniques (NLG) and natural language processing (NLP) to build computational systems that generate reports and other kinds of text in human languages.',\n",
    "        'NLG uses analytics, AI, and NLP to obtain relevant information about non-linguistic data and to generate textual summaries and explanations of these data which help people understand and benefit from them.',\n",
    "        'In this regard, NLG is a research field that addresses the data-value chain by using natural language as a tool for bridging the gap between raw data and valuable information communicated to users in a comprehensible way, adapted to their information needs.']"
   ]
  },
  {
   "cell_type": "markdown",
   "id": "dfb18c2a",
   "metadata": {},
   "source": [
    "a. We want to be able to tag the three sentences in the corpus above [source](https://ieeexplore.ieee.org/document/7983468).\n",
    "\n",
    "Figure out the necessary steps that should precede passing the input into your **h5** model.\n"
   ]
  },
  {
   "cell_type": "code",
   "execution_count": 9,
   "id": "29db65b0",
   "metadata": {},
   "outputs": [],
   "source": [
    "#Your code goes here"
   ]
  },
  {
   "cell_type": "markdown",
   "id": "55fc4d74",
   "metadata": {},
   "source": [
    "b. Use the model to make the predictions on this dataset"
   ]
  },
  {
   "cell_type": "code",
   "execution_count": 10,
   "id": "7e6082f1",
   "metadata": {
    "scrolled": true
   },
   "outputs": [
    {
     "name": "stdout",
     "output_type": "stream",
     "text": [
      "1/1 [==============================] - 4s 4s/step\n"
     ]
    }
   ],
   "source": [
    "#Your code goes here"
   ]
  },
  {
   "cell_type": "markdown",
   "id": "b56e7cab",
   "metadata": {},
   "source": [
    "c. Tag the corpus above"
   ]
  },
  {
   "cell_type": "code",
   "execution_count": 15,
   "id": "96a2d484",
   "metadata": {},
   "outputs": [],
   "source": [
    "#Your code goes here"
   ]
  },
  {
   "cell_type": "markdown",
   "id": "015b9166",
   "metadata": {},
   "source": [
    "d. Save the corpus and the predictions on a file, and upload it with your submission on Canvas."
   ]
  },
  {
   "cell_type": "code",
   "execution_count": null,
   "id": "3c2135fc",
   "metadata": {},
   "outputs": [],
   "source": []
  },
  {
   "cell_type": "markdown",
   "id": "fbeb26ab",
   "metadata": {},
   "source": [
    "## Advanced part\n",
    "\n",
    "Use a scraping library, [Beautiful Soup](https://beautiful-soup-4.readthedocs.io/en/latest/) should work, but feel free to choose anything you wish.\n",
    "\n",
    "Scrape some publicly available text (public speeches, lyrics, poetry..etc), and build a corpus of your own.\n",
    "\n",
    "Use a one-to-many RNN (any RNN you want, vanilla, LSTM, GRU or a biderectional version, etc.) to perform some natural language generation resembling the corpus your model was trained on.\n",
    "\n",
    "You don't have to train the model for hours, just show that your model works.\n"
   ]
  },
  {
   "cell_type": "code",
   "execution_count": 1,
   "id": "ac3958de",
   "metadata": {},
   "outputs": [],
   "source": [
    "#Add your code here"
   ]
  }
 ],
 "metadata": {
  "kernelspec": {
   "display_name": "Python 3 (ipykernel)",
   "language": "python",
   "name": "python3"
  },
  "language_info": {
   "codemirror_mode": {
    "name": "ipython",
    "version": 3
   },
   "file_extension": ".py",
   "mimetype": "text/x-python",
   "name": "python",
   "nbconvert_exporter": "python",
   "pygments_lexer": "ipython3",
   "version": "3.9.12"
  }
 },
 "nbformat": 4,
 "nbformat_minor": 5
}
